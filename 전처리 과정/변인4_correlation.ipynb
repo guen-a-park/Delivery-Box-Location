{
  "nbformat": 4,
  "nbformat_minor": 0,
  "metadata": {
    "colab": {
      "name": "변인4 correlation.ipynb",
      "provenance": [],
      "include_colab_link": true
    },
    "kernelspec": {
      "display_name": "Python 3",
      "name": "python3"
    },
    "language_info": {
      "name": "python"
    }
  },
  "cells": [
    {
      "cell_type": "markdown",
      "metadata": {
        "id": "view-in-github",
        "colab_type": "text"
      },
      "source": [
        "<a href=\"https://colab.research.google.com/github/guen-a-park/Parcel-locker-Innov/blob/main/%EB%B3%80%EC%9D%B84_correlation.ipynb\" target=\"_parent\"><img src=\"https://colab.research.google.com/assets/colab-badge.svg\" alt=\"Open In Colab\"/></a>"
      ]
    },
    {
      "cell_type": "code",
      "metadata": {
        "id": "CR5zBkLts4d4"
      },
      "source": [
        "import os.path\n",
        "import pandas as pd\n",
        "import seaborn as sns\n",
        "import numpy as np\n",
        "import matplotlib.pyplot as plt\n",
        "\n",
        "%config InlineBackend.figure_format = 'retina'\n",
        " \n",
        "#한글깨지는 문제\n",
        "!apt-get update -qq\n",
        "!apt-get install fonts-nanum* -qq\n",
        "import matplotlib.font_manager as fm\n",
        "path = '/usr/share/fonts/truetype/nanum/NanumGothicEco.ttf'\n",
        "font_name = fm.FontProperties(fname=path, size=10).get_name()\n",
        "plt.rc('font', family=font_name)\n",
        "fm._rebuild()\n"
      ],
      "execution_count": null,
      "outputs": []
    },
    {
      "cell_type": "code",
      "metadata": {
        "colab": {
          "base_uri": "https://localhost:8080/"
        },
        "id": "anx1-rXMtOgm",
        "outputId": "fe4e4fd3-a0e4-4ac7-d9ee-056908e40707"
      },
      "source": [
        "from google.colab import drive\n",
        "drive.mount('/content/drive')"
      ],
      "execution_count": 2,
      "outputs": [
        {
          "output_type": "stream",
          "name": "stdout",
          "text": [
            "Mounted at /content/drive\n"
          ]
        }
      ]
    },
    {
      "cell_type": "code",
      "metadata": {
        "colab": {
          "base_uri": "https://localhost:8080/"
        },
        "id": "CgdDfKqktIhg",
        "outputId": "14103721-6fdd-49a6-bbd8-8defda3d257c"
      },
      "source": [
        "%cd /content/drive/MyDrive/공공 빅데이터 분석 공모전/공모전 데이터"
      ],
      "execution_count": 3,
      "outputs": [
        {
          "output_type": "stream",
          "name": "stdout",
          "text": [
            "/content/drive/MyDrive/공공 빅데이터 분석 공모전/공모전 데이터\n"
          ]
        }
      ]
    },
    {
      "cell_type": "code",
      "metadata": {
        "colab": {
          "base_uri": "https://localhost:8080/",
          "height": 203
        },
        "id": "8OYY5Dl2iui1",
        "outputId": "beb9db73-2710-4457-b190-11ebeefffa1a"
      },
      "source": [
        "#csv 읽어오기\n",
        "data = pd.read_csv('correlation2.csv',engine='python',encoding='CP949')\n",
        "data.head(5)"
      ],
      "execution_count": 4,
      "outputs": [
        {
          "output_type": "execute_result",
          "data": {
            "text/html": [
              "<div>\n",
              "<style scoped>\n",
              "    .dataframe tbody tr th:only-of-type {\n",
              "        vertical-align: middle;\n",
              "    }\n",
              "\n",
              "    .dataframe tbody tr th {\n",
              "        vertical-align: top;\n",
              "    }\n",
              "\n",
              "    .dataframe thead th {\n",
              "        text-align: right;\n",
              "    }\n",
              "</style>\n",
              "<table border=\"1\" class=\"dataframe\">\n",
              "  <thead>\n",
              "    <tr style=\"text-align: right;\">\n",
              "      <th></th>\n",
              "      <th>loc</th>\n",
              "      <th>package</th>\n",
              "      <th>shopping</th>\n",
              "    </tr>\n",
              "  </thead>\n",
              "  <tbody>\n",
              "    <tr>\n",
              "      <th>0</th>\n",
              "      <td>종로구</td>\n",
              "      <td>2137</td>\n",
              "      <td>3.417695</td>\n",
              "    </tr>\n",
              "    <tr>\n",
              "      <th>1</th>\n",
              "      <td>중구</td>\n",
              "      <td>2852</td>\n",
              "      <td>3.545941</td>\n",
              "    </tr>\n",
              "    <tr>\n",
              "      <th>2</th>\n",
              "      <td>용산구</td>\n",
              "      <td>2656</td>\n",
              "      <td>4.732923</td>\n",
              "    </tr>\n",
              "    <tr>\n",
              "      <th>3</th>\n",
              "      <td>광진구</td>\n",
              "      <td>5326</td>\n",
              "      <td>4.070027</td>\n",
              "    </tr>\n",
              "    <tr>\n",
              "      <th>4</th>\n",
              "      <td>동대문구</td>\n",
              "      <td>3001</td>\n",
              "      <td>2.923170</td>\n",
              "    </tr>\n",
              "  </tbody>\n",
              "</table>\n",
              "</div>"
            ],
            "text/plain": [
              "    loc  package  shopping\n",
              "0   종로구     2137  3.417695\n",
              "1    중구     2852  3.545941\n",
              "2   용산구     2656  4.732923\n",
              "3   광진구     5326  4.070027\n",
              "4  동대문구     3001  2.923170"
            ]
          },
          "metadata": {},
          "execution_count": 4
        }
      ]
    },
    {
      "cell_type": "code",
      "metadata": {
        "id": "2ls9Rx2zuRnr",
        "colab": {
          "base_uri": "https://localhost:8080/"
        },
        "outputId": "3186c906-e943-4c2e-bd63-c9cd97ee6d9d"
      },
      "source": [
        "#set1_B1 = data.iloc[:,1:3]\n",
        "set1_B1 = data\n",
        "corrmat1 = set1_B1.corr()\n",
        "top_corr_features1 = corrmat1.index\n",
        "print(top_corr_features1) #왜 shopping만 뽑히는지"
      ],
      "execution_count": 5,
      "outputs": [
        {
          "output_type": "stream",
          "name": "stdout",
          "text": [
            "Index(['package', 'shopping'], dtype='object')\n"
          ]
        }
      ]
    },
    {
      "cell_type": "code",
      "metadata": {
        "id": "ArJpgKtQuRip",
        "colab": {
          "base_uri": "https://localhost:8080/",
          "height": 341
        },
        "outputId": "c80e70ef-da47-40c2-8f78-2dbed6456ac7"
      },
      "source": [
        "\n",
        "#plot 그리기\n",
        "plt.figure(figsize=(5,5))\n",
        "g1=sns.heatmap(set1_B1[top_corr_features1].corr(),annot=True,cmap=\"YlGnBu\")"
      ],
      "execution_count": 6,
      "outputs": [
        {
          "output_type": "stream",
          "name": "stderr",
          "text": [
            "findfont: Font family ['NanumGothic Eco'] not found. Falling back to DejaVu Sans.\n"
          ]
        },
        {
          "output_type": "display_data",
          "data": {
            "image/png": "[encoded data removed]",
            "text/plain": [
              "<Figure size 360x360 with 2 Axes>"
            ]
          },
          "metadata": {
            "image/png": {
              "width": 304,
              "height": 306
            },
            "needs_background": "light"
          }
        }
      ]
    },
    {
      "cell_type": "code",
      "metadata": {
        "id": "dTKDfNnZemWL"
      },
      "source": [
        ""
      ],
      "execution_count": null,
      "outputs": []
    }
  ]
}
