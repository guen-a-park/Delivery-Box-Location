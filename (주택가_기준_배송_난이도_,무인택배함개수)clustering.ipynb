{
  "nbformat": 4,
  "nbformat_minor": 0,
  "metadata": {
    "colab": {
      "name": "(주택가 기준 배송 난이도 ,무인택배함개수)clustering.ipynb",
      "provenance": [],
      "collapsed_sections": [],
      "include_colab_link": true
    },
    "kernelspec": {
      "display_name": "Python 3",
      "name": "python3"
    },
    "language_info": {
      "name": "python"
    }
  },
  "cells": [
    {
      "cell_type": "markdown",
      "metadata": {
        "id": "view-in-github",
        "colab_type": "text"
      },
      "source": [
        "<a href=\"https://colab.research.google.com/github/guen-a-park/Parcel-locker-Innov/blob/main/(%EC%A3%BC%ED%83%9D%EA%B0%80_%EA%B8%B0%EC%A4%80_%EB%B0%B0%EC%86%A1_%EB%82%9C%EC%9D%B4%EB%8F%84_%2C%EB%AC%B4%EC%9D%B8%ED%83%9D%EB%B0%B0%ED%95%A8%EA%B0%9C%EC%88%98)clustering.ipynb\" target=\"_parent\"><img src=\"https://colab.research.google.com/assets/colab-badge.svg\" alt=\"Open In Colab\"/></a>"
      ]
    },
    {
      "cell_type": "code",
      "metadata": {
        "colab": {
          "base_uri": "https://localhost:8080/"
        },
        "id": "DlP_QSu-0v-h",
        "outputId": "3523d51d-0bc1-4414-e502-e19eefdc1837"
      },
      "source": [
        "!pip install plotly\n",
        "!pip install chart_studio\n",
        "import chart_studio\n",
        "chart_studio.tools.set_credentials_file(username='', api_key='')\n",
        "import chart_studio.plotly as py\n",
        "import plotly.express as px"
      ],
      "execution_count": null,
      "outputs": [
        {
          "output_type": "stream",
          "name": "stdout",
          "text": [
            "Requirement already satisfied: plotly in /usr/local/lib/python3.7/dist-packages (4.4.1)\n",
            "Requirement already satisfied: retrying>=1.3.3 in /usr/local/lib/python3.7/dist-packages (from plotly) (1.3.3)\n",
            "Requirement already satisfied: six in /usr/local/lib/python3.7/dist-packages (from plotly) (1.15.0)\n",
            "Collecting chart_studio\n",
            "  Downloading chart_studio-1.1.0-py3-none-any.whl (64 kB)\n",
            "\u001b[K     |████████████████████████████████| 64 kB 1.4 MB/s \n",
            "\u001b[?25hRequirement already satisfied: retrying>=1.3.3 in /usr/local/lib/python3.7/dist-packages (from chart_studio) (1.3.3)\n",
            "Requirement already satisfied: six in /usr/local/lib/python3.7/dist-packages (from chart_studio) (1.15.0)\n",
            "Requirement already satisfied: requests in /usr/local/lib/python3.7/dist-packages (from chart_studio) (2.23.0)\n",
            "Requirement already satisfied: plotly in /usr/local/lib/python3.7/dist-packages (from chart_studio) (4.4.1)\n",
            "Requirement already satisfied: idna<3,>=2.5 in /usr/local/lib/python3.7/dist-packages (from requests->chart_studio) (2.10)\n",
            "Requirement already satisfied: chardet<4,>=3.0.2 in /usr/local/lib/python3.7/dist-packages (from requests->chart_studio) (3.0.4)\n",
            "Requirement already satisfied: urllib3!=1.25.0,!=1.25.1,<1.26,>=1.21.1 in /usr/local/lib/python3.7/dist-packages (from requests->chart_studio) (1.24.3)\n",
            "Requirement already satisfied: certifi>=2017.4.17 in /usr/local/lib/python3.7/dist-packages (from requests->chart_studio) (2021.5.30)\n",
            "Installing collected packages: chart-studio\n",
            "Successfully installed chart-studio-1.1.0\n"
          ]
        }
      ]
    },
    {
      "cell_type": "markdown",
      "metadata": {
        "id": "FB0QzhnlLHOY"
      },
      "source": [
        "# **Visualize data points**"
      ]
    },
    {
      "cell_type": "code",
      "metadata": {
        "id": "CR5zBkLts4d4",
        "colab": {
          "base_uri": "https://localhost:8080/"
        },
        "outputId": "eabac2bf-00c4-4447-bb55-785f60d1d9fb"
      },
      "source": [
        "import os.path\n",
        "import pandas as pd\n",
        "import seaborn as sns\n",
        "import numpy as np\n",
        "import matplotlib.pyplot as plt\n",
        "\n",
        "%config InlineBackend.figure_format = 'retina'\n",
        " \n",
        "#한글깨지는 문제\n",
        "!apt-get update -qq\n",
        "!apt-get install fonts-nanum* -qq\n",
        "import matplotlib.font_manager as fm\n",
        "path = '/usr/share/fonts/truetype/nanum/NanumGothicEco.ttf'\n",
        "font_name = fm.FontProperties(fname=path, size=10).get_name()\n",
        "plt.rc('font', family=font_name)\n",
        "fm._rebuild()\n"
      ],
      "execution_count": null,
      "outputs": [
        {
          "output_type": "stream",
          "name": "stdout",
          "text": [
            "Selecting previously unselected package fonts-nanum.\n",
            "(Reading database ... 155047 files and directories currently installed.)\n",
            "Preparing to unpack .../fonts-nanum_20170925-1_all.deb ...\n",
            "Unpacking fonts-nanum (20170925-1) ...\n",
            "Selecting previously unselected package fonts-nanum-eco.\n",
            "Preparing to unpack .../fonts-nanum-eco_1.000-6_all.deb ...\n",
            "Unpacking fonts-nanum-eco (1.000-6) ...\n",
            "Selecting previously unselected package fonts-nanum-extra.\n",
            "Preparing to unpack .../fonts-nanum-extra_20170925-1_all.deb ...\n",
            "Unpacking fonts-nanum-extra (20170925-1) ...\n",
            "Selecting previously unselected package fonts-nanum-coding.\n",
            "Preparing to unpack .../fonts-nanum-coding_2.5-1_all.deb ...\n",
            "Unpacking fonts-nanum-coding (2.5-1) ...\n",
            "Setting up fonts-nanum-extra (20170925-1) ...\n",
            "Setting up fonts-nanum (20170925-1) ...\n",
            "Setting up fonts-nanum-coding (2.5-1) ...\n",
            "Setting up fonts-nanum-eco (1.000-6) ...\n",
            "Processing triggers for fontconfig (2.12.6-0ubuntu2) ...\n"
          ]
        }
      ]
    },
    {
      "cell_type": "code",
      "metadata": {
        "id": "WCnytKeHQKdF",
        "colab": {
          "base_uri": "https://localhost:8080/"
        },
        "outputId": "8fd348c5-5226-4c6a-d84c-c960ea1a70cb"
      },
      "source": [
        "from google.colab import drive\n",
        "drive.mount('/content/drive')"
      ],
      "execution_count": null,
      "outputs": [
        {
          "output_type": "stream",
          "name": "stdout",
          "text": [
            "Mounted at /content/drive\n"
          ]
        }
      ]
    },
    {
      "cell_type": "code",
      "metadata": {
        "id": "-H1RxtzqCF6i"
      },
      "source": [
        "%cd /content/drive/MyDrive"
      ],
      "execution_count": null,
      "outputs": []
    },
    {
      "cell_type": "code",
      "metadata": {
        "colab": {
          "base_uri": "https://localhost:8080/"
        },
        "id": "dLXff7kYQNaM",
        "outputId": "d96555bd-6e71-4226-d6d3-60f6c0b15152"
      },
      "source": [
        "#근아 경로\n",
        "%cd /content/drive/MyDrive/공공 빅데이터 분석 공모전/clustering"
      ],
      "execution_count": null,
      "outputs": [
        {
          "output_type": "stream",
          "name": "stdout",
          "text": [
            "/content/drive/MyDrive/공공 빅데이터 분석 공모전/clustering\n"
          ]
        }
      ]
    },
    {
      "cell_type": "code",
      "metadata": {
        "colab": {
          "base_uri": "https://localhost:8080/",
          "height": 417
        },
        "id": "xHje6B_CQPsL",
        "outputId": "eb39d895-a959-47a5-c99c-38e22dd52422"
      },
      "source": [
        "#csv 읽어오기\n",
        "data = pd.read_csv('clustering_example_4.csv',engine='python',encoding='CP949')\n",
        "# data = data.drop(index=365, axis=0)\n",
        "# data = data.head(424) #무인택배함개수 이상치 역삼동 제거\n",
        "data"
      ],
      "execution_count": null,
      "outputs": [
        {
          "output_type": "execute_result",
          "data": {
            "text/html": [
              "<div>\n",
              "<style scoped>\n",
              "    .dataframe tbody tr th:only-of-type {\n",
              "        vertical-align: middle;\n",
              "    }\n",
              "\n",
              "    .dataframe tbody tr th {\n",
              "        vertical-align: top;\n",
              "    }\n",
              "\n",
              "    .dataframe thead th {\n",
              "        text-align: right;\n",
              "    }\n",
              "</style>\n",
              "<table border=\"1\" class=\"dataframe\">\n",
              "  <thead>\n",
              "    <tr style=\"text-align: right;\">\n",
              "      <th></th>\n",
              "      <th>동</th>\n",
              "      <th>배송어려움정도</th>\n",
              "      <th>무인택배함개수</th>\n",
              "    </tr>\n",
              "  </thead>\n",
              "  <tbody>\n",
              "    <tr>\n",
              "      <th>0</th>\n",
              "      <td>서울특별시 종로구 사직동</td>\n",
              "      <td>0.168473</td>\n",
              "      <td>0.090909</td>\n",
              "    </tr>\n",
              "    <tr>\n",
              "      <th>1</th>\n",
              "      <td>서울특별시 종로구 삼청동</td>\n",
              "      <td>0.149564</td>\n",
              "      <td>0.000000</td>\n",
              "    </tr>\n",
              "    <tr>\n",
              "      <th>2</th>\n",
              "      <td>서울특별시 종로구 부암동</td>\n",
              "      <td>0.473959</td>\n",
              "      <td>0.000000</td>\n",
              "    </tr>\n",
              "    <tr>\n",
              "      <th>3</th>\n",
              "      <td>서울특별시 종로구 평창동</td>\n",
              "      <td>0.902926</td>\n",
              "      <td>0.000000</td>\n",
              "    </tr>\n",
              "    <tr>\n",
              "      <th>4</th>\n",
              "      <td>서울특별시 종로구 무악동</td>\n",
              "      <td>0.019806</td>\n",
              "      <td>0.181818</td>\n",
              "    </tr>\n",
              "    <tr>\n",
              "      <th>...</th>\n",
              "      <td>...</td>\n",
              "      <td>...</td>\n",
              "      <td>...</td>\n",
              "    </tr>\n",
              "    <tr>\n",
              "      <th>419</th>\n",
              "      <td>서울특별시 강동구 둔촌1동</td>\n",
              "      <td>0.000000</td>\n",
              "      <td>0.000000</td>\n",
              "    </tr>\n",
              "    <tr>\n",
              "      <th>420</th>\n",
              "      <td>서울특별시 강동구 둔촌2동</td>\n",
              "      <td>0.168147</td>\n",
              "      <td>0.090909</td>\n",
              "    </tr>\n",
              "    <tr>\n",
              "      <th>421</th>\n",
              "      <td>서울특별시 강동구 암사1동</td>\n",
              "      <td>0.355123</td>\n",
              "      <td>0.181818</td>\n",
              "    </tr>\n",
              "    <tr>\n",
              "      <th>422</th>\n",
              "      <td>서울특별시 강동구 천호2동</td>\n",
              "      <td>0.441112</td>\n",
              "      <td>0.363636</td>\n",
              "    </tr>\n",
              "    <tr>\n",
              "      <th>423</th>\n",
              "      <td>서울특별시 강동구 길동</td>\n",
              "      <td>0.340044</td>\n",
              "      <td>0.545455</td>\n",
              "    </tr>\n",
              "  </tbody>\n",
              "</table>\n",
              "<p>424 rows × 3 columns</p>\n",
              "</div>"
            ],
            "text/plain": [
              "                  동   배송어려움정도   무인택배함개수\n",
              "0     서울특별시 종로구 사직동  0.168473  0.090909\n",
              "1     서울특별시 종로구 삼청동  0.149564  0.000000\n",
              "2     서울특별시 종로구 부암동  0.473959  0.000000\n",
              "3     서울특별시 종로구 평창동  0.902926  0.000000\n",
              "4     서울특별시 종로구 무악동  0.019806  0.181818\n",
              "..              ...       ...       ...\n",
              "419  서울특별시 강동구 둔촌1동  0.000000  0.000000\n",
              "420  서울특별시 강동구 둔촌2동  0.168147  0.090909\n",
              "421  서울특별시 강동구 암사1동  0.355123  0.181818\n",
              "422  서울특별시 강동구 천호2동  0.441112  0.363636\n",
              "423    서울특별시 강동구 길동  0.340044  0.545455\n",
              "\n",
              "[424 rows x 3 columns]"
            ]
          },
          "metadata": {},
          "execution_count": 5
        }
      ]
    },
    {
      "cell_type": "code",
      "metadata": {
        "id": "MDirURaaPS6v",
        "colab": {
          "base_uri": "https://localhost:8080/",
          "height": 417
        },
        "outputId": "055b42f4-e383-4787-ac3c-5746ea7c25b4"
      },
      "source": [
        "#clustering 위해 동이름 제거\n",
        "data_cluster = data[['배송어려움정도','무인택배함개수']]\n",
        "data_cluster = data_cluster.rename(columns = {'배송어려움정도':'주택가 기준 배송 난이도','무인택배함개수':'무인택배함 공급량'})\n",
        "data_cluster"
      ],
      "execution_count": null,
      "outputs": [
        {
          "output_type": "execute_result",
          "data": {
            "text/html": [
              "<div>\n",
              "<style scoped>\n",
              "    .dataframe tbody tr th:only-of-type {\n",
              "        vertical-align: middle;\n",
              "    }\n",
              "\n",
              "    .dataframe tbody tr th {\n",
              "        vertical-align: top;\n",
              "    }\n",
              "\n",
              "    .dataframe thead th {\n",
              "        text-align: right;\n",
              "    }\n",
              "</style>\n",
              "<table border=\"1\" class=\"dataframe\">\n",
              "  <thead>\n",
              "    <tr style=\"text-align: right;\">\n",
              "      <th></th>\n",
              "      <th>주택가 기준 배송 난이도</th>\n",
              "      <th>무인택배함 공급량</th>\n",
              "    </tr>\n",
              "  </thead>\n",
              "  <tbody>\n",
              "    <tr>\n",
              "      <th>0</th>\n",
              "      <td>0.168473</td>\n",
              "      <td>0.090909</td>\n",
              "    </tr>\n",
              "    <tr>\n",
              "      <th>1</th>\n",
              "      <td>0.149564</td>\n",
              "      <td>0.000000</td>\n",
              "    </tr>\n",
              "    <tr>\n",
              "      <th>2</th>\n",
              "      <td>0.473959</td>\n",
              "      <td>0.000000</td>\n",
              "    </tr>\n",
              "    <tr>\n",
              "      <th>3</th>\n",
              "      <td>0.902926</td>\n",
              "      <td>0.000000</td>\n",
              "    </tr>\n",
              "    <tr>\n",
              "      <th>4</th>\n",
              "      <td>0.019806</td>\n",
              "      <td>0.181818</td>\n",
              "    </tr>\n",
              "    <tr>\n",
              "      <th>...</th>\n",
              "      <td>...</td>\n",
              "      <td>...</td>\n",
              "    </tr>\n",
              "    <tr>\n",
              "      <th>419</th>\n",
              "      <td>0.000000</td>\n",
              "      <td>0.000000</td>\n",
              "    </tr>\n",
              "    <tr>\n",
              "      <th>420</th>\n",
              "      <td>0.168147</td>\n",
              "      <td>0.090909</td>\n",
              "    </tr>\n",
              "    <tr>\n",
              "      <th>421</th>\n",
              "      <td>0.355123</td>\n",
              "      <td>0.181818</td>\n",
              "    </tr>\n",
              "    <tr>\n",
              "      <th>422</th>\n",
              "      <td>0.441112</td>\n",
              "      <td>0.363636</td>\n",
              "    </tr>\n",
              "    <tr>\n",
              "      <th>423</th>\n",
              "      <td>0.340044</td>\n",
              "      <td>0.545455</td>\n",
              "    </tr>\n",
              "  </tbody>\n",
              "</table>\n",
              "<p>424 rows × 2 columns</p>\n",
              "</div>"
            ],
            "text/plain": [
              "     주택가 기준 배송 난이도  무인택배함 공급량\n",
              "0         0.168473   0.090909\n",
              "1         0.149564   0.000000\n",
              "2         0.473959   0.000000\n",
              "3         0.902926   0.000000\n",
              "4         0.019806   0.181818\n",
              "..             ...        ...\n",
              "419       0.000000   0.000000\n",
              "420       0.168147   0.090909\n",
              "421       0.355123   0.181818\n",
              "422       0.441112   0.363636\n",
              "423       0.340044   0.545455\n",
              "\n",
              "[424 rows x 2 columns]"
            ]
          },
          "metadata": {},
          "execution_count": 6
        }
      ]
    },
    {
      "cell_type": "code",
      "metadata": {
        "colab": {
          "base_uri": "https://localhost:8080/",
          "height": 296
        },
        "id": "SPY8-N1GdOo-",
        "outputId": "276149ba-be90-444d-bfe9-c63b423d1679"
      },
      "source": [
        "#데이터 시각화\n",
        "plt.scatter(data['배송어려움정도'],data['무인택배함개수'])\n",
        "plt.xlabel('difficulty of delivery')\n",
        "plt.ylabel('number of boxes')\n",
        "#plt.title('단순 시각화')"
      ],
      "execution_count": null,
      "outputs": [
        {
          "output_type": "execute_result",
          "data": {
            "text/plain": [
              "Text(0, 0.5, 'number of boxes')"
            ]
          },
          "metadata": {},
          "execution_count": 7
        },
        {
          "output_type": "stream",
          "name": "stderr",
          "text": [
            "findfont: Font family ['NanumGothic Eco'] not found. Falling back to DejaVu Sans.\n"
          ]
        },
        {
          "output_type": "display_data",
          "data": {
            "image/png": "[encoded data removed]",
            "text/plain": [
              "<Figure size 432x288 with 1 Axes>"
            ]
          },
          "metadata": {
            "image/png": {
              "width": 385,
              "height": 261
            },
            "needs_background": "light"
          }
        }
      ]
    },
    {
      "cell_type": "code",
      "metadata": {
        "id": "Dow2wEyPtiPY"
      },
      "source": [
        "#data type numpy로 바꾸기\n",
        "data_np_cluster = pd.DataFrame(data_cluster).to_numpy()\n",
        "data_np_cluster\n"
      ],
      "execution_count": null,
      "outputs": []
    },
    {
      "cell_type": "markdown",
      "metadata": {
        "id": "89DgVDxiFzg2"
      },
      "source": [
        "# **Elbow Method**\n",
        "for dermining the optimal numbers of cluster in K-means clustering"
      ]
    },
    {
      "cell_type": "code",
      "metadata": {
        "id": "B0oiexheEmEn"
      },
      "source": [
        "# Import required packages\n",
        "\n",
        "from sklearn.cluster import KMeans\n"
      ],
      "execution_count": null,
      "outputs": []
    },
    {
      "cell_type": "code",
      "metadata": {
        "id": "_w9-sluOK9Xv"
      },
      "source": [
        "#바로 csv 불러오기"
      ],
      "execution_count": null,
      "outputs": []
    },
    {
      "cell_type": "code",
      "metadata": {
        "id": "UCr91hGoK_St"
      },
      "source": [
        "Sum_of_squared_distances = []\n",
        "K = range(1,15)\n",
        "for k in K:\n",
        "    km = KMeans(n_clusters=k)\n",
        "    km = km.fit(data_np_cluster)\n",
        "    Sum_of_squared_distances.append(km.inertia_)"
      ],
      "execution_count": null,
      "outputs": []
    },
    {
      "cell_type": "code",
      "metadata": {
        "colab": {
          "base_uri": "https://localhost:8080/",
          "height": 330
        },
        "id": "tv_eIYF_LCRH",
        "outputId": "735e6730-82b9-4beb-a583-f98405897cfa"
      },
      "source": [
        "plt.plot(K, Sum_of_squared_distances, 'bx-')\n",
        "plt.xlabel('k')\n",
        "plt.ylabel('Sum_of_squared_distances')\n",
        "plt.title('Elbow Method For Optimal k')\n",
        "plt.show()\n",
        "\n",
        "\"\"\"\n",
        "그래프가 꺾이는 모양이 팔꿈치 같아 Elbow method라고 불린다.\n",
        "그림상 3 or 4\n",
        "\"\"\""
      ],
      "execution_count": null,
      "outputs": [
        {
          "output_type": "stream",
          "name": "stderr",
          "text": [
            "findfont: Font family ['NanumGothic Eco'] not found. Falling back to DejaVu Sans.\n"
          ]
        },
        {
          "output_type": "display_data",
          "data": {
            "image/png": "[encoded data removed]",
            "text/plain": [
              "<Figure size 432x288 with 1 Axes>"
            ]
          },
          "metadata": {
            "image/png": {
              "width": 392,
              "height": 277
            },
            "needs_background": "light"
          }
        },
        {
          "output_type": "execute_result",
          "data": {
            "application/vnd.google.colaboratory.intrinsic+json": {
              "type": "string"
            },
            "text/plain": [
              "'\\n그래프가 꺾이는 모양이 팔꿈치 같아 Elbow method라고 불린다.\\n그림상 3 or 4\\n'"
            ]
          },
          "metadata": {},
          "execution_count": 11
        }
      ]
    },
    {
      "cell_type": "markdown",
      "metadata": {
        "id": "RVPe6kxrGfEV"
      },
      "source": [
        "# **Spectral Clustering**"
      ]
    },
    {
      "cell_type": "code",
      "metadata": {
        "colab": {
          "base_uri": "https://localhost:8080/",
          "height": 1000
        },
        "id": "FDpBlaL8Fwno",
        "outputId": "9a397496-ea23-470d-a05e-1088db44bce7"
      },
      "source": [
        "# spectral clustering\n",
        "from numpy import unique\n",
        "from numpy import where\n",
        "from sklearn.cluster import SpectralClustering\n",
        "\n",
        "# define the model\n",
        "model = SpectralClustering(n_clusters=4) #cluster 개수 조정,n_clusters=3\n",
        "# fit model and predict clusters\n",
        "yhat = model.fit_predict(data_np_cluster)\n",
        "# retrieve unique clusters\n",
        "clusters = unique(yhat)\n",
        "\n",
        "\n",
        "#yhat pd에 추가하기\n",
        "df = pd.DataFrame(yhat, columns = ['cluster'])\n",
        "data_plot = pd.concat([data_cluster,df], axis=1)\n",
        "\n",
        "fig = px.scatter(data_plot, x=\"주택가 기준 배송 난이도\", y=\"무인택배함 공급량\",color = \"cluster\", symbol=\"cluster\",width=800, height=600)\n",
        "\n",
        "fig.update(layout_showlegend=False,layout_coloraxis_showscale=False, layout_font=dict(\n",
        "        family=\"Arial\",\n",
        "        size=18,\n",
        "        color=\"Black\"\n",
        "    ))\n",
        "\n",
        "fig.show()\n",
        "\n",
        "# create scatter plot for samples from each cluster\n",
        "for cluster in clusters:\n",
        "    # get row indexes for samples with this cluster\n",
        "    row_ix = where(yhat == cluster)\n",
        "    print(\"cluster index\")\n",
        "    print(row_ix)\n",
        "    print(\"구성요소 개수 :\", data_np_cluster[row_ix, 0].size)\n",
        "    print(\"각각의 평균 출력\")\n",
        "    print(data_np_cluster[row_ix, 0].mean())\n",
        "    print(data_np_cluster[row_ix, 1].mean())\n",
        "    # create scatter of these samples\n",
        "    plt.scatter(data_np_cluster[row_ix, 0], data_np_cluster[row_ix, 1])\n",
        "\n",
        "\n",
        "# show the plot\n",
        "plt.title(\"color order : blue,orange,green,red\") \n",
        "plt.grid()\n",
        "plt.show()\n"
      ],
      "execution_count": null,
      "outputs": [
        {
          "output_type": "display_data",
          "data": {
            "text/html": [
              "<html>\n",
              "<head><meta charset=\"utf-8\" /></head>\n",
              "<body>\n",
              "    <div>\n",
              "            <script src=\"https://cdnjs.cloudflare.com/ajax/libs/mathjax/2.7.5/MathJax.js?config=TeX-AMS-MML_SVG\"></script><script type=\"text/javascript\">if (window.MathJax) {MathJax.Hub.Config({SVG: {font: \"STIX-Web\"}});}</script>\n",
              "                <script type=\"text/javascript\">window.PlotlyConfig = {MathJaxConfig: 'local'};</script>\n",
              "        <script src=\"https://cdn.plot.ly/plotly-latest.min.js\"></script>    \n",
              "            <div id=\"f99e7c79-e2b2-466f-9186-7a77c3900337\" class=\"plotly-graph-div\" style=\"height:600px; width:800px;\"></div>\n",
              "            <script type=\"text/javascript\">\n",
              "                \n",
              "                    window.PLOTLYENV=window.PLOTLYENV || {};\n",
              "                    \n",
              "                if (document.getElementById(\"f99e7c79-e2b2-466f-9186-7a77c3900337\")) {\n",
              "                    Plotly.newPlot(\n",
              "                        'f99e7c79-e2b2-466f-9186-7a77c3900337',\n",
              "                        [{\"hoverlabel\": {\"namelength\": 0}, \"hovertemplate\": \"cluster=%{marker.color}<br>\\uc8fc\\ud0dd\\uac00 \\uae30\\uc900 \\ubc30\\uc1a1 \\ub09c\\uc774\\ub3c4=%{x}<br>\\ubb34\\uc778\\ud0dd\\ubc30\\ud568 \\uacf5\\uae09\\ub7c9=%{y}\", \"legendgroup\": \"cluster=2\", \"marker\": {\"color\": [2, 2, 2, 2, 2, 2, 2, 2, 2, 2, 2, 2, 2, 2, 2, 2, 2, 2, 2, 2, 2, 2, 2, 2, 2, 2, 2, 2, 2, 2, 2, 2, 2, 2, 2, 2, 2, 2, 2, 2, 2, 2, 2, 2, 2, 2, 2, 2, 2, 2, 2, 2, 2, 2, 2, 2, 2, 2, 2, 2, 2, 2, 2, 2, 2, 2, 2, 2, 2, 2, 2, 2, 2, 2, 2, 2, 2, 2, 2, 2, 2, 2, 2, 2, 2, 2, 2, 2, 2, 2, 2, 2, 2, 2, 2, 2, 2, 2, 2, 2, 2, 2, 2, 2, 2, 2, 2, 2, 2, 2, 2, 2, 2, 2, 2, 2, 2, 2, 2, 2, 2, 2, 2, 2, 2, 2, 2, 2, 2, 2, 2, 2, 2, 2, 2, 2, 2, 2, 2, 2, 2, 2, 2, 2, 2, 2, 2, 2, 2, 2, 2, 2, 2, 2, 2, 2, 2, 2, 2, 2, 2, 2, 2, 2, 2, 2, 2, 2, 2, 2, 2, 2, 2, 2, 2, 2, 2, 2, 2, 2, 2, 2, 2, 2, 2, 2, 2, 2, 2, 2, 2, 2, 2, 2, 2, 2, 2, 2], \"coloraxis\": \"coloraxis\", \"symbol\": \"circle\"}, \"mode\": \"markers\", \"name\": \"cluster=2\", \"showlegend\": true, \"type\": \"scatter\", \"x\": [0.168473388, 0.149563942, 0.473958758, 0.203684082, 0.18681229100000002, 0.23123318899999998, 0.243703643, 0.16904393199999998, 0.496128454, 0.484799087, 0.17181514399999998, 0.24386665600000001, 0.145407124, 0.532480235, 0.33050778399999997, 0.161789877, 0.365555465, 0.223571603, 0.577634689, 0.59124623, 0.249572092, 0.163990545, 0.323742766, 0.22340859100000002, 0.149074904, 0.239628332, 0.412747575, 0.270600701, 0.41062841299999997, 0.26994865100000004, 0.38405738, 0.451789062, 0.31934143, 0.569565572, 0.239302307, 0.30915315, 0.180862336, 0.16480560800000002, 0.34444535, 0.164398076, 0.199853289, 0.286168392, 0.376314288, 0.410139376, 0.553753362, 0.5319911970000001, 0.23824272600000002, 0.41282908100000004, 0.36050207799999995, 0.47216562100000004, 0.264813758, 0.25364740399999997, 0.444698019, 0.31648871100000003, 0.226261309, 0.39000733600000004, 0.21998532899999998, 0.288532073, 0.286575923, 0.388051186, 0.17589045600000003, 0.568669003, 0.563697123, 0.342733719, 0.24949058600000001, 0.154861847, 0.40924280700000004, 0.35178091100000003, 0.27557258100000004, 0.34697204299999995, 0.506561252, 0.512429701, 0.287798517, 0.358708941, 0.438992583, 0.470535496, 0.502322928, 0.260982965, 0.519928275, 0.49172711700000005, 0.447224713, 0.42945635299999996, 0.252098786, 0.35414459200000004, 0.47868611899999997, 0.169369957, 0.241013938, 0.447469231, 0.1372565, 0.23033662100000002, 0.207025837, 0.31722226800000003, 0.573151846, 0.397587415, 0.3098052, 0.326595485, 0.19333279, 0.364658896, 0.34656451200000005, 0.5478034070000001, 0.35332953, 0.46165131600000003, 0.16366452, 0.293422447, 0.27312739399999997, 0.49963322200000004, 0.21036759300000002, 0.14296193699999998, 0.326024941, 0.152742685, 0.299127883, 0.20515119399999998, 0.455130818, 0.27019317, 0.260412422, 0.349091205, 0.17450485, 0.44486103200000005, 0.244844731, 0.332056402, 0.195777977, 0.24981661100000002, 0.24386665600000001, 0.17686853, 0.267340452, 0.37085337, 0.35186241700000004, 0.170022007, 0.40948732600000004, 0.17124460000000002, 0.24745293, 0.300350477, 0.427663216, 0.45154454299999996, 0.436221371, 0.339147445, 0.525959736, 0.42627761, 0.14964544800000001, 0.452196593, 0.306463444, 0.17385279999999997, 0.26962262600000003, 0.250387155, 0.343467275, 0.47550737600000004, 0.355693211, 0.38666558, 0.480316244, 0.28364169899999997, 0.457005461, 0.558154699, 0.195370446, 0.216725079, 0.24565979300000002, 0.25193577300000003, 0.490667536, 0.364251365, 0.247045399, 0.511696145, 0.159181677, 0.26261309, 0.278506806, 0.375743744, 0.25372891, 0.38519846799999996, 0.40679762, 0.34395631299999996, 0.482761431, 0.24142146899999997, 0.317711305, 0.602331078, 0.5343548779999999, 0.39359361, 0.264487733, 0.17328225600000002, 0.25870079100000004, 0.170103513, 0.34363028799999995, 0.15999674, 0.314614068, 0.25633711, 0.22560925899999998, 0.155432391, 0.301899095, 0.34395631299999996, 0.22952155800000001, 0.187382835, 0.222512022, 0.177928112, 0.182329448, 0.147200261, 0.363680822, 0.326595485, 0.335153639, 0.168310376, 0.168147363, 0.355122667], \"xaxis\": \"x\", \"y\": [0.090909091, 0.0, 0.0, 0.0, 0.0, 0.090909091, 0.0, 0.090909091, 0.090909091, 0.0, 0.0, 0.0, 0.0, 0.090909091, 0.0, 0.0, 0.0, 0.0, 0.090909091, 0.181818182, 0.181818182, 0.090909091, 0.0, 0.090909091, 0.090909091, 0.181818182, 0.090909091, 0.090909091, 0.181818182, 0.090909091, 0.181818182, 0.181818182, 0.181818182, 0.090909091, 0.090909091, 0.181818182, 0.0, 0.090909091, 0.090909091, 0.090909091, 0.090909091, 0.0, 0.090909091, 0.181818182, 0.090909091, 0.090909091, 0.0, 0.181818182, 0.181818182, 0.090909091, 0.0, 0.090909091, 0.181818182, 0.090909091, 0.090909091, 0.0, 0.0, 0.181818182, 0.090909091, 0.090909091, 0.090909091, 0.0, 0.0, 0.090909091, 0.0, 0.0, 0.090909091, 0.090909091, 0.090909091, 0.090909091, 0.090909091, 0.0, 0.181818182, 0.181818182, 0.181818182, 0.181818182, 0.181818182, 0.090909091, 0.090909091, 0.181818182, 0.090909091, 0.090909091, 0.0, 0.0, 0.181818182, 0.090909091, 0.090909091, 0.090909091, 0.0, 0.0, 0.090909091, 0.181818182, 0.181818182, 0.181818182, 0.090909091, 0.090909091, 0.090909091, 0.181818182, 0.090909091, 0.090909091, 0.090909091, 0.181818182, 0.0, 0.090909091, 0.181818182, 0.181818182, 0.090909091, 0.0, 0.0, 0.090909091, 0.181818182, 0.090909091, 0.0, 0.181818182, 0.090909091, 0.090909091, 0.0, 0.090909091, 0.0, 0.090909091, 0.0, 0.090909091, 0.181818182, 0.090909091, 0.181818182, 0.090909091, 0.181818182, 0.090909091, 0.181818182, 0.090909091, 0.181818182, 0.090909091, 0.181818182, 0.181818182, 0.090909091, 0.090909091, 0.181818182, 0.181818182, 0.0, 0.181818182, 0.0, 0.090909091, 0.090909091, 0.090909091, 0.0, 0.090909091, 0.181818182, 0.090909091, 0.090909091, 0.181818182, 0.181818182, 0.090909091, 0.090909091, 0.0, 0.090909091, 0.0, 0.0, 0.181818182, 0.090909091, 0.0, 0.0, 0.090909091, 0.181818182, 0.090909091, 0.181818182, 0.090909091, 0.0, 0.090909091, 0.0, 0.181818182, 0.0, 0.090909091, 0.090909091, 0.090909091, 0.0, 0.0, 0.181818182, 0.0, 0.181818182, 0.0, 0.181818182, 0.181818182, 0.0, 0.090909091, 0.090909091, 0.181818182, 0.181818182, 0.090909091, 0.090909091, 0.090909091, 0.090909091, 0.0, 0.181818182, 0.090909091, 0.0, 0.090909091, 0.090909091, 0.181818182], \"yaxis\": \"y\"}, {\"hoverlabel\": {\"namelength\": 0}, \"hovertemplate\": \"cluster=%{marker.color}<br>\\uc8fc\\ud0dd\\uac00 \\uae30\\uc900 \\ubc30\\uc1a1 \\ub09c\\uc774\\ub3c4=%{x}<br>\\ubb34\\uc778\\ud0dd\\ubc30\\ud568 \\uacf5\\uae09\\ub7c9=%{y}\", \"legendgroup\": \"cluster=1\", \"marker\": {\"color\": [1, 1, 1, 1, 1, 1, 1, 1, 1, 1, 1, 1, 1, 1, 1], \"coloraxis\": \"coloraxis\", \"symbol\": \"diamond\"}, \"mode\": \"markers\", \"name\": \"cluster=1\", \"showlegend\": true, \"type\": \"scatter\", \"x\": [0.902926074, 0.6682696229999999, 0.616024126, 0.732578042, 0.702991279, 0.647893064, 0.765669574, 0.66810661, 0.635911647, 0.63542261, 0.8384546420000001, 0.720270601, 1.0, 0.870405086, 0.776835928], \"xaxis\": \"x\", \"y\": [0.0, 0.272727273, 0.181818182, 0.0, 0.090909091, 0.090909091, 0.090909091, 0.181818182, 0.0, 0.090909091, 0.181818182, 0.181818182, 0.181818182, 0.181818182, 0.090909091], \"yaxis\": \"y\"}, {\"hoverlabel\": {\"namelength\": 0}, \"hovertemplate\": \"cluster=%{marker.color}<br>\\uc8fc\\ud0dd\\uac00 \\uae30\\uc900 \\ubc30\\uc1a1 \\ub09c\\uc774\\ub3c4=%{x}<br>\\ubb34\\uc778\\ud0dd\\ubc30\\ud568 \\uacf5\\uae09\\ub7c9=%{y}\", \"legendgroup\": \"cluster=0\", \"marker\": {\"color\": [0, 0, 0, 0, 0, 0, 0, 0, 0, 0, 0, 0, 0, 0, 0, 0, 0, 0, 0, 0, 0, 0, 0, 0, 0, 0, 0, 0, 0, 0, 0, 0, 0, 0, 0, 0, 0, 0, 0, 0, 0, 0, 0, 0, 0, 0, 0, 0, 0, 0, 0, 0, 0, 0, 0, 0, 0, 0, 0, 0, 0, 0, 0, 0, 0, 0, 0, 0, 0, 0, 0, 0, 0, 0, 0, 0, 0, 0, 0, 0, 0, 0, 0, 0, 0, 0, 0, 0, 0, 0, 0, 0, 0, 0, 0, 0, 0, 0, 0, 0, 0, 0, 0, 0, 0, 0, 0, 0, 0, 0, 0, 0, 0], \"coloraxis\": \"coloraxis\", \"symbol\": \"square\"}, \"mode\": \"markers\", \"name\": \"cluster=0\", \"showlegend\": true, \"type\": \"scatter\", \"x\": [0.019806015, 0.08248431, 0.109299861, 0.10897383599999999, 0.087700709, 0.002934224, 0.064634445, 0.039693537, 0.097318445, 0.098133507, 0.012959491, 0.107262206, 0.076045318, 0.072866574, 0.109218355, 0.005134893, 0.048985247, 0.138397587, 0.04026408, 0.050615372, 0.013693048000000001, 0.126497677, 0.074659712, 0.130165458, 0.05803244, 0.12763876400000002, 0.0017116310000000001, 0.059336539, 0.016953297, 0.032928518999999996, 0.128861358, 0.12666069, 0.021273127000000003, 0.010025267, 0.04352433, 0.023881327, 0.011736898, 0.137174994, 0.074659712, 0.011573885, 0.0, 0.0, 0.027549108, 0.0, 0.0, 0.0, 0.0, 0.013693048000000001, 0.103675931, 0.082891841, 0.052979053, 0.12812780199999999, 0.064226913, 0.132121607, 0.043931860999999996, 0.037900399, 0.01882794, 0.050615372, 0.055913277000000004, 0.08737468400000001, 0.0, 0.013611541000000001, 0.06903578099999999, 0.074415193, 0.0, 0.104898525, 0.0, 0.0, 0.085663053, 0.0, 0.065041976, 0.12837232, 0.131062026, 0.033091532, 0.0, 0.071154943, 0.053142065, 0.128779852, 0.04287228, 0.015975222, 0.0, 0.0, 0.0, 0.114108729, 0.10074170699999999, 0.13252913800000002, 0.002934224, 0.037981906, 0.0, 0.104490994, 0.0, 0.014752629, 0.09006439, 0.016708778, 0.099519113, 0.0, 0.06626456900000001, 0.0, 0.085500041, 0.0, 0.0, 0.0, 0.0, 0.0, 0.0, 0.0, 0.006683511, 0.08468497800000001, 0.027386095, 0.082647323, 0.045480479000000004, 0.063982395, 0.0], \"xaxis\": \"x\", \"y\": [0.181818182, 0.0, 0.090909091, 0.090909091, 0.0, 0.0, 0.0, 0.090909091, 0.090909091, 0.0, 0.0, 0.0, 0.0, 0.0, 0.0, 0.090909091, 0.090909091, 0.090909091, 0.181818182, 0.0, 0.0, 0.0, 0.090909091, 0.0, 0.090909091, 0.0, 0.090909091, 0.0, 0.090909091, 0.0, 0.090909091, 0.0, 0.0, 0.0, 0.090909091, 0.0, 0.090909091, 0.090909091, 0.090909091, 0.0, 0.0, 0.0, 0.0, 0.0, 0.0, 0.0, 0.181818182, 0.0, 0.0, 0.181818182, 0.0, 0.0, 0.090909091, 0.090909091, 0.0, 0.090909091, 0.0, 0.181818182, 0.090909091, 0.0, 0.0, 0.0, 0.090909091, 0.0, 0.181818182, 0.0, 0.0, 0.0, 0.181818182, 0.0, 0.090909091, 0.090909091, 0.090909091, 0.0, 0.0, 0.090909091, 0.181818182, 0.0, 0.090909091, 0.0, 0.0, 0.0, 0.0, 0.090909091, 0.090909091, 0.090909091, 0.181818182, 0.181818182, 0.0, 0.090909091, 0.0, 0.0, 0.090909091, 0.090909091, 0.090909091, 0.0, 0.0, 0.090909091, 0.181818182, 0.0, 0.0, 0.0, 0.0, 0.0, 0.0, 0.0, 0.090909091, 0.181818182, 0.090909091, 0.090909091, 0.090909091, 0.0, 0.0], \"yaxis\": \"y\"}, {\"hoverlabel\": {\"namelength\": 0}, \"hovertemplate\": \"cluster=%{marker.color}<br>\\uc8fc\\ud0dd\\uac00 \\uae30\\uc900 \\ubc30\\uc1a1 \\ub09c\\uc774\\ub3c4=%{x}<br>\\ubb34\\uc778\\ud0dd\\ubc30\\ud568 \\uacf5\\uae09\\ub7c9=%{y}\", \"legendgroup\": \"cluster=3\", \"marker\": {\"color\": [3, 3, 3, 3, 3, 3, 3, 3, 3, 3, 3, 3, 3, 3, 3, 3, 3, 3, 3, 3, 3, 3, 3, 3, 3, 3, 3, 3, 3, 3, 3, 3, 3, 3, 3, 3, 3, 3, 3, 3, 3, 3, 3, 3, 3, 3, 3, 3, 3, 3, 3, 3, 3, 3, 3, 3, 3, 3, 3, 3, 3, 3, 3, 3, 3, 3, 3, 3, 3, 3, 3, 3, 3, 3, 3, 3, 3, 3, 3, 3, 3, 3, 3, 3, 3, 3, 3, 3, 3, 3, 3, 3, 3, 3, 3, 3, 3, 3], \"coloraxis\": \"coloraxis\", \"symbol\": \"x\"}, \"mode\": \"markers\", \"name\": \"cluster=3\", \"showlegend\": true, \"type\": \"scatter\", \"x\": [0.150379004, 0.155187872, 0.39620180899999996, 0.13741951300000002, 0.181106855, 0.126579183, 0.267829489, 0.20857445600000002, 0.289917679, 0.32194962899999996, 0.436384383, 0.262205559, 0.522047437, 0.267258945, 0.345178906, 0.5557095120000001, 0.232863314, 0.294319015, 0.063982395, 0.223164072, 0.21419838600000002, 0.171163094, 0.248594017, 0.402722308, 0.488711386, 0.317140761, 0.133262695, 0.24133996300000002, 0.114353248, 0.361561659, 0.481131307, 0.28144103, 0.488303855, 0.33490912100000003, 0.275980112, 0.195125927, 0.38552449299999997, 0.23555302, 0.348276143, 0.07637134200000001, 0.192517728, 0.162115902, 0.220066835, 0.392697041, 0.126090146, 0.208085419, 0.0, 0.15290569699999998, 0.307441519, 0.33768033299999994, 0.052653028, 0.182329448, 0.209634037, 0.309397669, 0.5473958760000001, 0.207514875, 0.136441438, 0.479990219, 0.37933001899999996, 0.162767952, 0.07881653, 0.09519928300000001, 0.291873828, 0.151357079, 0.41242155, 0.40940582, 0.163175483, 0.36025756, 0.344526856, 0.200097807, 0.148911892, 0.342244682, 0.419757111, 0.168799413, 0.234167414, 0.081995273, 0.20335805699999998, 0.169695982, 0.28771701, 0.453011655, 0.142798924, 0.14679273, 0.14353248, 0.075800799, 0.17556443100000002, 0.134403782, 0.04352433, 0.308012063, 0.170185019, 0.098622545, 0.211264162, 0.18811639100000002, 0.112234086, 0.09682940699999999, 0.105143043, 0.114353248, 0.441111745, 0.340044013], \"xaxis\": \"x\", \"y\": [0.181818182, 0.272727273, 0.363636364, 0.363636364, 0.181818182, 0.272727273, 0.272727273, 0.181818182, 0.363636364, 0.272727273, 0.272727273, 0.272727273, 0.272727273, 0.363636364, 0.272727273, 0.272727273, 0.272727273, 0.272727273, 0.272727273, 0.181818182, 0.181818182, 0.181818182, 0.272727273, 0.363636364, 0.363636364, 0.272727273, 0.181818182, 0.272727273, 0.181818182, 0.272727273, 0.454545455, 0.454545455, 0.272727273, 0.272727273, 0.272727273, 0.181818182, 0.454545455, 0.272727273, 0.272727273, 0.272727273, 0.181818182, 0.363636364, 0.181818182, 0.272727273, 0.181818182, 0.181818182, 0.363636364, 0.181818182, 0.363636364, 0.363636364, 0.272727273, 0.181818182, 0.181818182, 0.272727273, 0.272727273, 0.272727273, 0.181818182, 0.454545455, 0.272727273, 0.181818182, 0.272727273, 0.181818182, 0.272727273, 0.272727273, 0.363636364, 0.363636364, 0.181818182, 0.272727273, 0.454545455, 0.272727273, 0.181818182, 0.454545455, 0.363636364, 0.181818182, 0.272727273, 0.272727273, 0.181818182, 0.272727273, 0.272727273, 0.363636364, 0.272727273, 0.181818182, 0.454545455, 0.272727273, 0.363636364, 0.272727273, 0.363636364, 0.272727273, 0.272727273, 0.363636364, 0.272727273, 0.545454545, 0.181818182, 0.181818182, 0.181818182, 0.272727273, 0.363636364, 0.545454545], \"yaxis\": \"y\"}],\n",
              "                        {\"coloraxis\": {\"colorbar\": {\"title\": {\"text\": \"cluster\"}}, \"colorscale\": [[0.0, \"#0d0887\"], [0.1111111111111111, \"#46039f\"], [0.2222222222222222, \"#7201a8\"], [0.3333333333333333, \"#9c179e\"], [0.4444444444444444, \"#bd3786\"], [0.5555555555555556, \"#d8576b\"], [0.6666666666666666, \"#ed7953\"], [0.7777777777777778, \"#fb9f3a\"], [0.8888888888888888, \"#fdca26\"], [1.0, \"#f0f921\"]], \"showscale\": false}, \"font\": {\"color\": \"Black\", \"family\": \"Arial\", \"size\": 18}, \"height\": 600, \"legend\": {\"tracegroupgap\": 0}, \"margin\": {\"t\": 60}, \"showlegend\": false, \"template\": {\"data\": {\"bar\": [{\"error_x\": {\"color\": \"#2a3f5f\"}, \"error_y\": {\"color\": \"#2a3f5f\"}, \"marker\": {\"line\": {\"color\": \"#E5ECF6\", \"width\": 0.5}}, \"type\": \"bar\"}], \"barpolar\": [{\"marker\": {\"line\": {\"color\": \"#E5ECF6\", \"width\": 0.5}}, \"type\": \"barpolar\"}], \"carpet\": [{\"aaxis\": {\"endlinecolor\": \"#2a3f5f\", \"gridcolor\": \"white\", \"linecolor\": \"white\", \"minorgridcolor\": \"white\", \"startlinecolor\": \"#2a3f5f\"}, \"baxis\": {\"endlinecolor\": \"#2a3f5f\", \"gridcolor\": \"white\", \"linecolor\": \"white\", \"minorgridcolor\": \"white\", \"startlinecolor\": \"#2a3f5f\"}, \"type\": \"carpet\"}], \"choropleth\": [{\"colorbar\": {\"outlinewidth\": 0, \"ticks\": \"\"}, \"type\": \"choropleth\"}], \"contour\": [{\"colorbar\": {\"outlinewidth\": 0, \"ticks\": \"\"}, \"colorscale\": [[0.0, \"#0d0887\"], [0.1111111111111111, \"#46039f\"], [0.2222222222222222, \"#7201a8\"], [0.3333333333333333, \"#9c179e\"], [0.4444444444444444, \"#bd3786\"], [0.5555555555555556, \"#d8576b\"], [0.6666666666666666, \"#ed7953\"], [0.7777777777777778, \"#fb9f3a\"], [0.8888888888888888, \"#fdca26\"], [1.0, \"#f0f921\"]], \"type\": \"contour\"}], \"contourcarpet\": [{\"colorbar\": {\"outlinewidth\": 0, \"ticks\": \"\"}, \"type\": \"contourcarpet\"}], \"heatmap\": [{\"colorbar\": {\"outlinewidth\": 0, \"ticks\": \"\"}, \"colorscale\": [[0.0, \"#0d0887\"], [0.1111111111111111, \"#46039f\"], [0.2222222222222222, \"#7201a8\"], [0.3333333333333333, \"#9c179e\"], [0.4444444444444444, \"#bd3786\"], [0.5555555555555556, \"#d8576b\"], [0.6666666666666666, \"#ed7953\"], [0.7777777777777778, \"#fb9f3a\"], [0.8888888888888888, \"#fdca26\"], [1.0, \"#f0f921\"]], \"type\": \"heatmap\"}], \"heatmapgl\": [{\"colorbar\": {\"outlinewidth\": 0, \"ticks\": \"\"}, \"colorscale\": [[0.0, \"#0d0887\"], [0.1111111111111111, \"#46039f\"], [0.2222222222222222, \"#7201a8\"], [0.3333333333333333, \"#9c179e\"], [0.4444444444444444, \"#bd3786\"], [0.5555555555555556, \"#d8576b\"], [0.6666666666666666, \"#ed7953\"], [0.7777777777777778, \"#fb9f3a\"], [0.8888888888888888, \"#fdca26\"], [1.0, \"#f0f921\"]], \"type\": \"heatmapgl\"}], \"histogram\": [{\"marker\": {\"colorbar\": {\"outlinewidth\": 0, \"ticks\": \"\"}}, \"type\": \"histogram\"}], \"histogram2d\": [{\"colorbar\": {\"outlinewidth\": 0, \"ticks\": \"\"}, \"colorscale\": [[0.0, \"#0d0887\"], [0.1111111111111111, \"#46039f\"], [0.2222222222222222, \"#7201a8\"], [0.3333333333333333, \"#9c179e\"], [0.4444444444444444, \"#bd3786\"], [0.5555555555555556, \"#d8576b\"], [0.6666666666666666, \"#ed7953\"], [0.7777777777777778, \"#fb9f3a\"], [0.8888888888888888, \"#fdca26\"], [1.0, \"#f0f921\"]], \"type\": \"histogram2d\"}], \"histogram2dcontour\": [{\"colorbar\": {\"outlinewidth\": 0, \"ticks\": \"\"}, \"colorscale\": [[0.0, \"#0d0887\"], [0.1111111111111111, \"#46039f\"], [0.2222222222222222, \"#7201a8\"], [0.3333333333333333, \"#9c179e\"], [0.4444444444444444, \"#bd3786\"], [0.5555555555555556, \"#d8576b\"], [0.6666666666666666, \"#ed7953\"], [0.7777777777777778, \"#fb9f3a\"], [0.8888888888888888, \"#fdca26\"], [1.0, \"#f0f921\"]], \"type\": \"histogram2dcontour\"}], \"mesh3d\": [{\"colorbar\": {\"outlinewidth\": 0, \"ticks\": \"\"}, \"type\": \"mesh3d\"}], \"parcoords\": [{\"line\": {\"colorbar\": {\"outlinewidth\": 0, \"ticks\": \"\"}}, \"type\": \"parcoords\"}], \"pie\": [{\"automargin\": true, \"type\": \"pie\"}], \"scatter\": [{\"marker\": {\"colorbar\": {\"outlinewidth\": 0, \"ticks\": \"\"}}, \"type\": \"scatter\"}], \"scatter3d\": [{\"line\": {\"colorbar\": {\"outlinewidth\": 0, \"ticks\": \"\"}}, \"marker\": {\"colorbar\": {\"outlinewidth\": 0, \"ticks\": \"\"}}, \"type\": \"scatter3d\"}], \"scattercarpet\": [{\"marker\": {\"colorbar\": {\"outlinewidth\": 0, \"ticks\": \"\"}}, \"type\": \"scattercarpet\"}], \"scattergeo\": [{\"marker\": {\"colorbar\": {\"outlinewidth\": 0, \"ticks\": \"\"}}, \"type\": \"scattergeo\"}], \"scattergl\": [{\"marker\": {\"colorbar\": {\"outlinewidth\": 0, \"ticks\": \"\"}}, \"type\": \"scattergl\"}], \"scattermapbox\": [{\"marker\": {\"colorbar\": {\"outlinewidth\": 0, \"ticks\": \"\"}}, \"type\": \"scattermapbox\"}], \"scatterpolar\": [{\"marker\": {\"colorbar\": {\"outlinewidth\": 0, \"ticks\": \"\"}}, \"type\": \"scatterpolar\"}], \"scatterpolargl\": [{\"marker\": {\"colorbar\": {\"outlinewidth\": 0, \"ticks\": \"\"}}, \"type\": \"scatterpolargl\"}], \"scatterternary\": [{\"marker\": {\"colorbar\": {\"outlinewidth\": 0, \"ticks\": \"\"}}, \"type\": \"scatterternary\"}], \"surface\": [{\"colorbar\": {\"outlinewidth\": 0, \"ticks\": \"\"}, \"colorscale\": [[0.0, \"#0d0887\"], [0.1111111111111111, \"#46039f\"], [0.2222222222222222, \"#7201a8\"], [0.3333333333333333, \"#9c179e\"], [0.4444444444444444, \"#bd3786\"], [0.5555555555555556, \"#d8576b\"], [0.6666666666666666, \"#ed7953\"], [0.7777777777777778, \"#fb9f3a\"], [0.8888888888888888, \"#fdca26\"], [1.0, \"#f0f921\"]], \"type\": \"surface\"}], \"table\": [{\"cells\": {\"fill\": {\"color\": \"#EBF0F8\"}, \"line\": {\"color\": \"white\"}}, \"header\": {\"fill\": {\"color\": \"#C8D4E3\"}, \"line\": {\"color\": \"white\"}}, \"type\": \"table\"}]}, \"layout\": {\"annotationdefaults\": {\"arrowcolor\": \"#2a3f5f\", \"arrowhead\": 0, \"arrowwidth\": 1}, \"coloraxis\": {\"colorbar\": {\"outlinewidth\": 0, \"ticks\": \"\"}}, \"colorscale\": {\"diverging\": [[0, \"#8e0152\"], [0.1, \"#c51b7d\"], [0.2, \"#de77ae\"], [0.3, \"#f1b6da\"], [0.4, \"#fde0ef\"], [0.5, \"#f7f7f7\"], [0.6, \"#e6f5d0\"], [0.7, \"#b8e186\"], [0.8, \"#7fbc41\"], [0.9, \"#4d9221\"], [1, \"#276419\"]], \"sequential\": [[0.0, \"#0d0887\"], [0.1111111111111111, \"#46039f\"], [0.2222222222222222, \"#7201a8\"], [0.3333333333333333, \"#9c179e\"], [0.4444444444444444, \"#bd3786\"], [0.5555555555555556, \"#d8576b\"], [0.6666666666666666, \"#ed7953\"], [0.7777777777777778, \"#fb9f3a\"], [0.8888888888888888, \"#fdca26\"], [1.0, \"#f0f921\"]], \"sequentialminus\": [[0.0, \"#0d0887\"], [0.1111111111111111, \"#46039f\"], [0.2222222222222222, \"#7201a8\"], [0.3333333333333333, \"#9c179e\"], [0.4444444444444444, \"#bd3786\"], [0.5555555555555556, \"#d8576b\"], [0.6666666666666666, \"#ed7953\"], [0.7777777777777778, \"#fb9f3a\"], [0.8888888888888888, \"#fdca26\"], [1.0, \"#f0f921\"]]}, \"colorway\": [\"#636efa\", \"#EF553B\", \"#00cc96\", \"#ab63fa\", \"#FFA15A\", \"#19d3f3\", \"#FF6692\", \"#B6E880\", \"#FF97FF\", \"#FECB52\"], \"font\": {\"color\": \"#2a3f5f\"}, \"geo\": {\"bgcolor\": \"white\", \"lakecolor\": \"white\", \"landcolor\": \"#E5ECF6\", \"showlakes\": true, \"showland\": true, \"subunitcolor\": \"white\"}, \"hoverlabel\": {\"align\": \"left\"}, \"hovermode\": \"closest\", \"mapbox\": {\"style\": \"light\"}, \"paper_bgcolor\": \"white\", \"plot_bgcolor\": \"#E5ECF6\", \"polar\": {\"angularaxis\": {\"gridcolor\": \"white\", \"linecolor\": \"white\", \"ticks\": \"\"}, \"bgcolor\": \"#E5ECF6\", \"radialaxis\": {\"gridcolor\": \"white\", \"linecolor\": \"white\", \"ticks\": \"\"}}, \"scene\": {\"xaxis\": {\"backgroundcolor\": \"#E5ECF6\", \"gridcolor\": \"white\", \"gridwidth\": 2, \"linecolor\": \"white\", \"showbackground\": true, \"ticks\": \"\", \"zerolinecolor\": \"white\"}, \"yaxis\": {\"backgroundcolor\": \"#E5ECF6\", \"gridcolor\": \"white\", \"gridwidth\": 2, \"linecolor\": \"white\", \"showbackground\": true, \"ticks\": \"\", \"zerolinecolor\": \"white\"}, \"zaxis\": {\"backgroundcolor\": \"#E5ECF6\", \"gridcolor\": \"white\", \"gridwidth\": 2, \"linecolor\": \"white\", \"showbackground\": true, \"ticks\": \"\", \"zerolinecolor\": \"white\"}}, \"shapedefaults\": {\"line\": {\"color\": \"#2a3f5f\"}}, \"ternary\": {\"aaxis\": {\"gridcolor\": \"white\", \"linecolor\": \"white\", \"ticks\": \"\"}, \"baxis\": {\"gridcolor\": \"white\", \"linecolor\": \"white\", \"ticks\": \"\"}, \"bgcolor\": \"#E5ECF6\", \"caxis\": {\"gridcolor\": \"white\", \"linecolor\": \"white\", \"ticks\": \"\"}}, \"title\": {\"x\": 0.05}, \"xaxis\": {\"automargin\": true, \"gridcolor\": \"white\", \"linecolor\": \"white\", \"ticks\": \"\", \"title\": {\"standoff\": 15}, \"zerolinecolor\": \"white\", \"zerolinewidth\": 2}, \"yaxis\": {\"automargin\": true, \"gridcolor\": \"white\", \"linecolor\": \"white\", \"ticks\": \"\", \"title\": {\"standoff\": 15}, \"zerolinecolor\": \"white\", \"zerolinewidth\": 2}}}, \"width\": 800, \"xaxis\": {\"anchor\": \"y\", \"domain\": [0.0, 1.0], \"title\": {\"text\": \"\\uc8fc\\ud0dd\\uac00 \\uae30\\uc900 \\ubc30\\uc1a1 \\ub09c\\uc774\\ub3c4\"}}, \"yaxis\": {\"anchor\": \"x\", \"domain\": [0.0, 1.0], \"title\": {\"text\": \"\\ubb34\\uc778\\ud0dd\\ubc30\\ud568 \\uacf5\\uae09\\ub7c9\"}}},\n",
              "                        {\"responsive\": true}\n",
              "                    ).then(function(){\n",
              "                            \n",
              "var gd = document.getElementById('f99e7c79-e2b2-466f-9186-7a77c3900337');\n",
              "var x = new MutationObserver(function (mutations, observer) {{\n",
              "        var display = window.getComputedStyle(gd).display;\n",
              "        if (!display || display === 'none') {{\n",
              "            console.log([gd, 'removed!']);\n",
              "            Plotly.purge(gd);\n",
              "            observer.disconnect();\n",
              "        }}\n",
              "}});\n",
              "\n",
              "// Listen for the removal of the full notebook cells\n",
              "var notebookContainer = gd.closest('#notebook-container');\n",
              "if (notebookContainer) {{\n",
              "    x.observe(notebookContainer, {childList: true});\n",
              "}}\n",
              "\n",
              "// Listen for the clearing of the current output cell\n",
              "var outputEl = gd.closest('.output');\n",
              "if (outputEl) {{\n",
              "    x.observe(outputEl, {childList: true});\n",
              "}}\n",
              "\n",
              "                        })\n",
              "                };\n",
              "                \n",
              "            </script>\n",
              "        </div>\n",
              "</body>\n",
              "</html>"
            ]
          },
          "metadata": {}
        },
        {
          "output_type": "stream",
          "name": "stdout",
          "text": [
            "cluster index\n",
            "(array([  4,   5,   7,  10,  12,  17,  18,  19,  20,  22,  23,  25,  26,\n",
            "        31,  37,  38,  39,  45,  52,  53,  54,  55,  59,  62,  64,  87,\n",
            "       106, 110, 111, 118, 119, 131, 132, 140, 146, 149, 153, 156, 158,\n",
            "       159, 162, 164, 165, 169, 170, 171, 173, 174, 187, 195, 198, 200,\n",
            "       206, 218, 221, 222, 231, 232, 233, 234, 236, 237, 240, 241, 243,\n",
            "       250, 251, 252, 260, 261, 262, 267, 275, 282, 286, 296, 303, 335,\n",
            "       341, 343, 345, 347, 348, 350, 358, 362, 363, 367, 368, 370, 372,\n",
            "       373, 375, 378, 382, 387, 390, 394, 396, 397, 399, 400, 401, 402,\n",
            "       403, 405, 406, 408, 409, 410, 412, 413, 419]),)\n",
            "구성요소 개수 : 113\n",
            "각각의 평균 출력\n",
            "0.050417016185840706\n",
            "0.049879324265486726\n",
            "cluster index\n",
            "(array([  3,  47,  86, 101, 107, 116, 125, 129, 136, 138, 139, 142, 205,\n",
            "       270, 272]),)\n",
            "구성요소 개수 : 15\n",
            "각각의 평균 출력\n",
            "0.7454505937333333\n",
            "0.12121212133333333\n",
            "cluster index\n",
            "(array([  0,   1,   2,   6,   8,   9,  11,  13,  15,  16,  24,  27,  30,\n",
            "        32,  33,  35,  41,  42,  43,  44,  46,  48,  49,  50,  51,  56,\n",
            "        58,  60,  61,  63,  65,  66,  68,  70,  71,  72,  74,  75,  76,\n",
            "        78,  80,  81,  82,  83,  84,  85,  88,  89,  90,  91,  92,  93,\n",
            "        94,  95,  96,  97,  98, 102, 103, 104, 105, 108, 109, 112, 113,\n",
            "       114, 115, 117, 120, 121, 122, 123, 124, 127, 128, 130, 133, 134,\n",
            "       135, 137, 141, 143, 145, 147, 148, 150, 151, 155, 161, 163, 167,\n",
            "       168, 172, 177, 180, 181, 182, 185, 186, 189, 190, 191, 192, 193,\n",
            "       194, 201, 203, 208, 212, 213, 215, 216, 220, 223, 227, 228, 235,\n",
            "       239, 242, 244, 245, 247, 249, 253, 255, 256, 258, 265, 266, 268,\n",
            "       269, 271, 273, 278, 279, 280, 283, 285, 289, 291, 292, 293, 294,\n",
            "       295, 297, 298, 300, 302, 304, 306, 307, 308, 310, 311, 314, 315,\n",
            "       316, 317, 318, 319, 320, 322, 323, 324, 325, 326, 327, 328, 329,\n",
            "       332, 334, 337, 338, 339, 349, 351, 352, 353, 355, 357, 360, 374,\n",
            "       376, 381, 383, 384, 386, 389, 391, 398, 407, 411, 414, 415, 417,\n",
            "       418, 420, 421]),)\n",
            "구성요소 개수 : 198\n",
            "각각의 평균 출력\n",
            "0.3206208305353535\n",
            "0.09090909100000001\n",
            "cluster index\n",
            "(array([ 14,  21,  28,  29,  34,  36,  40,  57,  67,  69,  73,  77,  79,\n",
            "        99, 100, 126, 144, 152, 154, 157, 160, 166, 175, 176, 178, 179,\n",
            "       183, 184, 188, 196, 197, 199, 202, 204, 207, 209, 210, 211, 214,\n",
            "       217, 219, 224, 225, 226, 229, 230, 238, 246, 248, 254, 257, 259,\n",
            "       263, 264, 274, 276, 277, 281, 284, 287, 288, 290, 299, 301, 305,\n",
            "       309, 312, 313, 321, 330, 331, 333, 336, 340, 342, 344, 346, 354,\n",
            "       356, 359, 361, 364, 365, 366, 369, 371, 377, 379, 380, 385, 388,\n",
            "       392, 393, 395, 404, 416, 422, 423]),)\n",
            "구성요소 개수 : 98\n",
            "각각의 평균 출력\n",
            "0.24557246487755102\n",
            "0.282931354622449\n"
          ]
        },
        {
          "output_type": "display_data",
          "data": {
            "image/png": "[encoded data removed]",
            "text/plain": [
              "<Figure size 432x288 with 1 Axes>"
            ]
          },
          "metadata": {
            "image/png": {
              "width": 372,
              "height": 263
            },
            "needs_background": "light"
          }
        }
      ]
    },
    {
      "cell_type": "markdown",
      "metadata": {
        "id": "nGGfBIaDE_Ul"
      },
      "source": [
        "# **Gaussian Mixture Clustering**"
      ]
    },
    {
      "cell_type": "code",
      "metadata": {
        "colab": {
          "base_uri": "https://localhost:8080/",
          "height": 1000
        },
        "id": "ZpqkOJMbE8dP",
        "outputId": "a279443b-6055-498d-d4d0-cf6688c83d46"
      },
      "source": [
        "# gaussian mixture clustering\n",
        "from numpy import unique\n",
        "from numpy import where\n",
        "from sklearn.mixture import GaussianMixture\n",
        "\n",
        "# define the model\n",
        "model = GaussianMixture(n_components=4) #cluster 개수 조정, n_components=2\n",
        "# fit the model\n",
        "model.fit(data_np_cluster)\n",
        "\n",
        "# assign a cluster to each example\n",
        "yhat = model.predict(data_np_cluster)\n",
        "# retrieve unique clusters\n",
        "clusters = unique(yhat)\n",
        "\n",
        "\n",
        "#yhat pd에 추가하기\n",
        "df = pd.DataFrame(yhat, columns = ['cluster'])\n",
        "data_plot = pd.concat([data_cluster,df], axis=1)\n",
        "\n",
        "fig = px.scatter(data_plot, x=\"주택가 기준 배송 난이도\", y=\"무인택배함 공급량\",color = \"cluster\", symbol=\"cluster\",width=800, height=600)\n",
        "\n",
        "fig.update(layout_showlegend=False,layout_coloraxis_showscale=False, layout_font=dict(\n",
        "        family=\"Arial\",\n",
        "        size=18,\n",
        "        color=\"Black\"\n",
        "    ))\n",
        "\n",
        "fig.show()\n",
        "\n",
        "# create scatter plot for samples from each cluster\n",
        "for cluster in clusters:\n",
        "    # get row indexes for samples with this cluster\n",
        "    row_ix = where(yhat == cluster)\n",
        "    #print(row_ix)\n",
        "    # create scatter of these samples\n",
        "    print(\"cluster index\")\n",
        "    print(row_ix)\n",
        "    print(\"구성요소 개수 :\", data_np_cluster[row_ix, 0].size)\n",
        "    print(\"각각의 평균 출력\")\n",
        "    print(data_np_cluster[row_ix, 0].mean())\n",
        "    print(data_np_cluster[row_ix, 1].mean())\n",
        "    # create scatter of these samples\n",
        "    plt.scatter(data_np_cluster[row_ix, 0], data_np_cluster[row_ix, 1])\n",
        "\n",
        "#show the plot\n",
        "plt.title(\"color order : blue,orange,green,red\") \n",
        "plt.show()\n"
      ],
      "execution_count": null,
      "outputs": [
        {
          "output_type": "display_data",
          "data": {
            "text/html": [
              "<html>\n",
              "<head><meta charset=\"utf-8\" /></head>\n",
              "<body>\n",
              "    <div>\n",
              "            <script src=\"https://cdnjs.cloudflare.com/ajax/libs/mathjax/2.7.5/MathJax.js?config=TeX-AMS-MML_SVG\"></script><script type=\"text/javascript\">if (window.MathJax) {MathJax.Hub.Config({SVG: {font: \"STIX-Web\"}});}</script>\n",
              "                <script type=\"text/javascript\">window.PlotlyConfig = {MathJaxConfig: 'local'};</script>\n",
              "        <script src=\"https://cdn.plot.ly/plotly-latest.min.js\"></script>    \n",
              "            <div id=\"ccc58abd-10f0-4a76-9646-edc1663cc083\" class=\"plotly-graph-div\" style=\"height:600px; width:800px;\"></div>\n",
              "            <script type=\"text/javascript\">\n",
              "                \n",
              "                    window.PLOTLYENV=window.PLOTLYENV || {};\n",
              "                    \n",
              "                if (document.getElementById(\"ccc58abd-10f0-4a76-9646-edc1663cc083\")) {\n",
              "                    Plotly.newPlot(\n",
              "                        'ccc58abd-10f0-4a76-9646-edc1663cc083',\n",
              "                        [{\"hoverlabel\": {\"namelength\": 0}, \"hovertemplate\": \"cluster=%{marker.color}<br>\\uc8fc\\ud0dd\\uac00 \\uae30\\uc900 \\ubc30\\uc1a1 \\ub09c\\uc774\\ub3c4=%{x}<br>\\ubb34\\uc778\\ud0dd\\ubc30\\ud568 \\uacf5\\uae09\\ub7c9=%{y}\", \"legendgroup\": \"cluster=3\", \"marker\": {\"color\": [3, 3, 3, 3, 3, 3, 3, 3, 3, 3, 3, 3, 3, 3, 3, 3, 3, 3, 3, 3, 3, 3, 3, 3, 3, 3, 3, 3, 3, 3, 3, 3, 3, 3, 3, 3, 3, 3, 3, 3, 3, 3, 3, 3, 3, 3, 3, 3, 3, 3, 3, 3, 3, 3, 3, 3, 3, 3, 3, 3, 3, 3, 3, 3, 3, 3, 3, 3, 3, 3, 3, 3, 3, 3, 3, 3, 3, 3, 3, 3, 3, 3, 3, 3, 3, 3, 3, 3, 3, 3, 3, 3, 3, 3, 3, 3, 3, 3, 3, 3, 3, 3, 3, 3, 3, 3, 3, 3, 3, 3, 3, 3, 3, 3, 3, 3, 3, 3, 3, 3, 3, 3, 3, 3, 3, 3, 3, 3, 3, 3, 3, 3, 3, 3], \"coloraxis\": \"coloraxis\", \"symbol\": \"circle\"}, \"mode\": \"markers\", \"name\": \"cluster=3\", \"showlegend\": true, \"type\": \"scatter\", \"x\": [0.168473388, 0.149563942, 0.08248431, 0.109299861, 0.10897383599999999, 0.087700709, 0.16904393199999998, 0.002934224, 0.064634445, 0.039693537, 0.097318445, 0.098133507, 0.012959491, 0.17181514399999998, 0.107262206, 0.076045318, 0.145407124, 0.072866574, 0.161789877, 0.109218355, 0.005134893, 0.048985247, 0.138397587, 0.163990545, 0.149074904, 0.050615372, 0.013693048000000001, 0.126497677, 0.074659712, 0.130165458, 0.05803244, 0.16480560800000002, 0.164398076, 0.12763876400000002, 0.17589045600000003, 0.0017116310000000001, 0.059336539, 0.016953297, 0.154861847, 0.032928518999999996, 0.128861358, 0.12666069, 0.021273127000000003, 0.010025267, 0.04352433, 0.023881327, 0.169369957, 0.011736898, 0.137174994, 0.074659712, 0.011573885, 0.1372565, 0.0, 0.0, 0.027549108, 0.0, 0.0, 0.0, 0.013693048000000001, 0.103675931, 0.16366452, 0.052979053, 0.12812780199999999, 0.064226913, 0.14296193699999998, 0.152742685, 0.132121607, 0.043931860999999996, 0.037900399, 0.01882794, 0.055913277000000004, 0.08737468400000001, 0.17450485, 0.0, 0.013611541000000001, 0.06903578099999999, 0.074415193, 0.104898525, 0.0, 0.0, 0.17686853, 0.0, 0.065041976, 0.170022007, 0.12837232, 0.17124460000000002, 0.131062026, 0.033091532, 0.0, 0.14964544800000001, 0.17385279999999997, 0.071154943, 0.159181677, 0.128779852, 0.04287228, 0.015975222, 0.0, 0.0, 0.0, 0.114108729, 0.17328225600000002, 0.170103513, 0.15999674, 0.10074170699999999, 0.13252913800000002, 0.0, 0.104490994, 0.0, 0.014752629, 0.09006439, 0.016708778, 0.155432391, 0.099519113, 0.0, 0.06626456900000001, 0.0, 0.0, 0.177928112, 0.0, 0.0, 0.0, 0.0, 0.0, 0.0, 0.006683511, 0.182329448, 0.027386095, 0.082647323, 0.147200261, 0.045480479000000004, 0.063982395, 0.168310376, 0.0, 0.168147363], \"xaxis\": \"x\", \"y\": [0.090909091, 0.0, 0.0, 0.090909091, 0.090909091, 0.0, 0.090909091, 0.0, 0.0, 0.090909091, 0.090909091, 0.0, 0.0, 0.0, 0.0, 0.0, 0.0, 0.0, 0.0, 0.0, 0.090909091, 0.090909091, 0.090909091, 0.090909091, 0.090909091, 0.0, 0.0, 0.0, 0.090909091, 0.0, 0.090909091, 0.090909091, 0.090909091, 0.0, 0.090909091, 0.090909091, 0.0, 0.090909091, 0.0, 0.0, 0.090909091, 0.0, 0.0, 0.0, 0.090909091, 0.0, 0.090909091, 0.090909091, 0.090909091, 0.090909091, 0.0, 0.0, 0.0, 0.0, 0.0, 0.0, 0.0, 0.0, 0.0, 0.0, 0.0, 0.0, 0.0, 0.090909091, 0.0, 0.090909091, 0.090909091, 0.0, 0.090909091, 0.0, 0.090909091, 0.0, 0.0, 0.0, 0.0, 0.090909091, 0.0, 0.0, 0.0, 0.0, 0.090909091, 0.0, 0.090909091, 0.090909091, 0.090909091, 0.090909091, 0.090909091, 0.0, 0.0, 0.0, 0.090909091, 0.090909091, 0.0, 0.0, 0.090909091, 0.0, 0.0, 0.0, 0.0, 0.090909091, 0.0, 0.0, 0.0, 0.090909091, 0.090909091, 0.0, 0.090909091, 0.0, 0.0, 0.090909091, 0.090909091, 0.090909091, 0.090909091, 0.0, 0.0, 0.090909091, 0.0, 0.090909091, 0.0, 0.0, 0.0, 0.0, 0.0, 0.0, 0.090909091, 0.090909091, 0.090909091, 0.090909091, 0.0, 0.090909091, 0.0, 0.090909091, 0.0, 0.090909091], \"yaxis\": \"y\"}, {\"hoverlabel\": {\"namelength\": 0}, \"hovertemplate\": \"cluster=%{marker.color}<br>\\uc8fc\\ud0dd\\uac00 \\uae30\\uc900 \\ubc30\\uc1a1 \\ub09c\\uc774\\ub3c4=%{x}<br>\\ubb34\\uc778\\ud0dd\\ubc30\\ud568 \\uacf5\\uae09\\ub7c9=%{y}\", \"legendgroup\": \"cluster=1\", \"marker\": {\"color\": [1, 1, 1, 1, 1, 1, 1, 1, 1, 1, 1, 1, 1, 1, 1, 1, 1, 1, 1, 1, 1, 1, 1, 1, 1, 1, 1, 1, 1, 1, 1, 1, 1, 1, 1, 1, 1, 1, 1, 1, 1, 1, 1, 1, 1, 1, 1, 1, 1, 1, 1, 1, 1, 1, 1, 1, 1, 1, 1, 1], \"coloraxis\": \"coloraxis\", \"symbol\": \"diamond\"}, \"mode\": \"markers\", \"name\": \"cluster=1\", \"showlegend\": true, \"type\": \"scatter\", \"x\": [0.473958758, 0.902926074, 0.496128454, 0.484799087, 0.532480235, 0.577634689, 0.59124623, 0.6682696229999999, 0.451789062, 0.569565572, 0.522047437, 0.553753362, 0.5319911970000001, 0.616024126, 0.47216562100000004, 0.732578042, 0.702991279, 0.568669003, 0.563697123, 0.647893064, 0.506561252, 0.512429701, 0.765669574, 0.5557095120000001, 0.66810661, 0.470535496, 0.502322928, 0.519928275, 0.635911647, 0.49172711700000005, 0.63542261, 0.8384546420000001, 0.447224713, 0.720270601, 0.47868611899999997, 0.447469231, 0.573151846, 0.5478034070000001, 0.46165131600000003, 0.49963322200000004, 1.0, 0.455130818, 0.44486103200000005, 0.870405086, 0.776835928, 0.5473958760000001, 0.45154454299999996, 0.436221371, 0.525959736, 0.452196593, 0.47550737600000004, 0.480316244, 0.457005461, 0.558154699, 0.490667536, 0.511696145, 0.40679762, 0.482761431, 0.602331078, 0.5343548779999999], \"xaxis\": \"x\", \"y\": [0.0, 0.0, 0.090909091, 0.0, 0.090909091, 0.090909091, 0.181818182, 0.272727273, 0.181818182, 0.090909091, 0.272727273, 0.090909091, 0.090909091, 0.181818182, 0.090909091, 0.0, 0.090909091, 0.0, 0.0, 0.090909091, 0.090909091, 0.0, 0.090909091, 0.272727273, 0.181818182, 0.181818182, 0.181818182, 0.090909091, 0.0, 0.181818182, 0.090909091, 0.181818182, 0.090909091, 0.181818182, 0.181818182, 0.090909091, 0.181818182, 0.090909091, 0.181818182, 0.181818182, 0.181818182, 0.0, 0.090909091, 0.181818182, 0.090909091, 0.272727273, 0.181818182, 0.090909091, 0.181818182, 0.181818182, 0.090909091, 0.090909091, 0.181818182, 0.090909091, 0.0, 0.0, 0.0, 0.0, 0.090909091, 0.090909091], \"yaxis\": \"y\"}, {\"hoverlabel\": {\"namelength\": 0}, \"hovertemplate\": \"cluster=%{marker.color}<br>\\uc8fc\\ud0dd\\uac00 \\uae30\\uc900 \\ubc30\\uc1a1 \\ub09c\\uc774\\ub3c4=%{x}<br>\\ubb34\\uc778\\ud0dd\\ubc30\\ud568 \\uacf5\\uae09\\ub7c9=%{y}\", \"legendgroup\": \"cluster=2\", \"marker\": {\"color\": [2, 2, 2, 2, 2, 2, 2, 2, 2, 2, 2, 2, 2, 2, 2, 2, 2, 2, 2, 2, 2, 2, 2, 2, 2, 2, 2, 2, 2, 2, 2, 2, 2, 2, 2, 2, 2, 2, 2, 2, 2, 2, 2, 2, 2, 2, 2, 2, 2, 2, 2, 2, 2, 2, 2, 2, 2, 2, 2, 2, 2, 2, 2, 2, 2, 2, 2, 2, 2, 2, 2, 2, 2, 2, 2, 2, 2, 2, 2, 2, 2, 2, 2, 2, 2, 2, 2, 2, 2, 2, 2, 2, 2, 2, 2, 2, 2, 2, 2, 2, 2, 2, 2, 2, 2, 2, 2, 2, 2, 2, 2, 2, 2, 2, 2, 2, 2, 2, 2, 2, 2, 2], \"coloraxis\": \"coloraxis\", \"symbol\": \"square\"}, \"mode\": \"markers\", \"name\": \"cluster=2\", \"showlegend\": true, \"type\": \"scatter\", \"x\": [0.019806015, 0.150379004, 0.155187872, 0.39620180899999996, 0.13741951300000002, 0.181106855, 0.126579183, 0.267829489, 0.249572092, 0.04026408, 0.239628332, 0.20857445600000002, 0.289917679, 0.32194962899999996, 0.436384383, 0.262205559, 0.267258945, 0.345178906, 0.287798517, 0.232863314, 0.294319015, 0.063982395, 0.223164072, 0.21419838600000002, 0.171163094, 0.0, 0.248594017, 0.402722308, 0.488711386, 0.317140761, 0.133262695, 0.24133996300000002, 0.114353248, 0.27312739399999997, 0.082891841, 0.361561659, 0.481131307, 0.28144103, 0.488303855, 0.33490912100000003, 0.275980112, 0.195125927, 0.38552449299999997, 0.23555302, 0.348276143, 0.07637134200000001, 0.192517728, 0.27019317, 0.162115902, 0.220066835, 0.392697041, 0.126090146, 0.208085419, 0.050615372, 0.0, 0.0, 0.15290569699999998, 0.307441519, 0.24386665600000001, 0.33768033299999994, 0.267340452, 0.052653028, 0.182329448, 0.085663053, 0.209634037, 0.309397669, 0.24745293, 0.207514875, 0.136441438, 0.479990219, 0.37933001899999996, 0.162767952, 0.07881653, 0.09519928300000001, 0.291873828, 0.151357079, 0.053142065, 0.41242155, 0.28364169899999997, 0.40940582, 0.163175483, 0.36025756, 0.344526856, 0.278506806, 0.25372891, 0.200097807, 0.148911892, 0.24142146899999997, 0.342244682, 0.419757111, 0.168799413, 0.234167414, 0.081995273, 0.20335805699999998, 0.25870079100000004, 0.169695982, 0.28771701, 0.453011655, 0.142798924, 0.002934224, 0.14679273, 0.14353248, 0.075800799, 0.037981906, 0.17556443100000002, 0.134403782, 0.25633711, 0.04352433, 0.308012063, 0.170185019, 0.098622545, 0.22952155800000001, 0.211264162, 0.18811639100000002, 0.112234086, 0.09682940699999999, 0.085500041, 0.105143043, 0.08468497800000001, 0.114353248, 0.441111745, 0.340044013], \"xaxis\": \"x\", \"y\": [0.181818182, 0.181818182, 0.272727273, 0.363636364, 0.363636364, 0.181818182, 0.272727273, 0.272727273, 0.181818182, 0.181818182, 0.181818182, 0.181818182, 0.363636364, 0.272727273, 0.272727273, 0.272727273, 0.363636364, 0.272727273, 0.181818182, 0.272727273, 0.272727273, 0.272727273, 0.181818182, 0.181818182, 0.181818182, 0.181818182, 0.272727273, 0.363636364, 0.363636364, 0.272727273, 0.181818182, 0.272727273, 0.181818182, 0.181818182, 0.181818182, 0.272727273, 0.454545455, 0.454545455, 0.272727273, 0.272727273, 0.272727273, 0.181818182, 0.454545455, 0.272727273, 0.272727273, 0.272727273, 0.181818182, 0.181818182, 0.363636364, 0.181818182, 0.272727273, 0.181818182, 0.181818182, 0.181818182, 0.363636364, 0.181818182, 0.181818182, 0.363636364, 0.181818182, 0.363636364, 0.181818182, 0.272727273, 0.181818182, 0.181818182, 0.181818182, 0.272727273, 0.181818182, 0.272727273, 0.181818182, 0.454545455, 0.272727273, 0.181818182, 0.272727273, 0.181818182, 0.272727273, 0.272727273, 0.181818182, 0.363636364, 0.181818182, 0.363636364, 0.181818182, 0.272727273, 0.454545455, 0.181818182, 0.181818182, 0.272727273, 0.181818182, 0.181818182, 0.454545455, 0.363636364, 0.181818182, 0.272727273, 0.272727273, 0.181818182, 0.181818182, 0.272727273, 0.272727273, 0.363636364, 0.272727273, 0.181818182, 0.181818182, 0.454545455, 0.272727273, 0.181818182, 0.363636364, 0.272727273, 0.181818182, 0.363636364, 0.272727273, 0.272727273, 0.363636364, 0.181818182, 0.272727273, 0.545454545, 0.181818182, 0.181818182, 0.181818182, 0.181818182, 0.181818182, 0.272727273, 0.363636364, 0.545454545], \"yaxis\": \"y\"}, {\"hoverlabel\": {\"namelength\": 0}, \"hovertemplate\": \"cluster=%{marker.color}<br>\\uc8fc\\ud0dd\\uac00 \\uae30\\uc900 \\ubc30\\uc1a1 \\ub09c\\uc774\\ub3c4=%{x}<br>\\ubb34\\uc778\\ud0dd\\ubc30\\ud568 \\uacf5\\uae09\\ub7c9=%{y}\", \"legendgroup\": \"cluster=0\", \"marker\": {\"color\": [0, 0, 0, 0, 0, 0, 0, 0, 0, 0, 0, 0, 0, 0, 0, 0, 0, 0, 0, 0, 0, 0, 0, 0, 0, 0, 0, 0, 0, 0, 0, 0, 0, 0, 0, 0, 0, 0, 0, 0, 0, 0, 0, 0, 0, 0, 0, 0, 0, 0, 0, 0, 0, 0, 0, 0, 0, 0, 0, 0, 0, 0, 0, 0, 0, 0, 0, 0, 0, 0, 0, 0, 0, 0, 0, 0, 0, 0, 0, 0, 0, 0, 0, 0, 0, 0, 0, 0, 0, 0, 0, 0, 0, 0, 0, 0, 0, 0, 0, 0, 0, 0, 0, 0, 0, 0, 0, 0], \"coloraxis\": \"coloraxis\", \"symbol\": \"x\"}, \"mode\": \"markers\", \"name\": \"cluster=0\", \"showlegend\": true, \"type\": \"scatter\", \"x\": [0.203684082, 0.18681229100000002, 0.23123318899999998, 0.243703643, 0.24386665600000001, 0.33050778399999997, 0.365555465, 0.223571603, 0.323742766, 0.22340859100000002, 0.412747575, 0.270600701, 0.41062841299999997, 0.26994865100000004, 0.38405738, 0.31934143, 0.239302307, 0.30915315, 0.180862336, 0.34444535, 0.199853289, 0.286168392, 0.376314288, 0.410139376, 0.23824272600000002, 0.41282908100000004, 0.36050207799999995, 0.264813758, 0.25364740399999997, 0.444698019, 0.31648871100000003, 0.226261309, 0.39000733600000004, 0.21998532899999998, 0.288532073, 0.286575923, 0.388051186, 0.342733719, 0.24949058600000001, 0.40924280700000004, 0.35178091100000003, 0.27557258100000004, 0.34697204299999995, 0.358708941, 0.438992583, 0.260982965, 0.42945635299999996, 0.252098786, 0.35414459200000004, 0.241013938, 0.23033662100000002, 0.207025837, 0.31722226800000003, 0.397587415, 0.3098052, 0.326595485, 0.19333279, 0.364658896, 0.34656451200000005, 0.35332953, 0.293422447, 0.21036759300000002, 0.326024941, 0.299127883, 0.20515119399999998, 0.260412422, 0.349091205, 0.244844731, 0.332056402, 0.195777977, 0.24981661100000002, 0.37085337, 0.35186241700000004, 0.40948732600000004, 0.300350477, 0.427663216, 0.339147445, 0.42627761, 0.306463444, 0.26962262600000003, 0.250387155, 0.343467275, 0.355693211, 0.38666558, 0.195370446, 0.216725079, 0.24565979300000002, 0.25193577300000003, 0.364251365, 0.247045399, 0.26261309, 0.375743744, 0.38519846799999996, 0.34395631299999996, 0.317711305, 0.39359361, 0.264487733, 0.34363028799999995, 0.314614068, 0.22560925899999998, 0.301899095, 0.34395631299999996, 0.187382835, 0.222512022, 0.363680822, 0.326595485, 0.335153639, 0.355122667], \"xaxis\": \"x\", \"y\": [0.0, 0.0, 0.090909091, 0.0, 0.0, 0.0, 0.0, 0.0, 0.0, 0.090909091, 0.090909091, 0.090909091, 0.181818182, 0.090909091, 0.181818182, 0.181818182, 0.090909091, 0.181818182, 0.0, 0.090909091, 0.090909091, 0.0, 0.090909091, 0.181818182, 0.0, 0.181818182, 0.181818182, 0.0, 0.090909091, 0.181818182, 0.090909091, 0.090909091, 0.0, 0.0, 0.181818182, 0.090909091, 0.090909091, 0.090909091, 0.0, 0.090909091, 0.090909091, 0.090909091, 0.090909091, 0.181818182, 0.181818182, 0.090909091, 0.090909091, 0.0, 0.0, 0.090909091, 0.0, 0.090909091, 0.181818182, 0.181818182, 0.090909091, 0.090909091, 0.090909091, 0.181818182, 0.090909091, 0.090909091, 0.090909091, 0.090909091, 0.0, 0.181818182, 0.090909091, 0.090909091, 0.090909091, 0.0, 0.090909091, 0.0, 0.090909091, 0.090909091, 0.181818182, 0.181818182, 0.090909091, 0.181818182, 0.090909091, 0.181818182, 0.0, 0.090909091, 0.090909091, 0.0, 0.181818182, 0.090909091, 0.090909091, 0.0, 0.090909091, 0.0, 0.181818182, 0.090909091, 0.090909091, 0.090909091, 0.090909091, 0.090909091, 0.0, 0.090909091, 0.0, 0.181818182, 0.181818182, 0.0, 0.090909091, 0.181818182, 0.090909091, 0.090909091, 0.181818182, 0.090909091, 0.0, 0.181818182], \"yaxis\": \"y\"}],\n",
              "                        {\"coloraxis\": {\"colorbar\": {\"title\": {\"text\": \"cluster\"}}, \"colorscale\": [[0.0, \"#0d0887\"], [0.1111111111111111, \"#46039f\"], [0.2222222222222222, \"#7201a8\"], [0.3333333333333333, \"#9c179e\"], [0.4444444444444444, \"#bd3786\"], [0.5555555555555556, \"#d8576b\"], [0.6666666666666666, \"#ed7953\"], [0.7777777777777778, \"#fb9f3a\"], [0.8888888888888888, \"#fdca26\"], [1.0, \"#f0f921\"]], \"showscale\": false}, \"font\": {\"color\": \"Black\", \"family\": \"Arial\", \"size\": 18}, \"height\": 600, \"legend\": {\"tracegroupgap\": 0}, \"margin\": {\"t\": 60}, \"showlegend\": false, \"template\": {\"data\": {\"bar\": [{\"error_x\": {\"color\": \"#2a3f5f\"}, \"error_y\": {\"color\": \"#2a3f5f\"}, \"marker\": {\"line\": {\"color\": \"#E5ECF6\", \"width\": 0.5}}, \"type\": \"bar\"}], \"barpolar\": [{\"marker\": {\"line\": {\"color\": \"#E5ECF6\", \"width\": 0.5}}, \"type\": \"barpolar\"}], \"carpet\": [{\"aaxis\": {\"endlinecolor\": \"#2a3f5f\", \"gridcolor\": \"white\", \"linecolor\": \"white\", \"minorgridcolor\": \"white\", \"startlinecolor\": \"#2a3f5f\"}, \"baxis\": {\"endlinecolor\": \"#2a3f5f\", \"gridcolor\": \"white\", \"linecolor\": \"white\", \"minorgridcolor\": \"white\", \"startlinecolor\": \"#2a3f5f\"}, \"type\": \"carpet\"}], \"choropleth\": [{\"colorbar\": {\"outlinewidth\": 0, \"ticks\": \"\"}, \"type\": \"choropleth\"}], \"contour\": [{\"colorbar\": {\"outlinewidth\": 0, \"ticks\": \"\"}, \"colorscale\": [[0.0, \"#0d0887\"], [0.1111111111111111, \"#46039f\"], [0.2222222222222222, \"#7201a8\"], [0.3333333333333333, \"#9c179e\"], [0.4444444444444444, \"#bd3786\"], [0.5555555555555556, \"#d8576b\"], [0.6666666666666666, \"#ed7953\"], [0.7777777777777778, \"#fb9f3a\"], [0.8888888888888888, \"#fdca26\"], [1.0, \"#f0f921\"]], \"type\": \"contour\"}], \"contourcarpet\": [{\"colorbar\": {\"outlinewidth\": 0, \"ticks\": \"\"}, \"type\": \"contourcarpet\"}], \"heatmap\": [{\"colorbar\": {\"outlinewidth\": 0, \"ticks\": \"\"}, \"colorscale\": [[0.0, \"#0d0887\"], [0.1111111111111111, \"#46039f\"], [0.2222222222222222, \"#7201a8\"], [0.3333333333333333, \"#9c179e\"], [0.4444444444444444, \"#bd3786\"], [0.5555555555555556, \"#d8576b\"], [0.6666666666666666, \"#ed7953\"], [0.7777777777777778, \"#fb9f3a\"], [0.8888888888888888, \"#fdca26\"], [1.0, \"#f0f921\"]], \"type\": \"heatmap\"}], \"heatmapgl\": [{\"colorbar\": {\"outlinewidth\": 0, \"ticks\": \"\"}, \"colorscale\": [[0.0, \"#0d0887\"], [0.1111111111111111, \"#46039f\"], [0.2222222222222222, \"#7201a8\"], [0.3333333333333333, \"#9c179e\"], [0.4444444444444444, \"#bd3786\"], [0.5555555555555556, \"#d8576b\"], [0.6666666666666666, \"#ed7953\"], [0.7777777777777778, \"#fb9f3a\"], [0.8888888888888888, \"#fdca26\"], [1.0, \"#f0f921\"]], \"type\": \"heatmapgl\"}], \"histogram\": [{\"marker\": {\"colorbar\": {\"outlinewidth\": 0, \"ticks\": \"\"}}, \"type\": \"histogram\"}], \"histogram2d\": [{\"colorbar\": {\"outlinewidth\": 0, \"ticks\": \"\"}, \"colorscale\": [[0.0, \"#0d0887\"], [0.1111111111111111, \"#46039f\"], [0.2222222222222222, \"#7201a8\"], [0.3333333333333333, \"#9c179e\"], [0.4444444444444444, \"#bd3786\"], [0.5555555555555556, \"#d8576b\"], [0.6666666666666666, \"#ed7953\"], [0.7777777777777778, \"#fb9f3a\"], [0.8888888888888888, \"#fdca26\"], [1.0, \"#f0f921\"]], \"type\": \"histogram2d\"}], \"histogram2dcontour\": [{\"colorbar\": {\"outlinewidth\": 0, \"ticks\": \"\"}, \"colorscale\": [[0.0, \"#0d0887\"], [0.1111111111111111, \"#46039f\"], [0.2222222222222222, \"#7201a8\"], [0.3333333333333333, \"#9c179e\"], [0.4444444444444444, \"#bd3786\"], [0.5555555555555556, \"#d8576b\"], [0.6666666666666666, \"#ed7953\"], [0.7777777777777778, \"#fb9f3a\"], [0.8888888888888888, \"#fdca26\"], [1.0, \"#f0f921\"]], \"type\": \"histogram2dcontour\"}], \"mesh3d\": [{\"colorbar\": {\"outlinewidth\": 0, \"ticks\": \"\"}, \"type\": \"mesh3d\"}], \"parcoords\": [{\"line\": {\"colorbar\": {\"outlinewidth\": 0, \"ticks\": \"\"}}, \"type\": \"parcoords\"}], \"pie\": [{\"automargin\": true, \"type\": \"pie\"}], \"scatter\": [{\"marker\": {\"colorbar\": {\"outlinewidth\": 0, \"ticks\": \"\"}}, \"type\": \"scatter\"}], \"scatter3d\": [{\"line\": {\"colorbar\": {\"outlinewidth\": 0, \"ticks\": \"\"}}, \"marker\": {\"colorbar\": {\"outlinewidth\": 0, \"ticks\": \"\"}}, \"type\": \"scatter3d\"}], \"scattercarpet\": [{\"marker\": {\"colorbar\": {\"outlinewidth\": 0, \"ticks\": \"\"}}, \"type\": \"scattercarpet\"}], \"scattergeo\": [{\"marker\": {\"colorbar\": {\"outlinewidth\": 0, \"ticks\": \"\"}}, \"type\": \"scattergeo\"}], \"scattergl\": [{\"marker\": {\"colorbar\": {\"outlinewidth\": 0, \"ticks\": \"\"}}, \"type\": \"scattergl\"}], \"scattermapbox\": [{\"marker\": {\"colorbar\": {\"outlinewidth\": 0, \"ticks\": \"\"}}, \"type\": \"scattermapbox\"}], \"scatterpolar\": [{\"marker\": {\"colorbar\": {\"outlinewidth\": 0, \"ticks\": \"\"}}, \"type\": \"scatterpolar\"}], \"scatterpolargl\": [{\"marker\": {\"colorbar\": {\"outlinewidth\": 0, \"ticks\": \"\"}}, \"type\": \"scatterpolargl\"}], \"scatterternary\": [{\"marker\": {\"colorbar\": {\"outlinewidth\": 0, \"ticks\": \"\"}}, \"type\": \"scatterternary\"}], \"surface\": [{\"colorbar\": {\"outlinewidth\": 0, \"ticks\": \"\"}, \"colorscale\": [[0.0, \"#0d0887\"], [0.1111111111111111, \"#46039f\"], [0.2222222222222222, \"#7201a8\"], [0.3333333333333333, \"#9c179e\"], [0.4444444444444444, \"#bd3786\"], [0.5555555555555556, \"#d8576b\"], [0.6666666666666666, \"#ed7953\"], [0.7777777777777778, \"#fb9f3a\"], [0.8888888888888888, \"#fdca26\"], [1.0, \"#f0f921\"]], \"type\": \"surface\"}], \"table\": [{\"cells\": {\"fill\": {\"color\": \"#EBF0F8\"}, \"line\": {\"color\": \"white\"}}, \"header\": {\"fill\": {\"color\": \"#C8D4E3\"}, \"line\": {\"color\": \"white\"}}, \"type\": \"table\"}]}, \"layout\": {\"annotationdefaults\": {\"arrowcolor\": \"#2a3f5f\", \"arrowhead\": 0, \"arrowwidth\": 1}, \"coloraxis\": {\"colorbar\": {\"outlinewidth\": 0, \"ticks\": \"\"}}, \"colorscale\": {\"diverging\": [[0, \"#8e0152\"], [0.1, \"#c51b7d\"], [0.2, \"#de77ae\"], [0.3, \"#f1b6da\"], [0.4, \"#fde0ef\"], [0.5, \"#f7f7f7\"], [0.6, \"#e6f5d0\"], [0.7, \"#b8e186\"], [0.8, \"#7fbc41\"], [0.9, \"#4d9221\"], [1, \"#276419\"]], \"sequential\": [[0.0, \"#0d0887\"], [0.1111111111111111, \"#46039f\"], [0.2222222222222222, \"#7201a8\"], [0.3333333333333333, \"#9c179e\"], [0.4444444444444444, \"#bd3786\"], [0.5555555555555556, \"#d8576b\"], [0.6666666666666666, \"#ed7953\"], [0.7777777777777778, \"#fb9f3a\"], [0.8888888888888888, \"#fdca26\"], [1.0, \"#f0f921\"]], \"sequentialminus\": [[0.0, \"#0d0887\"], [0.1111111111111111, \"#46039f\"], [0.2222222222222222, \"#7201a8\"], [0.3333333333333333, \"#9c179e\"], [0.4444444444444444, \"#bd3786\"], [0.5555555555555556, \"#d8576b\"], [0.6666666666666666, \"#ed7953\"], [0.7777777777777778, \"#fb9f3a\"], [0.8888888888888888, \"#fdca26\"], [1.0, \"#f0f921\"]]}, \"colorway\": [\"#636efa\", \"#EF553B\", \"#00cc96\", \"#ab63fa\", \"#FFA15A\", \"#19d3f3\", \"#FF6692\", \"#B6E880\", \"#FF97FF\", \"#FECB52\"], \"font\": {\"color\": \"#2a3f5f\"}, \"geo\": {\"bgcolor\": \"white\", \"lakecolor\": \"white\", \"landcolor\": \"#E5ECF6\", \"showlakes\": true, \"showland\": true, \"subunitcolor\": \"white\"}, \"hoverlabel\": {\"align\": \"left\"}, \"hovermode\": \"closest\", \"mapbox\": {\"style\": \"light\"}, \"paper_bgcolor\": \"white\", \"plot_bgcolor\": \"#E5ECF6\", \"polar\": {\"angularaxis\": {\"gridcolor\": \"white\", \"linecolor\": \"white\", \"ticks\": \"\"}, \"bgcolor\": \"#E5ECF6\", \"radialaxis\": {\"gridcolor\": \"white\", \"linecolor\": \"white\", \"ticks\": \"\"}}, \"scene\": {\"xaxis\": {\"backgroundcolor\": \"#E5ECF6\", \"gridcolor\": \"white\", \"gridwidth\": 2, \"linecolor\": \"white\", \"showbackground\": true, \"ticks\": \"\", \"zerolinecolor\": \"white\"}, \"yaxis\": {\"backgroundcolor\": \"#E5ECF6\", \"gridcolor\": \"white\", \"gridwidth\": 2, \"linecolor\": \"white\", \"showbackground\": true, \"ticks\": \"\", \"zerolinecolor\": \"white\"}, \"zaxis\": {\"backgroundcolor\": \"#E5ECF6\", \"gridcolor\": \"white\", \"gridwidth\": 2, \"linecolor\": \"white\", \"showbackground\": true, \"ticks\": \"\", \"zerolinecolor\": \"white\"}}, \"shapedefaults\": {\"line\": {\"color\": \"#2a3f5f\"}}, \"ternary\": {\"aaxis\": {\"gridcolor\": \"white\", \"linecolor\": \"white\", \"ticks\": \"\"}, \"baxis\": {\"gridcolor\": \"white\", \"linecolor\": \"white\", \"ticks\": \"\"}, \"bgcolor\": \"#E5ECF6\", \"caxis\": {\"gridcolor\": \"white\", \"linecolor\": \"white\", \"ticks\": \"\"}}, \"title\": {\"x\": 0.05}, \"xaxis\": {\"automargin\": true, \"gridcolor\": \"white\", \"linecolor\": \"white\", \"ticks\": \"\", \"title\": {\"standoff\": 15}, \"zerolinecolor\": \"white\", \"zerolinewidth\": 2}, \"yaxis\": {\"automargin\": true, \"gridcolor\": \"white\", \"linecolor\": \"white\", \"ticks\": \"\", \"title\": {\"standoff\": 15}, \"zerolinecolor\": \"white\", \"zerolinewidth\": 2}}}, \"width\": 800, \"xaxis\": {\"anchor\": \"y\", \"domain\": [0.0, 1.0], \"title\": {\"text\": \"\\uc8fc\\ud0dd\\uac00 \\uae30\\uc900 \\ubc30\\uc1a1 \\ub09c\\uc774\\ub3c4\"}}, \"yaxis\": {\"anchor\": \"x\", \"domain\": [0.0, 1.0], \"title\": {\"text\": \"\\ubb34\\uc778\\ud0dd\\ubc30\\ud568 \\uacf5\\uae09\\ub7c9\"}}},\n",
              "                        {\"responsive\": true}\n",
              "                    ).then(function(){\n",
              "                            \n",
              "var gd = document.getElementById('ccc58abd-10f0-4a76-9646-edc1663cc083');\n",
              "var x = new MutationObserver(function (mutations, observer) {{\n",
              "        var display = window.getComputedStyle(gd).display;\n",
              "        if (!display || display === 'none') {{\n",
              "            console.log([gd, 'removed!']);\n",
              "            Plotly.purge(gd);\n",
              "            observer.disconnect();\n",
              "        }}\n",
              "}});\n",
              "\n",
              "// Listen for the removal of the full notebook cells\n",
              "var notebookContainer = gd.closest('#notebook-container');\n",
              "if (notebookContainer) {{\n",
              "    x.observe(notebookContainer, {childList: true});\n",
              "}}\n",
              "\n",
              "// Listen for the clearing of the current output cell\n",
              "var outputEl = gd.closest('.output');\n",
              "if (outputEl) {{\n",
              "    x.observe(outputEl, {childList: true});\n",
              "}}\n",
              "\n",
              "                        })\n",
              "                };\n",
              "                \n",
              "            </script>\n",
              "        </div>\n",
              "</body>\n",
              "</html>"
            ]
          },
          "metadata": {}
        },
        {
          "output_type": "stream",
          "name": "stdout",
          "text": [
            "cluster index\n",
            "(array([  6,   8,   9,  11,  27,  33,  41,  42,  49,  50,  58,  60,  61,\n",
            "        63,  65,  68,  71,  72,  74,  76,  80,  81,  82,  83,  88,  89,\n",
            "        90,  92,  93,  94,  95,  96,  97,  98, 102, 103, 104, 112, 113,\n",
            "       115, 117, 120, 121, 127, 128, 134, 143, 145, 147, 151, 163, 167,\n",
            "       168, 177, 180, 181, 182, 185, 186, 190, 193, 203, 212, 215, 216,\n",
            "       227, 228, 242, 244, 245, 247, 256, 258, 266, 271, 273, 280, 285,\n",
            "       292, 294, 295, 297, 300, 302, 310, 311, 314, 315, 317, 318, 322,\n",
            "       324, 326, 328, 334, 339, 349, 355, 360, 376, 383, 384, 389, 391,\n",
            "       414, 415, 417, 421]),)\n",
            "구성요소 개수 : 108\n",
            "각각의 평균 출력\n",
            "0.30672607563888893\n",
            "0.08838383847222221\n",
            "cluster index\n",
            "(array([  2,   3,  15,  16,  32,  43,  44,  47,  66,  70,  79,  84,  85,\n",
            "        86,  91, 101, 107, 108, 109, 116, 122, 123, 125, 126, 129, 130,\n",
            "       133, 135, 136, 137, 138, 139, 141, 142, 148, 155, 172, 189, 191,\n",
            "       201, 205, 220, 239, 270, 272, 274, 278, 279, 283, 291, 298, 304,\n",
            "       307, 308, 316, 319, 327, 329, 337, 338]),)\n",
            "구성요소 개수 : 60\n",
            "각각의 평균 출력\n",
            "0.5649903551333334\n",
            "0.11212121223333334\n",
            "cluster index\n",
            "(array([  4,  14,  21,  28,  29,  34,  36,  40,  46,  52,  56,  57,  67,\n",
            "        69,  73,  77,  99, 100, 124, 144, 152, 154, 157, 160, 166, 173,\n",
            "       175, 176, 178, 179, 183, 184, 188, 194, 195, 196, 197, 199, 202,\n",
            "       204, 207, 209, 210, 211, 214, 217, 219, 223, 224, 225, 226, 229,\n",
            "       230, 232, 238, 243, 246, 248, 249, 254, 255, 257, 259, 260, 263,\n",
            "       264, 269, 276, 277, 281, 284, 287, 288, 290, 299, 301, 303, 305,\n",
            "       306, 309, 312, 313, 321, 323, 325, 330, 331, 332, 333, 336, 340,\n",
            "       342, 344, 346, 352, 354, 356, 359, 361, 363, 364, 365, 366, 367,\n",
            "       369, 371, 374, 377, 379, 380, 385, 386, 388, 392, 393, 395, 396,\n",
            "       404, 408, 416, 422, 423]),)\n",
            "구성요소 개수 : 122\n",
            "각각의 평균 출력\n",
            "0.22020713273770492\n",
            "0.2608047692459016\n",
            "cluster index\n",
            "(array([  0,   1,   5,   7,  10,  12,  13,  17,  18,  19,  20,  22,  23,\n",
            "        24,  25,  26,  30,  31,  35,  37,  38,  39,  45,  48,  51,  53,\n",
            "        54,  55,  59,  62,  64,  75,  78,  87, 105, 106, 110, 111, 114,\n",
            "       118, 119, 131, 132, 140, 146, 149, 150, 153, 156, 158, 159, 161,\n",
            "       162, 164, 165, 169, 170, 171, 174, 187, 192, 198, 200, 206, 208,\n",
            "       213, 218, 221, 222, 231, 233, 234, 235, 236, 237, 240, 241, 250,\n",
            "       251, 252, 253, 261, 262, 265, 267, 268, 275, 282, 286, 289, 293,\n",
            "       296, 320, 335, 341, 343, 345, 347, 348, 350, 351, 353, 357, 358,\n",
            "       362, 368, 370, 372, 373, 375, 378, 381, 382, 387, 390, 394, 397,\n",
            "       398, 399, 400, 401, 402, 403, 405, 406, 407, 409, 410, 411, 412,\n",
            "       413, 418, 419, 420]),)\n",
            "구성요소 개수 : 134\n",
            "각각의 평균 출력\n",
            "0.07863283632835821\n",
            "0.037991858925373136\n"
          ]
        },
        {
          "output_type": "display_data",
          "data": {
            "image/png": "[encoded data removed]",
            "text/plain": [
              "<Figure size 432x288 with 1 Axes>"
            ]
          },
          "metadata": {
            "image/png": {
              "width": 372,
              "height": 263
            },
            "needs_background": "light"
          }
        }
      ]
    },
    {
      "cell_type": "markdown",
      "metadata": {
        "id": "nBVp-S8q-m6k"
      },
      "source": [
        "# **K-Medoids Clustering**"
      ]
    },
    {
      "cell_type": "code",
      "metadata": {
        "colab": {
          "base_uri": "https://localhost:8080/",
          "height": 1000
        },
        "id": "XmakYMddGj-R",
        "outputId": "e3ef6aae-c9df-4fde-819b-b63e374da5a2"
      },
      "source": [
        "!pip install scikit-learn-extra\n",
        "from sklearn_extra.cluster import KMedoids\n",
        "\n",
        "\n",
        "model = KMedoids(n_clusters=4, random_state=0).fit(data_np_cluster)\n",
        "centroids = model.cluster_centers_\n",
        "print(centroids)\n",
        "# assign a cluster to each example\n",
        "yhat = model.predict(data_np_cluster)\n",
        "# retrieve unique clusters\n",
        "clusters = unique(yhat)\n",
        "\n",
        "#yhat pd에 추가하기\n",
        "df = pd.DataFrame(yhat, columns = ['cluster'])\n",
        "data_plot = pd.concat([data_cluster,df], axis=1)\n",
        "\n",
        "fig = px.scatter(data_plot, x=\"주택가 기준 배송 난이도\", y=\"무인택배함 공급량\",color = \"cluster\", symbol=\"cluster\",width=800, height=600)\n",
        "\n",
        "fig.update(layout_showlegend=False,layout_coloraxis_showscale=False, layout_font=dict(\n",
        "        family=\"Arial\",\n",
        "        size=18,\n",
        "        color=\"Black\"\n",
        "    ))\n",
        "\n",
        "fig.show()\n",
        "\n",
        "# create scatter plot for samples from each cluster\n",
        "i =0\n",
        "for cluster in clusters:\n",
        "    # get row indexes for samples with this cluster\n",
        "    row_ix = where(yhat == cluster)\n",
        "    #print(row_ix)\n",
        "    # create scatter of these samples\n",
        "    print(\"cluster index\")\n",
        "    print(row_ix)\n",
        "    print(\"구성요소 개수 :\", data_np_cluster[row_ix, 0].size)\n",
        "    print(\"각각의 평균 출력\")\n",
        "    print(data_np_cluster[row_ix, 0].mean())\n",
        "    print(data_np_cluster[row_ix, 1].mean())\n",
        "    # create scatter of these samples\n",
        "    plt.scatter(x = data_np_cluster[row_ix, 0], y =data_np_cluster[row_ix, 1])   \n",
        "    plt.scatter(centroids[i, 0],centroids[i, 1],s=169,c = 'black',marker=\"x\")\n",
        "    i = i+1\n",
        "\n",
        "# #show the plot\n",
        "# plt.title(\"color order : blue,orange,green,red\") \n",
        "# pyplot.show()\n"
      ],
      "execution_count": null,
      "outputs": [
        {
          "output_type": "stream",
          "name": "stdout",
          "text": [
            "Collecting scikit-learn-extra\n",
            "  Downloading scikit_learn_extra-0.2.0-cp37-cp37m-manylinux2010_x86_64.whl (1.7 MB)\n",
            "\u001b[?25l\r\u001b[K     |▏                               | 10 kB 24.2 MB/s eta 0:00:01\r\u001b[K     |▍                               | 20 kB 26.4 MB/s eta 0:00:01\r\u001b[K     |▋                               | 30 kB 28.9 MB/s eta 0:00:01\r\u001b[K     |▊                               | 40 kB 31.0 MB/s eta 0:00:01\r\u001b[K     |█                               | 51 kB 32.1 MB/s eta 0:00:01\r\u001b[K     |█▏                              | 61 kB 34.5 MB/s eta 0:00:01\r\u001b[K     |█▍                              | 71 kB 34.1 MB/s eta 0:00:01\r\u001b[K     |█▌                              | 81 kB 35.6 MB/s eta 0:00:01\r\u001b[K     |█▊                              | 92 kB 32.3 MB/s eta 0:00:01\r\u001b[K     |██                              | 102 kB 31.0 MB/s eta 0:00:01\r\u001b[K     |██                              | 112 kB 31.0 MB/s eta 0:00:01\r\u001b[K     |██▎                             | 122 kB 31.0 MB/s eta 0:00:01\r\u001b[K     |██▌                             | 133 kB 31.0 MB/s eta 0:00:01\r\u001b[K     |██▊                             | 143 kB 31.0 MB/s eta 0:00:01\r\u001b[K     |██▉                             | 153 kB 31.0 MB/s eta 0:00:01\r\u001b[K     |███                             | 163 kB 31.0 MB/s eta 0:00:01\r\u001b[K     |███▎                            | 174 kB 31.0 MB/s eta 0:00:01\r\u001b[K     |███▌                            | 184 kB 31.0 MB/s eta 0:00:01\r\u001b[K     |███▋                            | 194 kB 31.0 MB/s eta 0:00:01\r\u001b[K     |███▉                            | 204 kB 31.0 MB/s eta 0:00:01\r\u001b[K     |████                            | 215 kB 31.0 MB/s eta 0:00:01\r\u001b[K     |████▏                           | 225 kB 31.0 MB/s eta 0:00:01\r\u001b[K     |████▍                           | 235 kB 31.0 MB/s eta 0:00:01\r\u001b[K     |████▋                           | 245 kB 31.0 MB/s eta 0:00:01\r\u001b[K     |████▉                           | 256 kB 31.0 MB/s eta 0:00:01\r\u001b[K     |█████                           | 266 kB 31.0 MB/s eta 0:00:01\r\u001b[K     |█████▏                          | 276 kB 31.0 MB/s eta 0:00:01\r\u001b[K     |█████▍                          | 286 kB 31.0 MB/s eta 0:00:01\r\u001b[K     |█████▋                          | 296 kB 31.0 MB/s eta 0:00:01\r\u001b[K     |█████▊                          | 307 kB 31.0 MB/s eta 0:00:01\r\u001b[K     |██████                          | 317 kB 31.0 MB/s eta 0:00:01\r\u001b[K     |██████▏                         | 327 kB 31.0 MB/s eta 0:00:01\r\u001b[K     |██████▎                         | 337 kB 31.0 MB/s eta 0:00:01\r\u001b[K     |██████▌                         | 348 kB 31.0 MB/s eta 0:00:01\r\u001b[K     |██████▊                         | 358 kB 31.0 MB/s eta 0:00:01\r\u001b[K     |███████                         | 368 kB 31.0 MB/s eta 0:00:01\r\u001b[K     |███████                         | 378 kB 31.0 MB/s eta 0:00:01\r\u001b[K     |███████▎                        | 389 kB 31.0 MB/s eta 0:00:01\r\u001b[K     |███████▌                        | 399 kB 31.0 MB/s eta 0:00:01\r\u001b[K     |███████▋                        | 409 kB 31.0 MB/s eta 0:00:01\r\u001b[K     |███████▉                        | 419 kB 31.0 MB/s eta 0:00:01\r\u001b[K     |████████                        | 430 kB 31.0 MB/s eta 0:00:01\r\u001b[K     |████████▎                       | 440 kB 31.0 MB/s eta 0:00:01\r\u001b[K     |████████▍                       | 450 kB 31.0 MB/s eta 0:00:01\r\u001b[K     |████████▋                       | 460 kB 31.0 MB/s eta 0:00:01\r\u001b[K     |████████▉                       | 471 kB 31.0 MB/s eta 0:00:01\r\u001b[K     |█████████                       | 481 kB 31.0 MB/s eta 0:00:01\r\u001b[K     |█████████▏                      | 491 kB 31.0 MB/s eta 0:00:01\r\u001b[K     |█████████▍                      | 501 kB 31.0 MB/s eta 0:00:01\r\u001b[K     |█████████▋                      | 512 kB 31.0 MB/s eta 0:00:01\r\u001b[K     |█████████▊                      | 522 kB 31.0 MB/s eta 0:00:01\r\u001b[K     |██████████                      | 532 kB 31.0 MB/s eta 0:00:01\r\u001b[K     |██████████▏                     | 542 kB 31.0 MB/s eta 0:00:01\r\u001b[K     |██████████▍                     | 552 kB 31.0 MB/s eta 0:00:01\r\u001b[K     |██████████▌                     | 563 kB 31.0 MB/s eta 0:00:01\r\u001b[K     |██████████▊                     | 573 kB 31.0 MB/s eta 0:00:01\r\u001b[K     |███████████                     | 583 kB 31.0 MB/s eta 0:00:01\r\u001b[K     |███████████▏                    | 593 kB 31.0 MB/s eta 0:00:01\r\u001b[K     |███████████▎                    | 604 kB 31.0 MB/s eta 0:00:01\r\u001b[K     |███████████▌                    | 614 kB 31.0 MB/s eta 0:00:01\r\u001b[K     |███████████▊                    | 624 kB 31.0 MB/s eta 0:00:01\r\u001b[K     |███████████▉                    | 634 kB 31.0 MB/s eta 0:00:01\r\u001b[K     |████████████                    | 645 kB 31.0 MB/s eta 0:00:01\r\u001b[K     |████████████▎                   | 655 kB 31.0 MB/s eta 0:00:01\r\u001b[K     |████████████▌                   | 665 kB 31.0 MB/s eta 0:00:01\r\u001b[K     |████████████▋                   | 675 kB 31.0 MB/s eta 0:00:01\r\u001b[K     |████████████▉                   | 686 kB 31.0 MB/s eta 0:00:01\r\u001b[K     |█████████████                   | 696 kB 31.0 MB/s eta 0:00:01\r\u001b[K     |█████████████▏                  | 706 kB 31.0 MB/s eta 0:00:01\r\u001b[K     |█████████████▍                  | 716 kB 31.0 MB/s eta 0:00:01\r\u001b[K     |█████████████▋                  | 727 kB 31.0 MB/s eta 0:00:01\r\u001b[K     |█████████████▉                  | 737 kB 31.0 MB/s eta 0:00:01\r\u001b[K     |██████████████                  | 747 kB 31.0 MB/s eta 0:00:01\r\u001b[K     |██████████████▏                 | 757 kB 31.0 MB/s eta 0:00:01\r\u001b[K     |██████████████▍                 | 768 kB 31.0 MB/s eta 0:00:01\r\u001b[K     |██████████████▋                 | 778 kB 31.0 MB/s eta 0:00:01\r\u001b[K     |██████████████▊                 | 788 kB 31.0 MB/s eta 0:00:01\r\u001b[K     |███████████████                 | 798 kB 31.0 MB/s eta 0:00:01\r\u001b[K     |███████████████▏                | 808 kB 31.0 MB/s eta 0:00:01\r\u001b[K     |███████████████▎                | 819 kB 31.0 MB/s eta 0:00:01\r\u001b[K     |███████████████▌                | 829 kB 31.0 MB/s eta 0:00:01\r\u001b[K     |███████████████▊                | 839 kB 31.0 MB/s eta 0:00:01\r\u001b[K     |████████████████                | 849 kB 31.0 MB/s eta 0:00:01\r\u001b[K     |████████████████                | 860 kB 31.0 MB/s eta 0:00:01\r\u001b[K     |████████████████▎               | 870 kB 31.0 MB/s eta 0:00:01\r\u001b[K     |████████████████▌               | 880 kB 31.0 MB/s eta 0:00:01\r\u001b[K     |████████████████▊               | 890 kB 31.0 MB/s eta 0:00:01\r\u001b[K     |████████████████▉               | 901 kB 31.0 MB/s eta 0:00:01\r\u001b[K     |█████████████████               | 911 kB 31.0 MB/s eta 0:00:01\r\u001b[K     |█████████████████▎              | 921 kB 31.0 MB/s eta 0:00:01\r\u001b[K     |█████████████████▍              | 931 kB 31.0 MB/s eta 0:00:01\r\u001b[K     |█████████████████▋              | 942 kB 31.0 MB/s eta 0:00:01\r\u001b[K     |█████████████████▉              | 952 kB 31.0 MB/s eta 0:00:01\r\u001b[K     |██████████████████              | 962 kB 31.0 MB/s eta 0:00:01\r\u001b[K     |██████████████████▏             | 972 kB 31.0 MB/s eta 0:00:01\r\u001b[K     |██████████████████▍             | 983 kB 31.0 MB/s eta 0:00:01\r\u001b[K     |██████████████████▋             | 993 kB 31.0 MB/s eta 0:00:01\r\u001b[K     |██████████████████▊             | 1.0 MB 31.0 MB/s eta 0:00:01\r\u001b[K     |███████████████████             | 1.0 MB 31.0 MB/s eta 0:00:01\r\u001b[K     |███████████████████▏            | 1.0 MB 31.0 MB/s eta 0:00:01\r\u001b[K     |███████████████████▍            | 1.0 MB 31.0 MB/s eta 0:00:01\r\u001b[K     |███████████████████▌            | 1.0 MB 31.0 MB/s eta 0:00:01\r\u001b[K     |███████████████████▊            | 1.1 MB 31.0 MB/s eta 0:00:01\r\u001b[K     |████████████████████            | 1.1 MB 31.0 MB/s eta 0:00:01\r\u001b[K     |████████████████████▏           | 1.1 MB 31.0 MB/s eta 0:00:01\r\u001b[K     |████████████████████▎           | 1.1 MB 31.0 MB/s eta 0:00:01\r\u001b[K     |████████████████████▌           | 1.1 MB 31.0 MB/s eta 0:00:01\r\u001b[K     |████████████████████▊           | 1.1 MB 31.0 MB/s eta 0:00:01\r\u001b[K     |████████████████████▉           | 1.1 MB 31.0 MB/s eta 0:00:01\r\u001b[K     |█████████████████████           | 1.1 MB 31.0 MB/s eta 0:00:01\r\u001b[K     |█████████████████████▎          | 1.1 MB 31.0 MB/s eta 0:00:01\r\u001b[K     |█████████████████████▌          | 1.1 MB 31.0 MB/s eta 0:00:01\r\u001b[K     |█████████████████████▋          | 1.2 MB 31.0 MB/s eta 0:00:01\r\u001b[K     |█████████████████████▉          | 1.2 MB 31.0 MB/s eta 0:00:01\r\u001b[K     |██████████████████████          | 1.2 MB 31.0 MB/s eta 0:00:01\r\u001b[K     |██████████████████████▎         | 1.2 MB 31.0 MB/s eta 0:00:01\r\u001b[K     |██████████████████████▍         | 1.2 MB 31.0 MB/s eta 0:00:01\r\u001b[K     |██████████████████████▋         | 1.2 MB 31.0 MB/s eta 0:00:01\r\u001b[K     |██████████████████████▉         | 1.2 MB 31.0 MB/s eta 0:00:01\r\u001b[K     |███████████████████████         | 1.2 MB 31.0 MB/s eta 0:00:01\r\u001b[K     |███████████████████████▏        | 1.2 MB 31.0 MB/s eta 0:00:01\r\u001b[K     |███████████████████████▍        | 1.2 MB 31.0 MB/s eta 0:00:01\r\u001b[K     |███████████████████████▋        | 1.3 MB 31.0 MB/s eta 0:00:01\r\u001b[K     |███████████████████████▊        | 1.3 MB 31.0 MB/s eta 0:00:01\r\u001b[K     |████████████████████████        | 1.3 MB 31.0 MB/s eta 0:00:01\r\u001b[K     |████████████████████████▏       | 1.3 MB 31.0 MB/s eta 0:00:01\r\u001b[K     |████████████████████████▎       | 1.3 MB 31.0 MB/s eta 0:00:01\r\u001b[K     |████████████████████████▌       | 1.3 MB 31.0 MB/s eta 0:00:01\r\u001b[K     |████████████████████████▊       | 1.3 MB 31.0 MB/s eta 0:00:01\r\u001b[K     |█████████████████████████       | 1.3 MB 31.0 MB/s eta 0:00:01\r\u001b[K     |█████████████████████████       | 1.3 MB 31.0 MB/s eta 0:00:01\r\u001b[K     |█████████████████████████▎      | 1.4 MB 31.0 MB/s eta 0:00:01\r\u001b[K     |█████████████████████████▌      | 1.4 MB 31.0 MB/s eta 0:00:01\r\u001b[K     |█████████████████████████▊      | 1.4 MB 31.0 MB/s eta 0:00:01\r\u001b[K     |█████████████████████████▉      | 1.4 MB 31.0 MB/s eta 0:00:01\r\u001b[K     |██████████████████████████      | 1.4 MB 31.0 MB/s eta 0:00:01\r\u001b[K     |██████████████████████████▎     | 1.4 MB 31.0 MB/s eta 0:00:01\r\u001b[K     |██████████████████████████▍     | 1.4 MB 31.0 MB/s eta 0:00:01\r\u001b[K     |██████████████████████████▋     | 1.4 MB 31.0 MB/s eta 0:00:01\r\u001b[K     |██████████████████████████▉     | 1.4 MB 31.0 MB/s eta 0:00:01\r\u001b[K     |███████████████████████████     | 1.4 MB 31.0 MB/s eta 0:00:01\r\u001b[K     |███████████████████████████▏    | 1.5 MB 31.0 MB/s eta 0:00:01\r\u001b[K     |███████████████████████████▍    | 1.5 MB 31.0 MB/s eta 0:00:01\r\u001b[K     |███████████████████████████▋    | 1.5 MB 31.0 MB/s eta 0:00:01\r\u001b[K     |███████████████████████████▉    | 1.5 MB 31.0 MB/s eta 0:00:01\r\u001b[K     |████████████████████████████    | 1.5 MB 31.0 MB/s eta 0:00:01\r\u001b[K     |████████████████████████████▏   | 1.5 MB 31.0 MB/s eta 0:00:01\r\u001b[K     |████████████████████████████▍   | 1.5 MB 31.0 MB/s eta 0:00:01\r\u001b[K     |████████████████████████████▌   | 1.5 MB 31.0 MB/s eta 0:00:01\r\u001b[K     |████████████████████████████▊   | 1.5 MB 31.0 MB/s eta 0:00:01\r\u001b[K     |█████████████████████████████   | 1.5 MB 31.0 MB/s eta 0:00:01\r\u001b[K     |█████████████████████████████▏  | 1.6 MB 31.0 MB/s eta 0:00:01\r\u001b[K     |█████████████████████████████▎  | 1.6 MB 31.0 MB/s eta 0:00:01\r\u001b[K     |█████████████████████████████▌  | 1.6 MB 31.0 MB/s eta 0:00:01\r\u001b[K     |█████████████████████████████▊  | 1.6 MB 31.0 MB/s eta 0:00:01\r\u001b[K     |█████████████████████████████▉  | 1.6 MB 31.0 MB/s eta 0:00:01\r\u001b[K     |██████████████████████████████  | 1.6 MB 31.0 MB/s eta 0:00:01\r\u001b[K     |██████████████████████████████▎ | 1.6 MB 31.0 MB/s eta 0:00:01\r\u001b[K     |██████████████████████████████▌ | 1.6 MB 31.0 MB/s eta 0:00:01\r\u001b[K     |██████████████████████████████▋ | 1.6 MB 31.0 MB/s eta 0:00:01\r\u001b[K     |██████████████████████████████▉ | 1.6 MB 31.0 MB/s eta 0:00:01\r\u001b[K     |███████████████████████████████ | 1.7 MB 31.0 MB/s eta 0:00:01\r\u001b[K     |███████████████████████████████▎| 1.7 MB 31.0 MB/s eta 0:00:01\r\u001b[K     |███████████████████████████████▍| 1.7 MB 31.0 MB/s eta 0:00:01\r\u001b[K     |███████████████████████████████▋| 1.7 MB 31.0 MB/s eta 0:00:01\r\u001b[K     |███████████████████████████████▉| 1.7 MB 31.0 MB/s eta 0:00:01\r\u001b[K     |████████████████████████████████| 1.7 MB 31.0 MB/s eta 0:00:01\r\u001b[K     |████████████████████████████████| 1.7 MB 31.0 MB/s \n",
            "\u001b[?25hRequirement already satisfied: scipy>=0.19.1 in /usr/local/lib/python3.7/dist-packages (from scikit-learn-extra) (1.4.1)\n",
            "Requirement already satisfied: numpy>=1.13.3 in /usr/local/lib/python3.7/dist-packages (from scikit-learn-extra) (1.19.5)\n",
            "Collecting scikit-learn>=0.23.0\n",
            "  Downloading scikit_learn-1.0-cp37-cp37m-manylinux_2_12_x86_64.manylinux2010_x86_64.whl (23.1 MB)\n",
            "\u001b[K     |████████████████████████████████| 23.1 MB 55.7 MB/s \n",
            "\u001b[?25hCollecting threadpoolctl>=2.0.0\n",
            "  Downloading threadpoolctl-3.0.0-py3-none-any.whl (14 kB)\n",
            "Requirement already satisfied: joblib>=0.11 in /usr/local/lib/python3.7/dist-packages (from scikit-learn>=0.23.0->scikit-learn-extra) (1.0.1)\n",
            "Installing collected packages: threadpoolctl, scikit-learn, scikit-learn-extra\n",
            "  Attempting uninstall: scikit-learn\n",
            "    Found existing installation: scikit-learn 0.22.2.post1\n",
            "    Uninstalling scikit-learn-0.22.2.post1:\n",
            "      Successfully uninstalled scikit-learn-0.22.2.post1\n",
            "Successfully installed scikit-learn-1.0 scikit-learn-extra-0.2.0 threadpoolctl-3.0.0\n"
          ]
        },
        {
          "output_type": "display_data",
          "data": {
            "application/vnd.colab-display-data+json": {
              "pip_warning": {
                "packages": [
                  "sklearn"
                ]
              }
            }
          },
          "metadata": {}
        },
        {
          "output_type": "stream",
          "name": "stdout",
          "text": [
            "[[0.3018991  0.09090909]\n",
            " [0.16904393 0.09090909]\n",
            " [0.45700546 0.18181818]\n",
            " [0.04287228 0.09090909]]\n"
          ]
        },
        {
          "output_type": "display_data",
          "data": {
            "text/html": [
              "<html>\n",
              "<head><meta charset=\"utf-8\" /></head>\n",
              "<body>\n",
              "    <div>\n",
              "            <script src=\"https://cdnjs.cloudflare.com/ajax/libs/mathjax/2.7.5/MathJax.js?config=TeX-AMS-MML_SVG\"></script><script type=\"text/javascript\">if (window.MathJax) {MathJax.Hub.Config({SVG: {font: \"STIX-Web\"}});}</script>\n",
              "                <script type=\"text/javascript\">window.PlotlyConfig = {MathJaxConfig: 'local'};</script>\n",
              "        <script src=\"https://cdn.plot.ly/plotly-latest.min.js\"></script>    \n",
              "            <div id=\"eaf7a42d-b054-401a-b56c-cf1d75e4d4d1\" class=\"plotly-graph-div\" style=\"height:600px; width:800px;\"></div>\n",
              "            <script type=\"text/javascript\">\n",
              "                \n",
              "                    window.PLOTLYENV=window.PLOTLYENV || {};\n",
              "                    \n",
              "                if (document.getElementById(\"eaf7a42d-b054-401a-b56c-cf1d75e4d4d1\")) {\n",
              "                    Plotly.newPlot(\n",
              "                        'eaf7a42d-b054-401a-b56c-cf1d75e4d4d1',\n",
              "                        [{\"hoverlabel\": {\"namelength\": 0}, \"hovertemplate\": \"cluster=%{marker.color}<br>\\uc8fc\\ud0dd\\uac00 \\uae30\\uc900 \\ubc30\\uc1a1 \\ub09c\\uc774\\ub3c4=%{x}<br>\\ubb34\\uc778\\ud0dd\\ubc30\\ud568 \\uacf5\\uae09\\ub7c9=%{y}\", \"legendgroup\": \"cluster=1\", \"marker\": {\"color\": [1, 1, 1, 1, 1, 1, 1, 1, 1, 1, 1, 1, 1, 1, 1, 1, 1, 1, 1, 1, 1, 1, 1, 1, 1, 1, 1, 1, 1, 1, 1, 1, 1, 1, 1, 1, 1, 1, 1, 1, 1, 1, 1, 1, 1, 1, 1, 1, 1, 1, 1, 1, 1, 1, 1, 1, 1, 1, 1, 1, 1, 1, 1, 1, 1, 1, 1, 1, 1, 1, 1, 1, 1, 1, 1, 1, 1, 1, 1, 1, 1, 1, 1, 1, 1, 1, 1, 1, 1, 1, 1, 1, 1, 1, 1, 1, 1, 1, 1, 1, 1, 1, 1, 1, 1, 1, 1, 1, 1, 1, 1, 1, 1], \"coloraxis\": \"coloraxis\", \"symbol\": \"circle\"}, \"mode\": \"markers\", \"name\": \"cluster=1\", \"showlegend\": true, \"type\": \"scatter\", \"x\": [0.168473388, 0.149563942, 0.203684082, 0.109299861, 0.18681229100000002, 0.23123318899999998, 0.10897383599999999, 0.16904393199999998, 0.150379004, 0.155187872, 0.17181514399999998, 0.107262206, 0.13741951300000002, 0.145407124, 0.181106855, 0.161789877, 0.126579183, 0.109218355, 0.223571603, 0.138397587, 0.163990545, 0.22340859100000002, 0.149074904, 0.126497677, 0.20857445600000002, 0.130165458, 0.180862336, 0.16480560800000002, 0.164398076, 0.199853289, 0.12763876400000002, 0.226261309, 0.21998532899999998, 0.17589045600000003, 0.154861847, 0.128861358, 0.12666069, 0.232863314, 0.169369957, 0.137174994, 0.223164072, 0.21419838600000002, 0.1372565, 0.23033662100000002, 0.171163094, 0.207025837, 0.19333279, 0.133262695, 0.114353248, 0.16366452, 0.12812780199999999, 0.21036759300000002, 0.14296193699999998, 0.195125927, 0.152742685, 0.20515119399999998, 0.132121607, 0.192517728, 0.162115902, 0.220066835, 0.126090146, 0.208085419, 0.17450485, 0.195777977, 0.15290569699999998, 0.17686853, 0.182329448, 0.209634037, 0.170022007, 0.12837232, 0.17124460000000002, 0.131062026, 0.207514875, 0.136441438, 0.162767952, 0.14964544800000001, 0.17385279999999997, 0.151357079, 0.195370446, 0.216725079, 0.163175483, 0.159181677, 0.200097807, 0.148911892, 0.128779852, 0.168799413, 0.234167414, 0.20335805699999998, 0.114108729, 0.17328225600000002, 0.170103513, 0.169695982, 0.15999674, 0.142798924, 0.13252913800000002, 0.14679273, 0.14353248, 0.17556443100000002, 0.134403782, 0.22560925899999998, 0.170185019, 0.155432391, 0.22952155800000001, 0.211264162, 0.187382835, 0.222512022, 0.112234086, 0.177928112, 0.182329448, 0.147200261, 0.114353248, 0.168310376, 0.168147363], \"xaxis\": \"x\", \"y\": [0.090909091, 0.0, 0.0, 0.090909091, 0.0, 0.090909091, 0.090909091, 0.090909091, 0.181818182, 0.272727273, 0.0, 0.0, 0.363636364, 0.0, 0.181818182, 0.0, 0.272727273, 0.0, 0.0, 0.090909091, 0.090909091, 0.090909091, 0.090909091, 0.0, 0.181818182, 0.0, 0.0, 0.090909091, 0.090909091, 0.090909091, 0.0, 0.090909091, 0.0, 0.090909091, 0.0, 0.090909091, 0.0, 0.272727273, 0.090909091, 0.090909091, 0.181818182, 0.181818182, 0.0, 0.0, 0.181818182, 0.090909091, 0.090909091, 0.181818182, 0.181818182, 0.0, 0.0, 0.090909091, 0.0, 0.181818182, 0.090909091, 0.090909091, 0.090909091, 0.181818182, 0.363636364, 0.181818182, 0.181818182, 0.181818182, 0.0, 0.0, 0.181818182, 0.090909091, 0.181818182, 0.181818182, 0.090909091, 0.090909091, 0.090909091, 0.090909091, 0.272727273, 0.181818182, 0.181818182, 0.0, 0.090909091, 0.272727273, 0.090909091, 0.0, 0.181818182, 0.0, 0.272727273, 0.181818182, 0.0, 0.181818182, 0.272727273, 0.181818182, 0.090909091, 0.0, 0.0, 0.272727273, 0.0, 0.272727273, 0.090909091, 0.181818182, 0.454545455, 0.363636364, 0.272727273, 0.0, 0.272727273, 0.090909091, 0.181818182, 0.272727273, 0.090909091, 0.090909091, 0.181818182, 0.090909091, 0.090909091, 0.0, 0.272727273, 0.090909091, 0.090909091], \"yaxis\": \"y\"}, {\"hoverlabel\": {\"namelength\": 0}, \"hovertemplate\": \"cluster=%{marker.color}<br>\\uc8fc\\ud0dd\\uac00 \\uae30\\uc900 \\ubc30\\uc1a1 \\ub09c\\uc774\\ub3c4=%{x}<br>\\ubb34\\uc778\\ud0dd\\ubc30\\ud568 \\uacf5\\uae09\\ub7c9=%{y}\", \"legendgroup\": \"cluster=2\", \"marker\": {\"color\": [2, 2, 2, 2, 2, 2, 2, 2, 2, 2, 2, 2, 2, 2, 2, 2, 2, 2, 2, 2, 2, 2, 2, 2, 2, 2, 2, 2, 2, 2, 2, 2, 2, 2, 2, 2, 2, 2, 2, 2, 2, 2, 2, 2, 2, 2, 2, 2, 2, 2, 2, 2, 2, 2, 2, 2, 2, 2, 2, 2, 2, 2, 2, 2, 2, 2, 2, 2, 2, 2, 2, 2, 2, 2, 2, 2, 2, 2, 2, 2, 2, 2, 2, 2, 2, 2, 2, 2, 2, 2, 2, 2, 2, 2, 2, 2, 2, 2, 2, 2, 2, 2, 2, 2, 2, 2, 2, 2, 2, 2, 2], \"coloraxis\": \"coloraxis\", \"symbol\": \"diamond\"}, \"mode\": \"markers\", \"name\": \"cluster=2\", \"showlegend\": true, \"type\": \"scatter\", \"x\": [0.473958758, 0.902926074, 0.496128454, 0.484799087, 0.39620180899999996, 0.532480235, 0.577634689, 0.59124623, 0.6682696229999999, 0.412747575, 0.41062841299999997, 0.38405738, 0.451789062, 0.289917679, 0.32194962899999996, 0.569565572, 0.436384383, 0.522047437, 0.410139376, 0.553753362, 0.5319911970000001, 0.616024126, 0.41282908100000004, 0.36050207799999995, 0.47216562100000004, 0.444698019, 0.267258945, 0.345178906, 0.732578042, 0.702991279, 0.568669003, 0.563697123, 0.40924280700000004, 0.647893064, 0.506561252, 0.512429701, 0.765669574, 0.5557095120000001, 0.358708941, 0.438992583, 0.66810661, 0.470535496, 0.502322928, 0.519928275, 0.635911647, 0.49172711700000005, 0.63542261, 0.8384546420000001, 0.447224713, 0.720270601, 0.42945635299999996, 0.47868611899999997, 0.447469231, 0.573151846, 0.402722308, 0.397587415, 0.488711386, 0.317140761, 0.364658896, 0.5478034070000001, 0.46165131600000003, 0.361561659, 0.481131307, 0.28144103, 0.49963322200000004, 0.488303855, 0.33490912100000003, 1.0, 0.38552449299999997, 0.348276143, 0.392697041, 0.44486103200000005, 0.307441519, 0.33768033299999994, 0.309397669, 0.40948732600000004, 0.870405086, 0.776835928, 0.427663216, 0.5473958760000001, 0.45154454299999996, 0.436221371, 0.479990219, 0.525959736, 0.37933001899999996, 0.42627761, 0.452196593, 0.47550737600000004, 0.355693211, 0.480316244, 0.41242155, 0.457005461, 0.558154699, 0.40940582, 0.36025756, 0.490667536, 0.364251365, 0.511696145, 0.344526856, 0.482761431, 0.342244682, 0.419757111, 0.602331078, 0.5343548779999999, 0.453011655, 0.308012063, 0.18811639100000002, 0.363680822, 0.355122667, 0.441111745, 0.340044013], \"xaxis\": \"x\", \"y\": [0.0, 0.0, 0.090909091, 0.0, 0.363636364, 0.090909091, 0.090909091, 0.181818182, 0.272727273, 0.090909091, 0.181818182, 0.181818182, 0.181818182, 0.363636364, 0.272727273, 0.090909091, 0.272727273, 0.272727273, 0.181818182, 0.090909091, 0.090909091, 0.181818182, 0.181818182, 0.181818182, 0.090909091, 0.181818182, 0.363636364, 0.272727273, 0.0, 0.090909091, 0.0, 0.0, 0.090909091, 0.090909091, 0.090909091, 0.0, 0.090909091, 0.272727273, 0.181818182, 0.181818182, 0.181818182, 0.181818182, 0.181818182, 0.090909091, 0.0, 0.181818182, 0.090909091, 0.181818182, 0.090909091, 0.181818182, 0.090909091, 0.181818182, 0.090909091, 0.181818182, 0.363636364, 0.181818182, 0.363636364, 0.272727273, 0.181818182, 0.090909091, 0.181818182, 0.272727273, 0.454545455, 0.454545455, 0.181818182, 0.272727273, 0.272727273, 0.181818182, 0.454545455, 0.272727273, 0.272727273, 0.090909091, 0.363636364, 0.363636364, 0.272727273, 0.181818182, 0.181818182, 0.090909091, 0.181818182, 0.272727273, 0.181818182, 0.090909091, 0.454545455, 0.181818182, 0.272727273, 0.181818182, 0.181818182, 0.090909091, 0.181818182, 0.090909091, 0.363636364, 0.181818182, 0.090909091, 0.363636364, 0.272727273, 0.0, 0.181818182, 0.0, 0.454545455, 0.0, 0.454545455, 0.363636364, 0.090909091, 0.090909091, 0.363636364, 0.272727273, 0.545454545, 0.181818182, 0.181818182, 0.363636364, 0.545454545], \"yaxis\": \"y\"}, {\"hoverlabel\": {\"namelength\": 0}, \"hovertemplate\": \"cluster=%{marker.color}<br>\\uc8fc\\ud0dd\\uac00 \\uae30\\uc900 \\ubc30\\uc1a1 \\ub09c\\uc774\\ub3c4=%{x}<br>\\ubb34\\uc778\\ud0dd\\ubc30\\ud568 \\uacf5\\uae09\\ub7c9=%{y}\", \"legendgroup\": \"cluster=3\", \"marker\": {\"color\": [3, 3, 3, 3, 3, 3, 3, 3, 3, 3, 3, 3, 3, 3, 3, 3, 3, 3, 3, 3, 3, 3, 3, 3, 3, 3, 3, 3, 3, 3, 3, 3, 3, 3, 3, 3, 3, 3, 3, 3, 3, 3, 3, 3, 3, 3, 3, 3, 3, 3, 3, 3, 3, 3, 3, 3, 3, 3, 3, 3, 3, 3, 3, 3, 3, 3, 3, 3, 3, 3, 3, 3, 3, 3, 3, 3, 3, 3, 3, 3, 3, 3, 3, 3, 3, 3, 3, 3, 3, 3, 3, 3, 3, 3, 3, 3, 3, 3, 3, 3, 3, 3, 3, 3, 3, 3, 3], \"coloraxis\": \"coloraxis\", \"symbol\": \"square\"}, \"mode\": \"markers\", \"name\": \"cluster=3\", \"showlegend\": true, \"type\": \"scatter\", \"x\": [0.019806015, 0.08248431, 0.087700709, 0.002934224, 0.064634445, 0.039693537, 0.097318445, 0.098133507, 0.012959491, 0.076045318, 0.072866574, 0.005134893, 0.048985247, 0.04026408, 0.050615372, 0.013693048000000001, 0.074659712, 0.05803244, 0.0017116310000000001, 0.059336539, 0.016953297, 0.032928518999999996, 0.021273127000000003, 0.010025267, 0.04352433, 0.023881327, 0.011736898, 0.063982395, 0.074659712, 0.011573885, 0.0, 0.0, 0.027549108, 0.0, 0.0, 0.0, 0.0, 0.013693048000000001, 0.103675931, 0.082891841, 0.052979053, 0.064226913, 0.07637134200000001, 0.043931860999999996, 0.037900399, 0.01882794, 0.050615372, 0.055913277000000004, 0.08737468400000001, 0.0, 0.013611541000000001, 0.0, 0.06903578099999999, 0.074415193, 0.0, 0.104898525, 0.0, 0.0, 0.052653028, 0.085663053, 0.0, 0.065041976, 0.033091532, 0.0, 0.07881653, 0.09519928300000001, 0.071154943, 0.053142065, 0.04287228, 0.015975222, 0.081995273, 0.0, 0.0, 0.0, 0.10074170699999999, 0.002934224, 0.075800799, 0.037981906, 0.0, 0.104490994, 0.0, 0.014752629, 0.09006439, 0.04352433, 0.016708778, 0.099519113, 0.098622545, 0.0, 0.06626456900000001, 0.0, 0.09682940699999999, 0.085500041, 0.0, 0.0, 0.0, 0.0, 0.0, 0.0, 0.105143043, 0.0, 0.006683511, 0.08468497800000001, 0.027386095, 0.082647323, 0.045480479000000004, 0.063982395, 0.0], \"xaxis\": \"x\", \"y\": [0.181818182, 0.0, 0.0, 0.0, 0.0, 0.090909091, 0.090909091, 0.0, 0.0, 0.0, 0.0, 0.090909091, 0.090909091, 0.181818182, 0.0, 0.0, 0.090909091, 0.090909091, 0.090909091, 0.0, 0.090909091, 0.0, 0.0, 0.0, 0.090909091, 0.0, 0.090909091, 0.272727273, 0.090909091, 0.0, 0.0, 0.0, 0.0, 0.0, 0.0, 0.0, 0.181818182, 0.0, 0.0, 0.181818182, 0.0, 0.090909091, 0.272727273, 0.0, 0.090909091, 0.0, 0.181818182, 0.090909091, 0.0, 0.0, 0.0, 0.363636364, 0.090909091, 0.0, 0.181818182, 0.0, 0.0, 0.0, 0.272727273, 0.181818182, 0.0, 0.090909091, 0.0, 0.0, 0.272727273, 0.181818182, 0.090909091, 0.181818182, 0.090909091, 0.0, 0.272727273, 0.0, 0.0, 0.0, 0.090909091, 0.181818182, 0.272727273, 0.181818182, 0.0, 0.090909091, 0.0, 0.0, 0.090909091, 0.363636364, 0.090909091, 0.090909091, 0.363636364, 0.0, 0.0, 0.090909091, 0.181818182, 0.181818182, 0.0, 0.0, 0.0, 0.0, 0.0, 0.0, 0.181818182, 0.0, 0.090909091, 0.181818182, 0.090909091, 0.090909091, 0.090909091, 0.0, 0.0], \"yaxis\": \"y\"}, {\"hoverlabel\": {\"namelength\": 0}, \"hovertemplate\": \"cluster=%{marker.color}<br>\\uc8fc\\ud0dd\\uac00 \\uae30\\uc900 \\ubc30\\uc1a1 \\ub09c\\uc774\\ub3c4=%{x}<br>\\ubb34\\uc778\\ud0dd\\ubc30\\ud568 \\uacf5\\uae09\\ub7c9=%{y}\", \"legendgroup\": \"cluster=0\", \"marker\": {\"color\": [0, 0, 0, 0, 0, 0, 0, 0, 0, 0, 0, 0, 0, 0, 0, 0, 0, 0, 0, 0, 0, 0, 0, 0, 0, 0, 0, 0, 0, 0, 0, 0, 0, 0, 0, 0, 0, 0, 0, 0, 0, 0, 0, 0, 0, 0, 0, 0, 0, 0, 0, 0, 0, 0, 0, 0, 0, 0, 0, 0, 0, 0, 0, 0, 0, 0, 0, 0, 0, 0, 0, 0, 0, 0, 0, 0, 0, 0, 0, 0, 0, 0, 0, 0, 0, 0, 0, 0, 0, 0, 0, 0, 0], \"coloraxis\": \"coloraxis\", \"symbol\": \"x\"}, \"mode\": \"markers\", \"name\": \"cluster=0\", \"showlegend\": true, \"type\": \"scatter\", \"x\": [0.243703643, 0.24386665600000001, 0.33050778399999997, 0.267829489, 0.365555465, 0.249572092, 0.323742766, 0.239628332, 0.270600701, 0.26994865100000004, 0.31934143, 0.239302307, 0.30915315, 0.34444535, 0.262205559, 0.286168392, 0.376314288, 0.23824272600000002, 0.264813758, 0.25364740399999997, 0.31648871100000003, 0.39000733600000004, 0.288532073, 0.286575923, 0.388051186, 0.342733719, 0.24949058600000001, 0.35178091100000003, 0.27557258100000004, 0.34697204299999995, 0.287798517, 0.260982965, 0.252098786, 0.35414459200000004, 0.241013938, 0.294319015, 0.31722226800000003, 0.248594017, 0.3098052, 0.326595485, 0.24133996300000002, 0.34656451200000005, 0.35332953, 0.293422447, 0.27312739399999997, 0.275980112, 0.23555302, 0.326024941, 0.299127883, 0.455130818, 0.27019317, 0.260412422, 0.349091205, 0.244844731, 0.332056402, 0.24981661100000002, 0.24386665600000001, 0.267340452, 0.37085337, 0.35186241700000004, 0.24745293, 0.300350477, 0.339147445, 0.306463444, 0.26962262600000003, 0.250387155, 0.343467275, 0.291873828, 0.38666558, 0.28364169899999997, 0.24565979300000002, 0.25193577300000003, 0.247045399, 0.26261309, 0.278506806, 0.375743744, 0.25372891, 0.38519846799999996, 0.40679762, 0.34395631299999996, 0.24142146899999997, 0.317711305, 0.39359361, 0.264487733, 0.25870079100000004, 0.34363028799999995, 0.28771701, 0.314614068, 0.25633711, 0.301899095, 0.34395631299999996, 0.326595485, 0.335153639], \"xaxis\": \"x\", \"y\": [0.0, 0.0, 0.0, 0.272727273, 0.0, 0.181818182, 0.0, 0.181818182, 0.090909091, 0.090909091, 0.181818182, 0.090909091, 0.181818182, 0.090909091, 0.272727273, 0.0, 0.090909091, 0.0, 0.0, 0.090909091, 0.090909091, 0.0, 0.181818182, 0.090909091, 0.090909091, 0.090909091, 0.0, 0.090909091, 0.090909091, 0.090909091, 0.181818182, 0.090909091, 0.0, 0.0, 0.090909091, 0.272727273, 0.181818182, 0.272727273, 0.090909091, 0.090909091, 0.272727273, 0.090909091, 0.090909091, 0.090909091, 0.181818182, 0.272727273, 0.272727273, 0.0, 0.181818182, 0.0, 0.181818182, 0.090909091, 0.090909091, 0.0, 0.090909091, 0.090909091, 0.181818182, 0.181818182, 0.090909091, 0.181818182, 0.181818182, 0.090909091, 0.090909091, 0.0, 0.090909091, 0.090909091, 0.0, 0.272727273, 0.090909091, 0.181818182, 0.090909091, 0.0, 0.090909091, 0.090909091, 0.181818182, 0.090909091, 0.181818182, 0.090909091, 0.0, 0.090909091, 0.181818182, 0.0, 0.090909091, 0.0, 0.181818182, 0.181818182, 0.272727273, 0.181818182, 0.181818182, 0.090909091, 0.181818182, 0.090909091, 0.0], \"yaxis\": \"y\"}],\n",
              "                        {\"coloraxis\": {\"colorbar\": {\"title\": {\"text\": \"cluster\"}}, \"colorscale\": [[0.0, \"#0d0887\"], [0.1111111111111111, \"#46039f\"], [0.2222222222222222, \"#7201a8\"], [0.3333333333333333, \"#9c179e\"], [0.4444444444444444, \"#bd3786\"], [0.5555555555555556, \"#d8576b\"], [0.6666666666666666, \"#ed7953\"], [0.7777777777777778, \"#fb9f3a\"], [0.8888888888888888, \"#fdca26\"], [1.0, \"#f0f921\"]], \"showscale\": false}, \"font\": {\"color\": \"Black\", \"family\": \"Arial\", \"size\": 18}, \"height\": 600, \"legend\": {\"tracegroupgap\": 0}, \"margin\": {\"t\": 60}, \"showlegend\": false, \"template\": {\"data\": {\"bar\": [{\"error_x\": {\"color\": \"#2a3f5f\"}, \"error_y\": {\"color\": \"#2a3f5f\"}, \"marker\": {\"line\": {\"color\": \"#E5ECF6\", \"width\": 0.5}}, \"type\": \"bar\"}], \"barpolar\": [{\"marker\": {\"line\": {\"color\": \"#E5ECF6\", \"width\": 0.5}}, \"type\": \"barpolar\"}], \"carpet\": [{\"aaxis\": {\"endlinecolor\": \"#2a3f5f\", \"gridcolor\": \"white\", \"linecolor\": \"white\", \"minorgridcolor\": \"white\", \"startlinecolor\": \"#2a3f5f\"}, \"baxis\": {\"endlinecolor\": \"#2a3f5f\", \"gridcolor\": \"white\", \"linecolor\": \"white\", \"minorgridcolor\": \"white\", \"startlinecolor\": \"#2a3f5f\"}, \"type\": \"carpet\"}], \"choropleth\": [{\"colorbar\": {\"outlinewidth\": 0, \"ticks\": \"\"}, \"type\": \"choropleth\"}], \"contour\": [{\"colorbar\": {\"outlinewidth\": 0, \"ticks\": \"\"}, \"colorscale\": [[0.0, \"#0d0887\"], [0.1111111111111111, \"#46039f\"], [0.2222222222222222, \"#7201a8\"], [0.3333333333333333, \"#9c179e\"], [0.4444444444444444, \"#bd3786\"], [0.5555555555555556, \"#d8576b\"], [0.6666666666666666, \"#ed7953\"], [0.7777777777777778, \"#fb9f3a\"], [0.8888888888888888, \"#fdca26\"], [1.0, \"#f0f921\"]], \"type\": \"contour\"}], \"contourcarpet\": [{\"colorbar\": {\"outlinewidth\": 0, \"ticks\": \"\"}, \"type\": \"contourcarpet\"}], \"heatmap\": [{\"colorbar\": {\"outlinewidth\": 0, \"ticks\": \"\"}, \"colorscale\": [[0.0, \"#0d0887\"], [0.1111111111111111, \"#46039f\"], [0.2222222222222222, \"#7201a8\"], [0.3333333333333333, \"#9c179e\"], [0.4444444444444444, \"#bd3786\"], [0.5555555555555556, \"#d8576b\"], [0.6666666666666666, \"#ed7953\"], [0.7777777777777778, \"#fb9f3a\"], [0.8888888888888888, \"#fdca26\"], [1.0, \"#f0f921\"]], \"type\": \"heatmap\"}], \"heatmapgl\": [{\"colorbar\": {\"outlinewidth\": 0, \"ticks\": \"\"}, \"colorscale\": [[0.0, \"#0d0887\"], [0.1111111111111111, \"#46039f\"], [0.2222222222222222, \"#7201a8\"], [0.3333333333333333, \"#9c179e\"], [0.4444444444444444, \"#bd3786\"], [0.5555555555555556, \"#d8576b\"], [0.6666666666666666, \"#ed7953\"], [0.7777777777777778, \"#fb9f3a\"], [0.8888888888888888, \"#fdca26\"], [1.0, \"#f0f921\"]], \"type\": \"heatmapgl\"}], \"histogram\": [{\"marker\": {\"colorbar\": {\"outlinewidth\": 0, \"ticks\": \"\"}}, \"type\": \"histogram\"}], \"histogram2d\": [{\"colorbar\": {\"outlinewidth\": 0, \"ticks\": \"\"}, \"colorscale\": [[0.0, \"#0d0887\"], [0.1111111111111111, \"#46039f\"], [0.2222222222222222, \"#7201a8\"], [0.3333333333333333, \"#9c179e\"], [0.4444444444444444, \"#bd3786\"], [0.5555555555555556, \"#d8576b\"], [0.6666666666666666, \"#ed7953\"], [0.7777777777777778, \"#fb9f3a\"], [0.8888888888888888, \"#fdca26\"], [1.0, \"#f0f921\"]], \"type\": \"histogram2d\"}], \"histogram2dcontour\": [{\"colorbar\": {\"outlinewidth\": 0, \"ticks\": \"\"}, \"colorscale\": [[0.0, \"#0d0887\"], [0.1111111111111111, \"#46039f\"], [0.2222222222222222, \"#7201a8\"], [0.3333333333333333, \"#9c179e\"], [0.4444444444444444, \"#bd3786\"], [0.5555555555555556, \"#d8576b\"], [0.6666666666666666, \"#ed7953\"], [0.7777777777777778, \"#fb9f3a\"], [0.8888888888888888, \"#fdca26\"], [1.0, \"#f0f921\"]], \"type\": \"histogram2dcontour\"}], \"mesh3d\": [{\"colorbar\": {\"outlinewidth\": 0, \"ticks\": \"\"}, \"type\": \"mesh3d\"}], \"parcoords\": [{\"line\": {\"colorbar\": {\"outlinewidth\": 0, \"ticks\": \"\"}}, \"type\": \"parcoords\"}], \"pie\": [{\"automargin\": true, \"type\": \"pie\"}], \"scatter\": [{\"marker\": {\"colorbar\": {\"outlinewidth\": 0, \"ticks\": \"\"}}, \"type\": \"scatter\"}], \"scatter3d\": [{\"line\": {\"colorbar\": {\"outlinewidth\": 0, \"ticks\": \"\"}}, \"marker\": {\"colorbar\": {\"outlinewidth\": 0, \"ticks\": \"\"}}, \"type\": \"scatter3d\"}], \"scattercarpet\": [{\"marker\": {\"colorbar\": {\"outlinewidth\": 0, \"ticks\": \"\"}}, \"type\": \"scattercarpet\"}], \"scattergeo\": [{\"marker\": {\"colorbar\": {\"outlinewidth\": 0, \"ticks\": \"\"}}, \"type\": \"scattergeo\"}], \"scattergl\": [{\"marker\": {\"colorbar\": {\"outlinewidth\": 0, \"ticks\": \"\"}}, \"type\": \"scattergl\"}], \"scattermapbox\": [{\"marker\": {\"colorbar\": {\"outlinewidth\": 0, \"ticks\": \"\"}}, \"type\": \"scattermapbox\"}], \"scatterpolar\": [{\"marker\": {\"colorbar\": {\"outlinewidth\": 0, \"ticks\": \"\"}}, \"type\": \"scatterpolar\"}], \"scatterpolargl\": [{\"marker\": {\"colorbar\": {\"outlinewidth\": 0, \"ticks\": \"\"}}, \"type\": \"scatterpolargl\"}], \"scatterternary\": [{\"marker\": {\"colorbar\": {\"outlinewidth\": 0, \"ticks\": \"\"}}, \"type\": \"scatterternary\"}], \"surface\": [{\"colorbar\": {\"outlinewidth\": 0, \"ticks\": \"\"}, \"colorscale\": [[0.0, \"#0d0887\"], [0.1111111111111111, \"#46039f\"], [0.2222222222222222, \"#7201a8\"], [0.3333333333333333, \"#9c179e\"], [0.4444444444444444, \"#bd3786\"], [0.5555555555555556, \"#d8576b\"], [0.6666666666666666, \"#ed7953\"], [0.7777777777777778, \"#fb9f3a\"], [0.8888888888888888, \"#fdca26\"], [1.0, \"#f0f921\"]], \"type\": \"surface\"}], \"table\": [{\"cells\": {\"fill\": {\"color\": \"#EBF0F8\"}, \"line\": {\"color\": \"white\"}}, \"header\": {\"fill\": {\"color\": \"#C8D4E3\"}, \"line\": {\"color\": \"white\"}}, \"type\": \"table\"}]}, \"layout\": {\"annotationdefaults\": {\"arrowcolor\": \"#2a3f5f\", \"arrowhead\": 0, \"arrowwidth\": 1}, \"coloraxis\": {\"colorbar\": {\"outlinewidth\": 0, \"ticks\": \"\"}}, \"colorscale\": {\"diverging\": [[0, \"#8e0152\"], [0.1, \"#c51b7d\"], [0.2, \"#de77ae\"], [0.3, \"#f1b6da\"], [0.4, \"#fde0ef\"], [0.5, \"#f7f7f7\"], [0.6, \"#e6f5d0\"], [0.7, \"#b8e186\"], [0.8, \"#7fbc41\"], [0.9, \"#4d9221\"], [1, \"#276419\"]], \"sequential\": [[0.0, \"#0d0887\"], [0.1111111111111111, \"#46039f\"], [0.2222222222222222, \"#7201a8\"], [0.3333333333333333, \"#9c179e\"], [0.4444444444444444, \"#bd3786\"], [0.5555555555555556, \"#d8576b\"], [0.6666666666666666, \"#ed7953\"], [0.7777777777777778, \"#fb9f3a\"], [0.8888888888888888, \"#fdca26\"], [1.0, \"#f0f921\"]], \"sequentialminus\": [[0.0, \"#0d0887\"], [0.1111111111111111, \"#46039f\"], [0.2222222222222222, \"#7201a8\"], [0.3333333333333333, \"#9c179e\"], [0.4444444444444444, \"#bd3786\"], [0.5555555555555556, \"#d8576b\"], [0.6666666666666666, \"#ed7953\"], [0.7777777777777778, \"#fb9f3a\"], [0.8888888888888888, \"#fdca26\"], [1.0, \"#f0f921\"]]}, \"colorway\": [\"#636efa\", \"#EF553B\", \"#00cc96\", \"#ab63fa\", \"#FFA15A\", \"#19d3f3\", \"#FF6692\", \"#B6E880\", \"#FF97FF\", \"#FECB52\"], \"font\": {\"color\": \"#2a3f5f\"}, \"geo\": {\"bgcolor\": \"white\", \"lakecolor\": \"white\", \"landcolor\": \"#E5ECF6\", \"showlakes\": true, \"showland\": true, \"subunitcolor\": \"white\"}, \"hoverlabel\": {\"align\": \"left\"}, \"hovermode\": \"closest\", \"mapbox\": {\"style\": \"light\"}, \"paper_bgcolor\": \"white\", \"plot_bgcolor\": \"#E5ECF6\", \"polar\": {\"angularaxis\": {\"gridcolor\": \"white\", \"linecolor\": \"white\", \"ticks\": \"\"}, \"bgcolor\": \"#E5ECF6\", \"radialaxis\": {\"gridcolor\": \"white\", \"linecolor\": \"white\", \"ticks\": \"\"}}, \"scene\": {\"xaxis\": {\"backgroundcolor\": \"#E5ECF6\", \"gridcolor\": \"white\", \"gridwidth\": 2, \"linecolor\": \"white\", \"showbackground\": true, \"ticks\": \"\", \"zerolinecolor\": \"white\"}, \"yaxis\": {\"backgroundcolor\": \"#E5ECF6\", \"gridcolor\": \"white\", \"gridwidth\": 2, \"linecolor\": \"white\", \"showbackground\": true, \"ticks\": \"\", \"zerolinecolor\": \"white\"}, \"zaxis\": {\"backgroundcolor\": \"#E5ECF6\", \"gridcolor\": \"white\", \"gridwidth\": 2, \"linecolor\": \"white\", \"showbackground\": true, \"ticks\": \"\", \"zerolinecolor\": \"white\"}}, \"shapedefaults\": {\"line\": {\"color\": \"#2a3f5f\"}}, \"ternary\": {\"aaxis\": {\"gridcolor\": \"white\", \"linecolor\": \"white\", \"ticks\": \"\"}, \"baxis\": {\"gridcolor\": \"white\", \"linecolor\": \"white\", \"ticks\": \"\"}, \"bgcolor\": \"#E5ECF6\", \"caxis\": {\"gridcolor\": \"white\", \"linecolor\": \"white\", \"ticks\": \"\"}}, \"title\": {\"x\": 0.05}, \"xaxis\": {\"automargin\": true, \"gridcolor\": \"white\", \"linecolor\": \"white\", \"ticks\": \"\", \"title\": {\"standoff\": 15}, \"zerolinecolor\": \"white\", \"zerolinewidth\": 2}, \"yaxis\": {\"automargin\": true, \"gridcolor\": \"white\", \"linecolor\": \"white\", \"ticks\": \"\", \"title\": {\"standoff\": 15}, \"zerolinecolor\": \"white\", \"zerolinewidth\": 2}}}, \"width\": 800, \"xaxis\": {\"anchor\": \"y\", \"domain\": [0.0, 1.0], \"title\": {\"text\": \"\\uc8fc\\ud0dd\\uac00 \\uae30\\uc900 \\ubc30\\uc1a1 \\ub09c\\uc774\\ub3c4\"}}, \"yaxis\": {\"anchor\": \"x\", \"domain\": [0.0, 1.0], \"title\": {\"text\": \"\\ubb34\\uc778\\ud0dd\\ubc30\\ud568 \\uacf5\\uae09\\ub7c9\"}}},\n",
              "                        {\"responsive\": true}\n",
              "                    ).then(function(){\n",
              "                            \n",
              "var gd = document.getElementById('eaf7a42d-b054-401a-b56c-cf1d75e4d4d1');\n",
              "var x = new MutationObserver(function (mutations, observer) {{\n",
              "        var display = window.getComputedStyle(gd).display;\n",
              "        if (!display || display === 'none') {{\n",
              "            console.log([gd, 'removed!']);\n",
              "            Plotly.purge(gd);\n",
              "            observer.disconnect();\n",
              "        }}\n",
              "}});\n",
              "\n",
              "// Listen for the removal of the full notebook cells\n",
              "var notebookContainer = gd.closest('#notebook-container');\n",
              "if (notebookContainer) {{\n",
              "    x.observe(notebookContainer, {childList: true});\n",
              "}}\n",
              "\n",
              "// Listen for the clearing of the current output cell\n",
              "var outputEl = gd.closest('.output');\n",
              "if (outputEl) {{\n",
              "    x.observe(outputEl, {childList: true});\n",
              "}}\n",
              "\n",
              "                        })\n",
              "                };\n",
              "                \n",
              "            </script>\n",
              "        </div>\n",
              "</body>\n",
              "</html>"
            ]
          },
          "metadata": {}
        },
        {
          "output_type": "stream",
          "name": "stdout",
          "text": [
            "cluster index\n",
            "(array([ 11,  27,  33,  40,  41,  46,  49,  56,  60,  63,  68,  71,  72,\n",
            "        76,  77,  81,  82,  88,  92,  93,  95,  97, 102, 103, 104, 112,\n",
            "       113, 117, 120, 121, 124, 134, 145, 147, 151, 152, 168, 175, 180,\n",
            "       181, 184, 186, 190, 193, 194, 207, 211, 212, 215, 220, 223, 227,\n",
            "       228, 242, 244, 247, 249, 255, 256, 258, 269, 271, 280, 292, 294,\n",
            "       295, 297, 299, 302, 306, 314, 315, 318, 322, 323, 324, 325, 326,\n",
            "       327, 328, 332, 334, 339, 349, 352, 355, 356, 360, 374, 383, 384,\n",
            "       415, 417]),)\n",
            "구성요소 개수 : 93\n",
            "각각의 평균 출력\n",
            "0.3002514423870968\n",
            "0.10948191604301077\n",
            "cluster index\n",
            "(array([  0,   1,   6,   7,   8,   9,  10,  13,  14,  21,  24,  25,  29,\n",
            "        30,  34,  35,  36,  37,  42,  45,  48,  50,  51,  55,  57,  62,\n",
            "        74,  75,  78,  80,  87,  96,  98, 105, 114, 119, 131, 144, 150,\n",
            "       156, 157, 160, 161, 163, 166, 167, 182, 183, 188, 192, 200, 203,\n",
            "       208, 209, 213, 216, 218, 219, 224, 225, 229, 230, 235, 245, 246,\n",
            "       253, 259, 263, 265, 267, 268, 275, 276, 277, 287, 289, 293, 301,\n",
            "       310, 311, 312, 320, 330, 331, 335, 340, 342, 346, 350, 351, 353,\n",
            "       354, 357, 361, 362, 364, 365, 369, 371, 376, 380, 381, 386, 388,\n",
            "       389, 391, 393, 398, 407, 411, 416, 418, 420]),)\n",
            "구성요소 개수 : 113\n",
            "각각의 평균 출력\n",
            "0.16847555211504425\n",
            "0.11665325836283186\n",
            "cluster index\n",
            "(array([  2,   3,  15,  16,  28,  32,  43,  44,  47,  58,  61,  65,  66,\n",
            "        67,  69,  70,  73,  79,  83,  84,  85,  86,  89,  90,  91,  94,\n",
            "        99, 100, 101, 107, 108, 109, 115, 116, 122, 123, 125, 126, 127,\n",
            "       128, 129, 130, 133, 135, 136, 137, 138, 139, 141, 142, 143, 148,\n",
            "       155, 172, 176, 177, 178, 179, 185, 189, 191, 196, 197, 199, 201,\n",
            "       202, 204, 205, 210, 214, 226, 239, 248, 254, 264, 266, 270, 272,\n",
            "       273, 274, 278, 279, 281, 283, 284, 285, 291, 298, 300, 304, 305,\n",
            "       307, 308, 309, 313, 316, 317, 319, 321, 329, 333, 336, 337, 338,\n",
            "       359, 379, 392, 414, 421, 422, 423]),)\n",
            "구성요소 개수 : 111\n",
            "각각의 평균 출력\n",
            "0.4787925915675677\n",
            "0.19656019673873876\n",
            "cluster index\n",
            "(array([  4,   5,  12,  17,  18,  19,  20,  22,  23,  26,  31,  38,  39,\n",
            "        52,  53,  54,  59,  64, 106, 110, 111, 118, 132, 140, 146, 149,\n",
            "       153, 154, 158, 159, 162, 164, 165, 169, 170, 171, 173, 174, 187,\n",
            "       195, 198, 206, 217, 221, 222, 231, 232, 233, 234, 236, 237, 238,\n",
            "       240, 241, 243, 250, 251, 252, 257, 260, 261, 262, 282, 286, 288,\n",
            "       290, 296, 303, 341, 343, 344, 345, 347, 348, 358, 363, 366, 367,\n",
            "       368, 370, 372, 373, 375, 377, 378, 382, 385, 387, 390, 394, 395,\n",
            "       396, 397, 399, 400, 401, 402, 403, 404, 405, 406, 408, 409, 410,\n",
            "       412, 413, 419]),)\n",
            "구성요소 개수 : 107\n",
            "각각의 평균 출력\n",
            "0.04038138826168224\n",
            "0.07476635521495326\n"
          ]
        },
        {
          "output_type": "display_data",
          "data": {
            "image/png": "[encoded data removed]",
            "text/plain": [
              "<Figure size 432x288 with 1 Axes>"
            ]
          },
          "metadata": {
            "image/png": {
              "width": 372,
              "height": 248
            },
            "needs_background": "light"
          }
        }
      ]
    },
    {
      "cell_type": "markdown",
      "metadata": {
        "id": "jrYObbLxSd7q"
      },
      "source": [
        "# **최종 입지 선정 및 변인 값 비교**"
      ]
    },
    {
      "cell_type": "code",
      "metadata": {
        "colab": {
          "base_uri": "https://localhost:8080/"
        },
        "id": "CVX4M_EBdxc4",
        "outputId": "5aa989d1-d9ad-4e1b-bfc3-4240c6b0544b"
      },
      "source": [
        "#합집합 구하기\n",
        "list1 = [  3,  47,  86, 101, 107, 116, 125, 129, 136, 138, 139, 142, 205,\n",
        "       270, 272]\n",
        "\n",
        "list2 = [  6,   8,   9,  11,  27,  33,  41,  42,  49,  50,  58,  60,  61,\n",
        "        63,  65,  68,  71,  72,  74,  76,  80,  81,  82,  83,  88,  89,\n",
        "        90,  92,  93,  94,  95,  96,  97,  98, 102, 103, 104, 112, 113,\n",
        "       115, 117, 120, 121, 127, 128, 134, 143, 145, 147, 151, 163, 167,\n",
        "       168, 177, 180, 181, 182, 185, 186, 190, 193, 203, 212, 215, 216,\n",
        "       227, 228, 242, 244, 245, 247, 256, 258, 266, 271, 273, 280, 285,\n",
        "       292, 294, 295, 297, 300, 302, 310, 311, 314, 315, 317, 318, 322,\n",
        "       324, 326, 328, 334, 339, 349, 355, 360, 376, 383, 384, 389, 391,\n",
        "       414, 415, 417, 421]\n",
        "\n",
        "union2 = list(set(list1) | set(list2))\n",
        "print( union2 ) #합집합"
      ],
      "execution_count": null,
      "outputs": [
        {
          "output_type": "stream",
          "name": "stdout",
          "text": [
            "[256, 258, 3, 6, 8, 9, 266, 11, 270, 271, 272, 273, 280, 27, 285, 33, 292, 294, 295, 41, 42, 297, 300, 302, 47, 49, 50, 310, 311, 58, 314, 60, 61, 315, 63, 317, 65, 318, 322, 68, 324, 326, 71, 72, 328, 74, 76, 334, 80, 81, 82, 83, 339, 86, 88, 89, 90, 92, 93, 94, 95, 96, 97, 98, 349, 355, 101, 102, 103, 104, 360, 107, 112, 113, 115, 116, 117, 120, 121, 376, 125, 127, 128, 129, 383, 384, 389, 134, 391, 136, 138, 139, 142, 143, 145, 147, 151, 414, 415, 417, 163, 421, 167, 168, 177, 180, 181, 182, 185, 186, 190, 193, 203, 205, 212, 215, 216, 227, 228, 242, 244, 245, 247]\n"
          ]
        }
      ]
    },
    {
      "cell_type": "code",
      "metadata": {
        "colab": {
          "base_uri": "https://localhost:8080/"
        },
        "id": "QTAUj5WdgtEy",
        "outputId": "02d3b8cf-6e50-46e7-f1e8-9b22af4e3750"
      },
      "source": [
        "len(union2)"
      ],
      "execution_count": null,
      "outputs": [
        {
          "output_type": "execute_result",
          "data": {
            "text/plain": [
              "123"
            ]
          },
          "metadata": {},
          "execution_count": 19
        }
      ]
    },
    {
      "cell_type": "code",
      "metadata": {
        "id": "QfS2hQlAlLzg"
      },
      "source": [
        "union2 = [256, 258, 3, 6, 8, 9, 266, 11, 270, 271, 272, 273, 280, 27, 285, 33,\n",
        "          292, 294, 295, 41, 42, 297, 300, 302, 47, 49, 50, 310, 311, 58, 314, 60,\n",
        "          61, 315, 63, 317, 65, 318, 322, 68, 324, 326, 71, 72, 328, 74, 76, 334, 80,\n",
        "          81, 82, 83, 339, 86, 88, 89, 90, 92, 93, 94, 95, 96, 97, 98, 349, 355, 101, \n",
        "          102, 103, 104, 360, 107, 112, 113, 115, 116, 117, 120, 121, 377, 125, 127, 128, \n",
        "          129, 384, 385, 390, 134, 392, 136, 138, 139, 142, 143, 145, 147, 151, 415, 416, 418,\n",
        "          163, 422, 167, 168, 177, 180, 181, 182, 185, 186, 190, 193, 203, 205, 212, 215, 216, \n",
        "          227, 228, 242, 244, 245, 247]"
      ],
      "execution_count": null,
      "outputs": []
    },
    {
      "cell_type": "code",
      "metadata": {
        "colab": {
          "base_uri": "https://localhost:8080/"
        },
        "id": "Ni4smJNNdzKE",
        "outputId": "ab8491a6-4b86-4981-9ffd-eb5f6ced334d"
      },
      "source": [
        "#최종 교집합 구하기\n",
        "union1 = [24, 25, 26, 28, 29, 30, 44, 46, 47, 48, 49, 51, 54, 56, 57, 58, 62, 63, 66, 67, 68, 70, 72, 73, 74, 76, 77, 79, 88, 89, 107, 108, 126, 128, 130, 135, 137, 142, 147, 151, 156, 158, 159, 174, 175, 191, 201, 205, 216, 217, 218, 220, 239, 241, 243, 244, 248, 250, 251, 252, 254, 257, 258, 262, 263, 264, 266, 269, 272, 273, 277, 278, 279, 280, 281, 284, 285, 287, 288, 290, 305, 307, 308, 309, 310, 313, 317, 324, 334, 337, 339, 341, 342, 344, 346, 355, 360, 362, 364, 365, 366, 372, 374, 375, 377, 381, 387, 390, 392, 393, 394, 398, 399, 415, 416, 422, 423, 424]\n",
        "\n",
        "#지금 union2가 문제..\n",
        "intersection = list(set(union1) & set(union2))\n",
        "print( intersection ) "
      ],
      "execution_count": null,
      "outputs": [
        {
          "output_type": "stream",
          "name": "stdout",
          "text": [
            "[128, 258, 390, 392, 266, 142, 272, 273, 147, 151, 280, 285, 415, 416, 422, 47, 49, 310, 58, 317, 63, 68, 324, 72, 74, 76, 205, 334, 339, 88, 89, 216, 355, 360, 107, 244, 377]\n"
          ]
        }
      ]
    },
    {
      "cell_type": "code",
      "metadata": {
        "colab": {
          "base_uri": "https://localhost:8080/"
        },
        "id": "GrG_58GYfHRw",
        "outputId": "df3c4012-fea6-4459-8b97-1e5955498122"
      },
      "source": [
        "len(intersection)"
      ],
      "execution_count": null,
      "outputs": [
        {
          "output_type": "execute_result",
          "data": {
            "text/plain": [
              "37"
            ]
          },
          "metadata": {},
          "execution_count": 35
        }
      ]
    },
    {
      "cell_type": "code",
      "metadata": {
        "colab": {
          "base_uri": "https://localhost:8080/",
          "height": 1000
        },
        "id": "eu3Go7GJf2Cf",
        "outputId": "cf57d777-896e-4bab-c97f-a02e4eeb13a8"
      },
      "source": [
        "#csv 읽어오기\n",
        "result = pd.read_csv('clustering최종.csv',engine='python',encoding='CP949')\n",
        "#최종 교집합 목록 뽑기\n",
        "final = result.loc[intersection,:]\n",
        "final"
      ],
      "execution_count": null,
      "outputs": [
        {
          "output_type": "execute_result",
          "data": {
            "text/html": [
              "<div>\n",
              "<style scoped>\n",
              "    .dataframe tbody tr th:only-of-type {\n",
              "        vertical-align: middle;\n",
              "    }\n",
              "\n",
              "    .dataframe tbody tr th {\n",
              "        vertical-align: top;\n",
              "    }\n",
              "\n",
              "    .dataframe thead th {\n",
              "        text-align: right;\n",
              "    }\n",
              "</style>\n",
              "<table border=\"1\" class=\"dataframe\">\n",
              "  <thead>\n",
              "    <tr style=\"text-align: right;\">\n",
              "      <th></th>\n",
              "      <th>동</th>\n",
              "      <th>배송어려움정도</th>\n",
              "      <th>택배개수</th>\n",
              "      <th>1인가구비율</th>\n",
              "      <th>무인택배함개수</th>\n",
              "    </tr>\n",
              "  </thead>\n",
              "  <tbody>\n",
              "    <tr>\n",
              "      <th>128</th>\n",
              "      <td>서울특별시 성북구 종암동</td>\n",
              "      <td>0.438993</td>\n",
              "      <td>0.452020</td>\n",
              "      <td>0.406401</td>\n",
              "      <td>0.181818</td>\n",
              "    </tr>\n",
              "    <tr>\n",
              "      <th>258</th>\n",
              "      <td>서울특별시 강서구 화곡1동</td>\n",
              "      <td>0.351862</td>\n",
              "      <td>0.550013</td>\n",
              "      <td>0.513145</td>\n",
              "      <td>0.181818</td>\n",
              "    </tr>\n",
              "    <tr>\n",
              "      <th>390</th>\n",
              "      <td>서울특별시 송파구 송파1동</td>\n",
              "      <td>0.187383</td>\n",
              "      <td>0.461994</td>\n",
              "      <td>0.510476</td>\n",
              "      <td>0.090909</td>\n",
              "    </tr>\n",
              "    <tr>\n",
              "      <th>392</th>\n",
              "      <td>서울특별시 송파구 석촌동</td>\n",
              "      <td>0.222512</td>\n",
              "      <td>0.530414</td>\n",
              "      <td>0.540254</td>\n",
              "      <td>0.090909</td>\n",
              "    </tr>\n",
              "    <tr>\n",
              "      <th>266</th>\n",
              "      <td>서울특별시 구로구 고척2동</td>\n",
              "      <td>0.409487</td>\n",
              "      <td>0.511147</td>\n",
              "      <td>0.310240</td>\n",
              "      <td>0.181818</td>\n",
              "    </tr>\n",
              "    <tr>\n",
              "      <th>142</th>\n",
              "      <td>서울특별시 강북구 인수동</td>\n",
              "      <td>0.720271</td>\n",
              "      <td>0.476749</td>\n",
              "      <td>0.358350</td>\n",
              "      <td>0.181818</td>\n",
              "    </tr>\n",
              "    <tr>\n",
              "      <th>272</th>\n",
              "      <td>서울특별시 구로구 구로2동</td>\n",
              "      <td>0.776836</td>\n",
              "      <td>0.443265</td>\n",
              "      <td>0.475195</td>\n",
              "      <td>0.090909</td>\n",
              "    </tr>\n",
              "    <tr>\n",
              "      <th>273</th>\n",
              "      <td>서울특별시 구로구 개봉1동</td>\n",
              "      <td>0.427663</td>\n",
              "      <td>0.581254</td>\n",
              "      <td>0.303048</td>\n",
              "      <td>0.181818</td>\n",
              "    </tr>\n",
              "    <tr>\n",
              "      <th>147</th>\n",
              "      <td>서울특별시 도봉구 방학1동</td>\n",
              "      <td>0.354145</td>\n",
              "      <td>0.663155</td>\n",
              "      <td>0.352393</td>\n",
              "      <td>0.000000</td>\n",
              "    </tr>\n",
              "    <tr>\n",
              "      <th>151</th>\n",
              "      <td>서울특별시 도봉구 창2동</td>\n",
              "      <td>0.241014</td>\n",
              "      <td>0.544135</td>\n",
              "      <td>0.282261</td>\n",
              "      <td>0.090909</td>\n",
              "    </tr>\n",
              "    <tr>\n",
              "      <th>280</th>\n",
              "      <td>서울특별시 금천구 독산4동</td>\n",
              "      <td>0.339147</td>\n",
              "      <td>0.508106</td>\n",
              "      <td>0.459285</td>\n",
              "      <td>0.090909</td>\n",
              "    </tr>\n",
              "    <tr>\n",
              "      <th>285</th>\n",
              "      <td>서울특별시 금천구 시흥5동</td>\n",
              "      <td>0.426278</td>\n",
              "      <td>0.537112</td>\n",
              "      <td>0.415656</td>\n",
              "      <td>0.181818</td>\n",
              "    </tr>\n",
              "    <tr>\n",
              "      <th>415</th>\n",
              "      <td>서울특별시 강동구 천호1동</td>\n",
              "      <td>0.363681</td>\n",
              "      <td>0.446205</td>\n",
              "      <td>0.387711</td>\n",
              "      <td>0.181818</td>\n",
              "    </tr>\n",
              "    <tr>\n",
              "      <th>416</th>\n",
              "      <td>서울특별시 강동구 천호3동</td>\n",
              "      <td>0.326595</td>\n",
              "      <td>0.439859</td>\n",
              "      <td>0.518364</td>\n",
              "      <td>0.090909</td>\n",
              "    </tr>\n",
              "    <tr>\n",
              "      <th>422</th>\n",
              "      <td>서울특별시 강동구 암사1동</td>\n",
              "      <td>0.355123</td>\n",
              "      <td>0.517685</td>\n",
              "      <td>0.368977</td>\n",
              "      <td>0.181818</td>\n",
              "    </tr>\n",
              "    <tr>\n",
              "      <th>47</th>\n",
              "      <td>서울특별시 용산구 한남동</td>\n",
              "      <td>0.668270</td>\n",
              "      <td>0.386336</td>\n",
              "      <td>0.542730</td>\n",
              "      <td>0.272727</td>\n",
              "    </tr>\n",
              "    <tr>\n",
              "      <th>49</th>\n",
              "      <td>서울특별시 성동구 마장동</td>\n",
              "      <td>0.323743</td>\n",
              "      <td>0.558412</td>\n",
              "      <td>0.456136</td>\n",
              "      <td>0.000000</td>\n",
              "    </tr>\n",
              "    <tr>\n",
              "      <th>310</th>\n",
              "      <td>서울특별시 동작구 사당3동</td>\n",
              "      <td>0.195370</td>\n",
              "      <td>0.512939</td>\n",
              "      <td>0.307640</td>\n",
              "      <td>0.090909</td>\n",
              "    </tr>\n",
              "    <tr>\n",
              "      <th>58</th>\n",
              "      <td>서울특별시 성동구 성수2가1동</td>\n",
              "      <td>0.412748</td>\n",
              "      <td>0.394808</td>\n",
              "      <td>0.490454</td>\n",
              "      <td>0.090909</td>\n",
              "    </tr>\n",
              "    <tr>\n",
              "      <th>317</th>\n",
              "      <td>서울특별시 동작구 노량진1동</td>\n",
              "      <td>0.364251</td>\n",
              "      <td>0.521594</td>\n",
              "      <td>0.485202</td>\n",
              "      <td>0.181818</td>\n",
              "    </tr>\n",
              "    <tr>\n",
              "      <th>63</th>\n",
              "      <td>서울특별시 성동구 금호2·3가동</td>\n",
              "      <td>0.269949</td>\n",
              "      <td>0.683757</td>\n",
              "      <td>0.311792</td>\n",
              "      <td>0.090909</td>\n",
              "    </tr>\n",
              "    <tr>\n",
              "      <th>68</th>\n",
              "      <td>서울특별시 광진구 중곡2동</td>\n",
              "      <td>0.319341</td>\n",
              "      <td>0.528142</td>\n",
              "      <td>0.477159</td>\n",
              "      <td>0.181818</td>\n",
              "    </tr>\n",
              "    <tr>\n",
              "      <th>324</th>\n",
              "      <td>서울특별시 관악구 인헌동</td>\n",
              "      <td>0.375744</td>\n",
              "      <td>0.383476</td>\n",
              "      <td>0.645111</td>\n",
              "      <td>0.090909</td>\n",
              "    </tr>\n",
              "    <tr>\n",
              "      <th>72</th>\n",
              "      <td>서울특별시 광진구 구의1동</td>\n",
              "      <td>0.309153</td>\n",
              "      <td>0.495485</td>\n",
              "      <td>0.637185</td>\n",
              "      <td>0.181818</td>\n",
              "    </tr>\n",
              "    <tr>\n",
              "      <th>74</th>\n",
              "      <td>서울특별시 광진구 구의3동</td>\n",
              "      <td>0.180862</td>\n",
              "      <td>0.661997</td>\n",
              "      <td>0.319653</td>\n",
              "      <td>0.000000</td>\n",
              "    </tr>\n",
              "    <tr>\n",
              "      <th>76</th>\n",
              "      <td>서울특별시 광진구 자양1동</td>\n",
              "      <td>0.344445</td>\n",
              "      <td>0.532797</td>\n",
              "      <td>0.542108</td>\n",
              "      <td>0.090909</td>\n",
              "    </tr>\n",
              "    <tr>\n",
              "      <th>205</th>\n",
              "      <td>서울특별시 서대문구 연희동</td>\n",
              "      <td>1.000000</td>\n",
              "      <td>0.396762</td>\n",
              "      <td>0.611324</td>\n",
              "      <td>0.181818</td>\n",
              "    </tr>\n",
              "    <tr>\n",
              "      <th>334</th>\n",
              "      <td>서울특별시 관악구 은천동</td>\n",
              "      <td>0.317711</td>\n",
              "      <td>0.415405</td>\n",
              "      <td>0.466850</td>\n",
              "      <td>0.000000</td>\n",
              "    </tr>\n",
              "    <tr>\n",
              "      <th>339</th>\n",
              "      <td>서울특별시 관악구 미성동</td>\n",
              "      <td>0.393594</td>\n",
              "      <td>0.447128</td>\n",
              "      <td>0.386527</td>\n",
              "      <td>0.090909</td>\n",
              "    </tr>\n",
              "    <tr>\n",
              "      <th>88</th>\n",
              "      <td>서울특별시 동대문구 답십리2동</td>\n",
              "      <td>0.238243</td>\n",
              "      <td>0.496000</td>\n",
              "      <td>0.338284</td>\n",
              "      <td>0.000000</td>\n",
              "    </tr>\n",
              "    <tr>\n",
              "      <th>89</th>\n",
              "      <td>서울특별시 동대문구 장안1동</td>\n",
              "      <td>0.412829</td>\n",
              "      <td>0.504268</td>\n",
              "      <td>0.410709</td>\n",
              "      <td>0.181818</td>\n",
              "    </tr>\n",
              "    <tr>\n",
              "      <th>216</th>\n",
              "      <td>서울특별시 마포구 성산2동</td>\n",
              "      <td>0.205151</td>\n",
              "      <td>0.638668</td>\n",
              "      <td>0.465658</td>\n",
              "      <td>0.090909</td>\n",
              "    </tr>\n",
              "    <tr>\n",
              "      <th>355</th>\n",
              "      <td>서울특별시 서초구 양재1동</td>\n",
              "      <td>0.343630</td>\n",
              "      <td>0.620040</td>\n",
              "      <td>0.327025</td>\n",
              "      <td>0.181818</td>\n",
              "    </tr>\n",
              "    <tr>\n",
              "      <th>360</th>\n",
              "      <td>서울특별시 강남구 논현2동</td>\n",
              "      <td>0.314614</td>\n",
              "      <td>0.365053</td>\n",
              "      <td>0.567635</td>\n",
              "      <td>0.181818</td>\n",
              "    </tr>\n",
              "    <tr>\n",
              "      <th>107</th>\n",
              "      <td>서울특별시 중랑구 면목본동</td>\n",
              "      <td>0.702991</td>\n",
              "      <td>0.408460</td>\n",
              "      <td>0.496463</td>\n",
              "      <td>0.090909</td>\n",
              "    </tr>\n",
              "    <tr>\n",
              "      <th>244</th>\n",
              "      <td>서울특별시 강서구 화곡본동</td>\n",
              "      <td>0.332056</td>\n",
              "      <td>0.476814</td>\n",
              "      <td>0.451540</td>\n",
              "      <td>0.090909</td>\n",
              "    </tr>\n",
              "    <tr>\n",
              "      <th>377</th>\n",
              "      <td>서울특별시 강남구 청담동</td>\n",
              "      <td>0.225609</td>\n",
              "      <td>0.490578</td>\n",
              "      <td>0.364809</td>\n",
              "      <td>0.000000</td>\n",
              "    </tr>\n",
              "  </tbody>\n",
              "</table>\n",
              "</div>"
            ],
            "text/plain": [
              "                     동   배송어려움정도      택배개수    1인가구비율   무인택배함개수\n",
              "128      서울특별시 성북구 종암동  0.438993  0.452020  0.406401  0.181818\n",
              "258     서울특별시 강서구 화곡1동  0.351862  0.550013  0.513145  0.181818\n",
              "390     서울특별시 송파구 송파1동  0.187383  0.461994  0.510476  0.090909\n",
              "392      서울특별시 송파구 석촌동  0.222512  0.530414  0.540254  0.090909\n",
              "266     서울특별시 구로구 고척2동  0.409487  0.511147  0.310240  0.181818\n",
              "142      서울특별시 강북구 인수동  0.720271  0.476749  0.358350  0.181818\n",
              "272     서울특별시 구로구 구로2동  0.776836  0.443265  0.475195  0.090909\n",
              "273     서울특별시 구로구 개봉1동  0.427663  0.581254  0.303048  0.181818\n",
              "147     서울특별시 도봉구 방학1동  0.354145  0.663155  0.352393  0.000000\n",
              "151      서울특별시 도봉구 창2동  0.241014  0.544135  0.282261  0.090909\n",
              "280     서울특별시 금천구 독산4동  0.339147  0.508106  0.459285  0.090909\n",
              "285     서울특별시 금천구 시흥5동  0.426278  0.537112  0.415656  0.181818\n",
              "415     서울특별시 강동구 천호1동  0.363681  0.446205  0.387711  0.181818\n",
              "416     서울특별시 강동구 천호3동  0.326595  0.439859  0.518364  0.090909\n",
              "422     서울특별시 강동구 암사1동  0.355123  0.517685  0.368977  0.181818\n",
              "47       서울특별시 용산구 한남동  0.668270  0.386336  0.542730  0.272727\n",
              "49       서울특별시 성동구 마장동  0.323743  0.558412  0.456136  0.000000\n",
              "310     서울특별시 동작구 사당3동  0.195370  0.512939  0.307640  0.090909\n",
              "58    서울특별시 성동구 성수2가1동  0.412748  0.394808  0.490454  0.090909\n",
              "317    서울특별시 동작구 노량진1동  0.364251  0.521594  0.485202  0.181818\n",
              "63   서울특별시 성동구 금호2·3가동  0.269949  0.683757  0.311792  0.090909\n",
              "68      서울특별시 광진구 중곡2동  0.319341  0.528142  0.477159  0.181818\n",
              "324      서울특별시 관악구 인헌동  0.375744  0.383476  0.645111  0.090909\n",
              "72      서울특별시 광진구 구의1동  0.309153  0.495485  0.637185  0.181818\n",
              "74      서울특별시 광진구 구의3동  0.180862  0.661997  0.319653  0.000000\n",
              "76      서울특별시 광진구 자양1동  0.344445  0.532797  0.542108  0.090909\n",
              "205     서울특별시 서대문구 연희동  1.000000  0.396762  0.611324  0.181818\n",
              "334      서울특별시 관악구 은천동  0.317711  0.415405  0.466850  0.000000\n",
              "339      서울특별시 관악구 미성동  0.393594  0.447128  0.386527  0.090909\n",
              "88    서울특별시 동대문구 답십리2동  0.238243  0.496000  0.338284  0.000000\n",
              "89     서울특별시 동대문구 장안1동  0.412829  0.504268  0.410709  0.181818\n",
              "216     서울특별시 마포구 성산2동  0.205151  0.638668  0.465658  0.090909\n",
              "355     서울특별시 서초구 양재1동  0.343630  0.620040  0.327025  0.181818\n",
              "360     서울특별시 강남구 논현2동  0.314614  0.365053  0.567635  0.181818\n",
              "107     서울특별시 중랑구 면목본동  0.702991  0.408460  0.496463  0.090909\n",
              "244     서울특별시 강서구 화곡본동  0.332056  0.476814  0.451540  0.090909\n",
              "377      서울특별시 강남구 청담동  0.225609  0.490578  0.364809  0.000000"
            ]
          },
          "metadata": {},
          "execution_count": 36
        }
      ]
    },
    {
      "cell_type": "code",
      "metadata": {
        "colab": {
          "base_uri": "https://localhost:8080/"
        },
        "id": "ftL_-RqpfOqA",
        "outputId": "41c39c45-9c54-4429-a358-d56acfe2f873"
      },
      "source": [
        "#전체 데이터의 4개 변인 평균\n",
        "print(result['배송어려움정도'].mean())\n",
        "print(result['택배개수'].mean())\n",
        "print(result['1인가구비율'].mean())\n",
        "print(result['무인택배함개수'].mean())"
      ],
      "execution_count": null,
      "outputs": [
        {
          "output_type": "stream",
          "name": "stdout",
          "text": [
            "0.24697770086352938\n",
            "0.4220513955439997\n",
            "0.4067012308407056\n",
            "0.12748663110517652\n"
          ]
        }
      ]
    },
    {
      "cell_type": "code",
      "metadata": {
        "colab": {
          "base_uri": "https://localhost:8080/"
        },
        "id": "VgaFe4kLfz4e",
        "outputId": "5469966e-66db-4330-9270-3ec924abbb49"
      },
      "source": [
        "#target 지역 4개 변인 평균\n",
        "print(final['배송어려움정도'].mean())\n",
        "print(final['택배개수'].mean())\n",
        "print(final['1인가구비율'].mean())\n",
        "print(final['무인택배함개수'].mean())"
      ],
      "execution_count": null,
      "outputs": [
        {
          "output_type": "stream",
          "name": "stdout",
          "text": [
            "0.3835485171621622\n",
            "0.5022170583243243\n",
            "0.440641916945946\n",
            "0.11793611801351353\n"
          ]
        }
      ]
    },
    {
      "cell_type": "code",
      "metadata": {
        "id": "B4owymkSjKyC"
      },
      "source": [
        ""
      ],
      "execution_count": null,
      "outputs": []
    }
  ]
}